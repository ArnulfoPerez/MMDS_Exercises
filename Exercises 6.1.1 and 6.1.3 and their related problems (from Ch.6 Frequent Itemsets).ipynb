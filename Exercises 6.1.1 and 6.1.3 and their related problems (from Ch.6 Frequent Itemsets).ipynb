{
 "cells": [
  {
   "cell_type": "code",
   "execution_count": null,
   "metadata": {
    "collapsed": true
   },
   "outputs": [],
   "source": [
    "import numpy as np"
   ]
  },
  {
   "cell_type": "markdown",
   "metadata": {
    "collapsed": true
   },
   "source": [
    "### Exercise 6.1.1:\n",
    "Suppose there are 100 items, numbered 1 to 100, and also 100 baskets, also numbered 1 to 100. Item `i` is in basket `b` if and only if `i` divides `b` with no remainder. Thus, item 1 is in all the baskets, item 2 is in all fifty of the even-numbered baskets, and so on. Basket 12 consists of items {1,2,3,4,6,12}, since these are all the integers that divide 12. Answer the following questions:\n",
    "\n",
    "(a) If the support threshold is 5, which items are frequent?\n",
    "\n",
    "(b) If the support threshold is 5, which pairs of items are frequent?\n",
    "\n",
    "(c) What is the sum of the sizes of all the baskets?"
   ]
  },
  {
   "cell_type": "markdown",
   "metadata": {},
   "source": [
    "#### Solution:\n",
    "\n",
    "(a) Item `i` is in basket `b` if `i` is a factor of `b`. In other words, `i` is in basket `b` if and only if there exists a constant integer `k`>=1 such that `b=k*i`. As a result, item `i` is found in 5 or more baskets if `100/i >=5`. Therefore items {1},{2},...,{20} represent the frequent singletons.\n",
    "\n",
    "(b) To find the pairs `(i,j)` that are frequent, we make use of the following two facts: \n",
    "\n",
    "1. If both `i` and `j` are factors of `b` and `(i*j)<=b`, then `i*j` is also a factor of `b`. (**Proof:** Since `i` is a factor of `b`, there exists a constant `k1` such that `b=k1*i`. Furthermore, our assumption of `(i*j)<=b` coupled with the fact that `j` is also a factor of `b` necessarily implies that `k1=k2*j` for some `k2>=1`. As a result, `b=k2*(j*i)`.) Hence, if `i`, `j`, and `(i*j)` are all frequent singletons, then the pair (`i,j`) is a frequent doubleton.\n",
    "\n",
    "2. If `j` is frequent and `j mod i = 0`, then the support of `j` is a subset of the support of `i`. As a result `i` must be in every basket that `j` is in, and so the pair `(i,j)` is frequent.\n",
    "\n",
    "It follows from facts 1. and 2. that a pair `(i,j)` (for `i<j=1,2,..,20`) is frequent if either of the conditions [`i*j<=20`] or [`j mod i = 0`] hold. The frequent pairs are:\n",
    "- `(1,j)` for `j=2,3,...,20`\n",
    "- `(2,j)` for `j=3,4,...,10` and `j=12,14,16,18,20`\n",
    "- `(3,j)` for `j=4,5,6` and `j=9,12,15,18`\n",
    "- `(4,j)` for `j=5` and `j=8,12,16,20`\n",
    "- `(5,j)` for `j=10,15,20`\n",
    "- `(6,j)` for `j=12,18`\n",
    "- `(7,14)`\n",
    "- `(8,16)`\n",
    "- `(9,18)`\n",
    "- `(10,20)`\n",
    "\n",
    "(c) Define, `num_factors(b)` as the number of factors that b has. Then sum of the sizes all baskets = `sum(num_factors(b), b=1,2,...,20)`."
   ]
  },
  {
   "cell_type": "markdown",
   "metadata": {},
   "source": [
    "So, I didn't feel like thinking about how to grab prime factors of a number myself, so I stackoverflow'ed this. [Here](http://stackoverflow.com/questions/16996217/prime-factorization-list) is simple function to extract the prime factors of a list (it essentially follows how one would find prime factors by hand). "
   ]
  },
  {
   "cell_type": "code",
   "execution_count": 21,
   "metadata": {
    "collapsed": true
   },
   "outputs": [],
   "source": [
    "def primes(n):\n",
    "    primfac = []\n",
    "    d = 2\n",
    "    while d*d <= n:\n",
    "        while (n % d) == 0:\n",
    "            primfac.append(d)  # supposing you want multiple factors repeated\n",
    "            n /= d\n",
    "        d += 1\n",
    "    if n > 1:\n",
    "        primfac.append(n)\n",
    "    return primfac"
   ]
  },
  {
   "cell_type": "code",
   "execution_count": 48,
   "metadata": {
    "collapsed": false
   },
   "outputs": [],
   "source": [
    "# create dictionaries for prime factors of baskets 1,2,...,100\n",
    "primefactors = {}\n",
    "for b in range(1,101):\n",
    "    # initializing the dictionary for each basket b\n",
    "    primefactors[b] = {fac:0 for fac in primes(b)}\n",
    "    for key in primes(b):\n",
    "        primefactors[b][key] += 1"
   ]
  },
  {
   "cell_type": "code",
   "execution_count": 53,
   "metadata": {
    "collapsed": false
   },
   "outputs": [
    {
     "data": {
      "text/plain": [
       "{2: 2, 3: 1}"
      ]
     },
     "execution_count": 53,
     "metadata": {},
     "output_type": "execute_result"
    }
   ],
   "source": [
    "# for example, the prime factorization of 12 = 2^2 * 3\n",
    "primefactors[12]"
   ]
  },
  {
   "cell_type": "markdown",
   "metadata": {},
   "source": [
    "To get the number of factors of 12, we add 1 to each of the replications of its factors and apply the multiplication rule. So 12 has (2+1)*(1+1)=6 factors in total."
   ]
  },
  {
   "cell_type": "code",
   "execution_count": 61,
   "metadata": {
    "collapsed": true
   },
   "outputs": [],
   "source": [
    "# to get number of factors, we add 1 to each rep of factor and apply multiplication rule\n",
    "def num_factors(b):\n",
    "    numfac = 1\n",
    "    for fac,reps in primefactors[b].items():\n",
    "        numfac *= reps + 1\n",
    "    return numfac"
   ]
  },
  {
   "cell_type": "code",
   "execution_count": 62,
   "metadata": {
    "collapsed": false
   },
   "outputs": [
    {
     "data": {
      "text/plain": [
       "6"
      ]
     },
     "execution_count": 62,
     "metadata": {},
     "output_type": "execute_result"
    }
   ],
   "source": [
    "num_factors(12)"
   ]
  },
  {
   "cell_type": "code",
   "execution_count": 68,
   "metadata": {
    "collapsed": false
   },
   "outputs": [],
   "source": [
    "# sum of the sizes of all baskets\n",
    "sizeofbaskets = [num_factors(b) for b in range(1,101)]\n",
    "totalsize = sum(sizeofbaskets)"
   ]
  },
  {
   "cell_type": "code",
   "execution_count": 69,
   "metadata": {
    "collapsed": false
   },
   "outputs": [
    {
     "data": {
      "text/plain": [
       "482"
      ]
     },
     "execution_count": 69,
     "metadata": {},
     "output_type": "execute_result"
    }
   ],
   "source": [
    "totalsize"
   ]
  },
  {
   "cell_type": "markdown",
   "metadata": {},
   "source": [
    "### Exercise 6.1.2\n",
    "For the item-basket data of Exercise 6.1.1, which basket is the largest?"
   ]
  },
  {
   "cell_type": "code",
   "execution_count": 70,
   "metadata": {
    "collapsed": false
   },
   "outputs": [
    {
     "data": {
      "text/plain": [
       "12"
      ]
     },
     "execution_count": 70,
     "metadata": {},
     "output_type": "execute_result"
    }
   ],
   "source": [
    "# the largest baskets hav 12 items\n",
    "max(sizeofbaskets)"
   ]
  },
  {
   "cell_type": "code",
   "execution_count": 71,
   "metadata": {
    "collapsed": false
   },
   "outputs": [
    {
     "name": "stdout",
     "output_type": "stream",
     "text": [
      "60\n",
      "72\n",
      "84\n",
      "90\n",
      "96\n"
     ]
    }
   ],
   "source": [
    "# these baskets are\n",
    "for b in range(1,101):\n",
    "    if num_factors(b) == 12:\n",
    "        print b"
   ]
  },
  {
   "cell_type": "markdown",
   "metadata": {},
   "source": [
    "### Exercise 6.1.3\n",
    "Suppose there are 100 items, numbered 1 to 100, and also 100 baskets, also numbered 1 to 100. Item `i` is in basket `b` if and only if `b` divides `i` with no remainder. For example, basket 12 consists of items {12,24,36,48,60,72,84,96}. Repeat Exercise 6.1.1 for this data."
   ]
  },
  {
   "cell_type": "markdown",
   "metadata": {},
   "source": [
    "#### Solution\n",
    "\n",
    "(a) Basket `b` consists of items which are multiples of `b`. Alternatively, item `i` is in basket `b` if `b` is a factor of `i`. Thus, item `i` is frequent if it has at least 5 factors."
   ]
  },
  {
   "cell_type": "code",
   "execution_count": 73,
   "metadata": {
    "collapsed": false
   },
   "outputs": [],
   "source": [
    "# List of frequent items\n",
    "L1 = [b for b in range(1,101) if num_factors(b)>=5]"
   ]
  },
  {
   "cell_type": "code",
   "execution_count": 75,
   "metadata": {
    "collapsed": false
   },
   "outputs": [
    {
     "name": "stdout",
     "output_type": "stream",
     "text": [
      "12 16 18 20 24 28 30 32 36 40 42 44 45 48 50 52 54 56 60 63 64 66 68 70 72 75 76 78 80 81 84 88 90 92 96 98 99 100\n"
     ]
    }
   ],
   "source": [
    "for b in L1:\n",
    "    print b,"
   ]
  },
  {
   "cell_type": "markdown",
   "metadata": {},
   "source": [
    "(b) Clearly, `(i,j)` represent a frequent pair if `i` and `j` share at least 5 common factors."
   ]
  },
  {
   "cell_type": "code",
   "execution_count": 181,
   "metadata": {
    "collapsed": false
   },
   "outputs": [],
   "source": [
    "def lexorders_ofexp(b):\n",
    "    \"\"\"\n",
    "    This function returns the lexicographic ordering of the exponents\n",
    "    of the prime factors of b. We can use this to get all the factors\n",
    "    of b.\n",
    "    \"\"\"\n",
    "    n = len(primefactors[b])\n",
    "    ati = primefactors[b].values()\n",
    "    foo = []\n",
    "    if n == 1:\n",
    "        for j in range(ati[0]+1):\n",
    "            foo.append([j])\n",
    "    if n == 2:\n",
    "        i = 0\n",
    "        while i < ati[0]+1:\n",
    "            j = 0\n",
    "            while j < ati[1]+1:\n",
    "                foo.append([i,j])\n",
    "                j+=1\n",
    "            i+=1\n",
    "    if n == 3:\n",
    "        i = 0\n",
    "        while i < ati[0]+1:\n",
    "            j = 0\n",
    "            while j < ati[1]+1:\n",
    "                k = 0\n",
    "                while k < ati[2]+1:\n",
    "                    foo.append([i,j,k])\n",
    "                    k+=1\n",
    "                j+=1\n",
    "            i+=1\n",
    "    return foo        "
   ]
  },
  {
   "cell_type": "code",
   "execution_count": 182,
   "metadata": {
    "collapsed": false
   },
   "outputs": [],
   "source": [
    "# getting all factors of b from its prime factors\n",
    "def factors(b):\n",
    "    facs = []\n",
    "    exps = lexorders_ofexp(b)\n",
    "    for i in range(num_factors(b)):\n",
    "        bar = 1 # this also takes care of base case factors(1)\n",
    "        for el,key in enumerate(primefactors[b].keys()):\n",
    "            bar *= key**exps[i][el]\n",
    "        facs.append(bar)\n",
    "    return facs"
   ]
  },
  {
   "cell_type": "code",
   "execution_count": 198,
   "metadata": {
    "collapsed": false
   },
   "outputs": [],
   "source": [
    "def num_commonfactors(b1,b2):\n",
    "    foo = factors(b1)\n",
    "    bar = factors(b2)\n",
    "    return len([el for el in factors(b1) if el in factors(b2)])"
   ]
  },
  {
   "cell_type": "code",
   "execution_count": 199,
   "metadata": {
    "collapsed": false
   },
   "outputs": [
    {
     "data": {
      "text/plain": [
       "[1, 3, 9, 2, 6, 18, 4, 12, 36, 8, 24, 72]"
      ]
     },
     "execution_count": 199,
     "metadata": {},
     "output_type": "execute_result"
    }
   ],
   "source": [
    "factors(72)"
   ]
  },
  {
   "cell_type": "code",
   "execution_count": 200,
   "metadata": {
    "collapsed": false
   },
   "outputs": [
    {
     "data": {
      "text/plain": [
       "[1, 3, 2, 6, 4, 12]"
      ]
     },
     "execution_count": 200,
     "metadata": {},
     "output_type": "execute_result"
    }
   ],
   "source": [
    "factors(12)"
   ]
  },
  {
   "cell_type": "code",
   "execution_count": 202,
   "metadata": {
    "collapsed": false
   },
   "outputs": [
    {
     "data": {
      "text/plain": [
       "[1, 3, 2, 6, 4, 12]"
      ]
     },
     "execution_count": 202,
     "metadata": {},
     "output_type": "execute_result"
    }
   ],
   "source": [
    "# common factors\n",
    "[el for el in factors(12) if el in factors(72)]"
   ]
  },
  {
   "cell_type": "code",
   "execution_count": 203,
   "metadata": {
    "collapsed": false
   },
   "outputs": [
    {
     "data": {
      "text/plain": [
       "6"
      ]
     },
     "execution_count": 203,
     "metadata": {},
     "output_type": "execute_result"
    }
   ],
   "source": [
    "num_commonfactors(12,72)"
   ]
  },
  {
   "cell_type": "markdown",
   "metadata": {},
   "source": [
    "#### We are now ready to grab the frequent pairs."
   ]
  },
  {
   "cell_type": "code",
   "execution_count": 210,
   "metadata": {
    "collapsed": false
   },
   "outputs": [
    {
     "name": "stdout",
     "output_type": "stream",
     "text": [
      "(12, 24) (12, 36) (12, 48) (12, 60) (12, 72) (12, 84) (12, 96) (16, 32) (16, 48) (16, 64) (16, 80) (16, 96) (18, 36) (18, 54) (18, 72) (18, 90) (20, 40) (20, 60) (20, 80) (20, 100) (24, 36) (24, 48) (24, 60) (24, 72) (24, 84) (24, 96) (28, 56) (28, 84) (30, 60) (30, 90) (32, 48) (32, 64) (32, 80) (32, 96) (36, 48) (36, 54) (36, 60) (36, 72) (36, 84) (36, 90) (36, 96) (40, 60) (40, 80) (40, 100) (42, 84) (44, 88) (45, 90) (48, 60) (48, 64) (48, 72) (48, 80) (48, 84) (48, 96) (50, 100) (54, 72) (54, 90) (56, 84) (60, 72) (60, 80) (60, 84) (60, 90) (60, 96) (60, 100) (64, 80) (64, 96) (72, 84) (72, 90) (72, 96) (80, 96) (80, 100) (84, 96)\n"
     ]
    }
   ],
   "source": [
    "# List of pairs (i,j) with at least 5 common factors\n",
    "for i in range(1,100):\n",
    "    for j in range(i+1,101):\n",
    "        if num_commonfactors(i,j) >= 5:\n",
    "            print (i,j),"
   ]
  },
  {
   "cell_type": "markdown",
   "metadata": {},
   "source": [
    "(c) The size of basket `b` is `floor(100/b)`"
   ]
  },
  {
   "cell_type": "code",
   "execution_count": 215,
   "metadata": {
    "collapsed": false
   },
   "outputs": [
    {
     "data": {
      "text/plain": [
       "482"
      ]
     },
     "execution_count": 215,
     "metadata": {},
     "output_type": "execute_result"
    }
   ],
   "source": [
    "sizeofbaskets = [int(100/b) for b in range(1,101)]\n",
    "totalsize = sum(sizeofbaskets)\n",
    "totalsize"
   ]
  }
 ],
 "metadata": {
  "kernelspec": {
   "display_name": "Python 2",
   "language": "python",
   "name": "python2"
  },
  "language_info": {
   "codemirror_mode": {
    "name": "ipython",
    "version": 2
   },
   "file_extension": ".py",
   "mimetype": "text/x-python",
   "name": "python",
   "nbconvert_exporter": "python",
   "pygments_lexer": "ipython2",
   "version": "2.7.11"
  }
 },
 "nbformat": 4,
 "nbformat_minor": 0
}
