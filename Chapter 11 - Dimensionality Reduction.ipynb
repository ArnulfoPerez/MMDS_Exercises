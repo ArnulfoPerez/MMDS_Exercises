{
 "cells": [
  {
   "cell_type": "markdown",
   "metadata": {},
   "source": [
    "## Contents\n",
    "- <a href='#11-1-1'>Exercise 11.1.1</a>\n",
    "- <a href='#11-1-2'>Exercise 11.1.2</a>"
   ]
  },
  {
   "cell_type": "code",
   "execution_count": 1,
   "metadata": {
    "collapsed": true
   },
   "outputs": [],
   "source": [
    "import numpy as np\n",
    "from __future__ import division"
   ]
  },
  {
   "cell_type": "markdown",
   "metadata": {},
   "source": [
    "# 11.1.1"
   ]
  },
  {
   "cell_type": "code",
   "execution_count": 10,
   "metadata": {
    "collapsed": false
   },
   "outputs": [],
   "source": [
    "# unit vector in same direction as [1,2,3]\n",
    "a = np.arange(1,4)\n",
    "a_unit = a/np.sqrt(np.dot(a,a))"
   ]
  },
  {
   "cell_type": "code",
   "execution_count": 11,
   "metadata": {
    "collapsed": false
   },
   "outputs": [
    {
     "name": "stdout",
     "output_type": "stream",
     "text": [
      "[1 2 3]\n",
      "[ 0.26726124  0.53452248  0.80178373]\n"
     ]
    }
   ],
   "source": [
    "print a\n",
    "print a_unit"
   ]
  },
  {
   "cell_type": "markdown",
   "metadata": {},
   "source": [
    "<a id='11-1-2'></a>\n",
    "# 11.1.2"
   ]
  },
  {
   "cell_type": "markdown",
   "metadata": {},
   "source": [
    "Using power-iteration method to find the second eigenpair of M"
   ]
  },
  {
   "cell_type": "code",
   "execution_count": 196,
   "metadata": {
    "collapsed": false
   },
   "outputs": [
    {
     "data": {
      "text/plain": [
       "matrix([[3, 2],\n",
       "        [2, 6]])"
      ]
     },
     "execution_count": 196,
     "metadata": {},
     "output_type": "execute_result"
    }
   ],
   "source": [
    "M = np.array([3,2,2,6]).reshape(2,2)\n",
    "M = np.asmatrix(M)\n",
    "M"
   ]
  },
  {
   "cell_type": "code",
   "execution_count": 122,
   "metadata": {
    "collapsed": false
   },
   "outputs": [
    {
     "data": {
      "text/plain": [
       "array([[ 2.601, -0.797],\n",
       "       [-0.797,  0.413]])"
      ]
     },
     "execution_count": 122,
     "metadata": {},
     "output_type": "execute_result"
    }
   ],
   "source": [
    "Ms = np.array([2.601,-0.797,-0.797,0.413]).reshape(2,2)\n",
    "Ms"
   ]
  },
  {
   "cell_type": "code",
   "execution_count": 206,
   "metadata": {
    "collapsed": true
   },
   "outputs": [],
   "source": [
    "def Frobenius(x):\n",
    "    assert type(x) == np.matrix\n",
    "    foo = x.A # converts x to a np.array so we can use ufunc\n",
    "    return np.sqrt(np.sum(foo**2))"
   ]
  },
  {
   "cell_type": "code",
   "execution_count": 246,
   "metadata": {
    "collapsed": true
   },
   "outputs": [],
   "source": [
    "def pow(M,x0=None):\n",
    "    if x0 == None:\n",
    "        x0 = np.ones(len(M))\n",
    "    oldx = np.mat(x0).T\n",
    "    newx = np.mat(np.zeros(len(M))).T\n",
    "    converge = False\n",
    "    while not converge:\n",
    "        newx = np.dot(M,oldx)/Frobenius(np.dot(M,oldx))\n",
    "        if Frobenius(oldx-newx) < 0.001:\n",
    "            converge = True\n",
    "        oldx = newx\n",
    "    \n",
    "    # find eigenvector\n",
    "    lam = ((newx.T*M*newx).A1)[0] # A1 attribute returns a flattened array\n",
    "    return lam,newx"
   ]
  },
  {
   "cell_type": "code",
   "execution_count": 247,
   "metadata": {
    "collapsed": false
   },
   "outputs": [
    {
     "name": "stdout",
     "output_type": "stream",
     "text": [
      "6.9999998356 [[ 0.44737577]\n",
      " [ 0.89434608]]\n"
     ]
    }
   ],
   "source": [
    "lam1, x1 = pow(M)\n",
    "print lam1, x1"
   ]
  },
  {
   "cell_type": "code",
   "execution_count": 245,
   "metadata": {
    "collapsed": false
   },
   "outputs": [
    {
     "data": {
      "text/plain": [
       "[7, 0.44721359549995793, 0.89442719099991586]"
      ]
     },
     "execution_count": 245,
     "metadata": {},
     "output_type": "execute_result"
    }
   ],
   "source": [
    "# exact principle eigenpair\n",
    "[7,1/np.sqrt(5),2/np.sqrt(5)]"
   ]
  },
  {
   "cell_type": "code",
   "execution_count": 250,
   "metadata": {
    "collapsed": false
   },
   "outputs": [
    {
     "data": {
      "text/plain": [
       "matrix([[ 1.59898444, -0.80076134],\n",
       "        [-0.80076134,  0.40101572]])"
      ]
     },
     "execution_count": 250,
     "metadata": {},
     "output_type": "execute_result"
    }
   ],
   "source": [
    "# second eigenvector, use poweriteration on Ms = M - lambda_1 xx.T\n",
    "Ms = M - lam1*(x1*x1.T)\n",
    "Ms"
   ]
  },
  {
   "cell_type": "code",
   "execution_count": 255,
   "metadata": {
    "collapsed": false
   },
   "outputs": [
    {
     "name": "stdout",
     "output_type": "stream",
     "text": [
      "2.00000057541 [[ 0.89414318]\n",
      " [-0.44778116]]\n"
     ]
    }
   ],
   "source": [
    "lam2, x2 = pow(Ms)\n",
    "print lam2, x2"
   ]
  },
  {
   "cell_type": "code",
   "execution_count": 257,
   "metadata": {
    "collapsed": false
   },
   "outputs": [
    {
     "data": {
      "text/plain": [
       "[2, 0.89442719099991586, -0.44721359549995793]"
      ]
     },
     "execution_count": 257,
     "metadata": {},
     "output_type": "execute_result"
    }
   ],
   "source": [
    "# exact second eigenpair\n",
    "[2,2/np.sqrt(5), -1/np.sqrt(5)]"
   ]
  },
  {
   "cell_type": "markdown",
   "metadata": {},
   "source": [
    " "
   ]
  }
 ],
 "metadata": {
  "kernelspec": {
   "display_name": "Python 2",
   "language": "python",
   "name": "python2"
  },
  "language_info": {
   "codemirror_mode": {
    "name": "ipython",
    "version": 2
   },
   "file_extension": ".py",
   "mimetype": "text/x-python",
   "name": "python",
   "nbconvert_exporter": "python",
   "pygments_lexer": "ipython2",
   "version": "2.7.11"
  }
 },
 "nbformat": 4,
 "nbformat_minor": 0
}
