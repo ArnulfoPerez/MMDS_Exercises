{
 "cells": [
  {
   "cell_type": "markdown",
   "metadata": {},
   "source": [
    "## Contents\n",
    "- <a href='#11-1-1'>Exercise 11.1.1</a>\n",
    "- <a href='#11-1-2'>Exercise 11.1.2</a>\n",
    "- <a href='#11-1-6'>Exercise 11.1.6</a>\n",
    "- <a href='#11-1-7'>Exercise 11.1.7</a>\n",
    "- <a href='#11-2-1'>Exercise 11.2.1</a>\n",
    "- <a href='#11-3-1'>Exercise 11.3.1</a>\n",
    "- <a href='#11-3-2'>Exercise 11.3.2</a>"
   ]
  },
  {
   "cell_type": "code",
   "execution_count": 1,
   "metadata": {
    "collapsed": true
   },
   "outputs": [],
   "source": [
    "import numpy as np\n",
    "from __future__ import division"
   ]
  },
  {
   "cell_type": "markdown",
   "metadata": {},
   "source": [
    "# 11.1.1"
   ]
  },
  {
   "cell_type": "code",
   "execution_count": 10,
   "metadata": {
    "collapsed": false
   },
   "outputs": [],
   "source": [
    "# unit vector in same direction as [1,2,3]\n",
    "a = np.arange(1,4)\n",
    "a_unit = a/np.sqrt(np.dot(a,a))"
   ]
  },
  {
   "cell_type": "code",
   "execution_count": 11,
   "metadata": {
    "collapsed": false
   },
   "outputs": [
    {
     "name": "stdout",
     "output_type": "stream",
     "text": [
      "[1 2 3]\n",
      "[ 0.26726124  0.53452248  0.80178373]\n"
     ]
    }
   ],
   "source": [
    "print a\n",
    "print a_unit"
   ]
  },
  {
   "cell_type": "markdown",
   "metadata": {},
   "source": [
    "<a id='11-1-2'></a>\n",
    "# 11.1.2"
   ]
  },
  {
   "cell_type": "markdown",
   "metadata": {},
   "source": [
    "Using power-iteration method to find the second eigenpair of M"
   ]
  },
  {
   "cell_type": "code",
   "execution_count": 325,
   "metadata": {
    "collapsed": false
   },
   "outputs": [
    {
     "data": {
      "text/plain": [
       "matrix([[3, 2],\n",
       "        [2, 6]])"
      ]
     },
     "execution_count": 325,
     "metadata": {},
     "output_type": "execute_result"
    }
   ],
   "source": [
    "M = np.array([3,2,2,6]).reshape(2,2)\n",
    "M = np.asmatrix(M)\n",
    "M"
   ]
  },
  {
   "cell_type": "code",
   "execution_count": 326,
   "metadata": {
    "collapsed": false
   },
   "outputs": [
    {
     "data": {
      "text/plain": [
       "array([[ 2.601, -0.797],\n",
       "       [-0.797,  0.413]])"
      ]
     },
     "execution_count": 326,
     "metadata": {},
     "output_type": "execute_result"
    }
   ],
   "source": [
    "Ms = np.array([2.601,-0.797,-0.797,0.413]).reshape(2,2)\n",
    "Ms"
   ]
  },
  {
   "cell_type": "code",
   "execution_count": 327,
   "metadata": {
    "collapsed": true
   },
   "outputs": [],
   "source": [
    "def Frobenius(x):\n",
    "    assert type(x) == np.matrix\n",
    "    foo = x.A # converts x to a np.array so we can use ufunc\n",
    "    return np.sqrt(np.sum(foo**2))"
   ]
  },
  {
   "cell_type": "code",
   "execution_count": 328,
   "metadata": {
    "collapsed": true
   },
   "outputs": [],
   "source": [
    "def pow(M,x0=None, thres = 0.00001, pr = False):\n",
    "    if x0 == None:\n",
    "        x0 = np.ones(len(M))\n",
    "    oldx = np.mat(x0).T\n",
    "    newx = np.mat(np.zeros(len(M))).T\n",
    "    converge = False\n",
    "    while not converge:\n",
    "        newx = np.dot(M,oldx)/Frobenius(np.dot(M,oldx))\n",
    "        if pr == True:\n",
    "            print newx\n",
    "        if Frobenius(oldx-newx) < thres: # threshold of convergence\n",
    "            converge = True\n",
    "        oldx = newx\n",
    "    \n",
    "    # find eigenvector\n",
    "    lam = ((newx.T*M*newx).A1)[0] # A1 attribute returns a flattened array\n",
    "    return lam,newx"
   ]
  },
  {
   "cell_type": "code",
   "execution_count": 329,
   "metadata": {
    "collapsed": false
   },
   "outputs": [
    {
     "name": "stdout",
     "output_type": "stream",
     "text": [
      "6.99999999999 [[ 0.44721468]\n",
      " [ 0.89442665]]\n"
     ]
    }
   ],
   "source": [
    "lam1, x1 = pow(M)\n",
    "print lam1, x1"
   ]
  },
  {
   "cell_type": "code",
   "execution_count": 330,
   "metadata": {
    "collapsed": false
   },
   "outputs": [
    {
     "data": {
      "text/plain": [
       "[7, 0.44721359549995793, 0.89442719099991586]"
      ]
     },
     "execution_count": 330,
     "metadata": {},
     "output_type": "execute_result"
    }
   ],
   "source": [
    "# exact principle eigenpair\n",
    "[7,1/np.sqrt(5),2/np.sqrt(5)]"
   ]
  },
  {
   "cell_type": "code",
   "execution_count": 331,
   "metadata": {
    "collapsed": false
   },
   "outputs": [
    {
     "data": {
      "text/plain": [
       "matrix([[ 1.59999323, -0.80000508],\n",
       "        [-0.80000508,  0.40000677]])"
      ]
     },
     "execution_count": 331,
     "metadata": {},
     "output_type": "execute_result"
    }
   ],
   "source": [
    "# second eigenvector, use poweriteration on Ms = M - lambda_1 xx.T\n",
    "Ms = M - lam1*(x1*x1.T)\n",
    "Ms"
   ]
  },
  {
   "cell_type": "code",
   "execution_count": 332,
   "metadata": {
    "collapsed": false
   },
   "outputs": [
    {
     "name": "stdout",
     "output_type": "stream",
     "text": [
      "2.00000000003 [[ 0.8944253 ]\n",
      " [-0.44721738]]\n"
     ]
    }
   ],
   "source": [
    "lam2, x2 = pow(Ms)\n",
    "print lam2, x2"
   ]
  },
  {
   "cell_type": "code",
   "execution_count": 333,
   "metadata": {
    "collapsed": false
   },
   "outputs": [
    {
     "data": {
      "text/plain": [
       "[2, 0.89442719099991586, -0.44721359549995793]"
      ]
     },
     "execution_count": 333,
     "metadata": {},
     "output_type": "execute_result"
    }
   ],
   "source": [
    "# exact second eigenpair\n",
    "[2,2/np.sqrt(5), -1/np.sqrt(5)]"
   ]
  },
  {
   "cell_type": "markdown",
   "metadata": {},
   "source": [
    "<a id='11-1-6'></a>\n",
    "# 11.1.6"
   ]
  },
  {
   "cell_type": "markdown",
   "metadata": {},
   "source": [
    "(a)-(b)"
   ]
  },
  {
   "cell_type": "code",
   "execution_count": 334,
   "metadata": {
    "collapsed": false
   },
   "outputs": [
    {
     "data": {
      "text/plain": [
       "matrix([[1, 1, 1],\n",
       "        [1, 2, 3],\n",
       "        [1, 3, 5]])"
      ]
     },
     "execution_count": 334,
     "metadata": {},
     "output_type": "execute_result"
    }
   ],
   "source": [
    "M = np.matrix([[1,1,1],[1,2,3],[1,3,5]])\n",
    "M"
   ]
  },
  {
   "cell_type": "code",
   "execution_count": 335,
   "metadata": {
    "collapsed": false
   },
   "outputs": [
    {
     "name": "stdout",
     "output_type": "stream",
     "text": [
      "7.16227766016 [[ 0.21848282]\n",
      " [ 0.52160927]\n",
      " [ 0.82473573]]\n"
     ]
    }
   ],
   "source": [
    "# using pow function defined above\n",
    "lam1, x1 = pow(M)\n",
    "print lam1, x1"
   ]
  },
  {
   "cell_type": "code",
   "execution_count": 336,
   "metadata": {
    "collapsed": true
   },
   "outputs": [],
   "source": [
    "x1_exact = np.array([(1/5)*(5+np.sqrt(10))/(3+np.sqrt(10)),np.sqrt(10)/5,1])\n",
    "x1_exact = x1_exact/(np.sqrt(sum(x1_exact**2)))"
   ]
  },
  {
   "cell_type": "code",
   "execution_count": 337,
   "metadata": {
    "collapsed": false
   },
   "outputs": [
    {
     "data": {
      "text/plain": [
       "[7.16227766016838, array([ 0.21848175,  0.52160897,  0.8247362 ])]"
      ]
     },
     "execution_count": 337,
     "metadata": {},
     "output_type": "execute_result"
    }
   ],
   "source": [
    "# exact principal eigenpair\n",
    "[4+np.sqrt(10), x1_exact]"
   ]
  },
  {
   "cell_type": "markdown",
   "metadata": {},
   "source": [
    "(c) Removing the influence of the principal eigenvector from M"
   ]
  },
  {
   "cell_type": "code",
   "execution_count": 338,
   "metadata": {
    "collapsed": false
   },
   "outputs": [
    {
     "data": {
      "text/plain": [
       "matrix([[ 0.65811051,  0.18376774, -0.29057503],\n",
       "        [ 0.18376774,  0.05131446, -0.08113883],\n",
       "        [-0.29057503, -0.08113883,  0.12829737]])"
      ]
     },
     "execution_count": 338,
     "metadata": {},
     "output_type": "execute_result"
    }
   ],
   "source": [
    "# second eigenvector, use poweriteration on Ms = M - lambda_1 xx.T\n",
    "Ms = M - lam1*(x1*x1.T)\n",
    "Ms"
   ]
  },
  {
   "cell_type": "markdown",
   "metadata": {},
   "source": [
    "(d) Finding the second eigenpair of M using Ms"
   ]
  },
  {
   "cell_type": "code",
   "execution_count": 339,
   "metadata": {
    "collapsed": false
   },
   "outputs": [
    {
     "name": "stdout",
     "output_type": "stream",
     "text": [
      "0.837722339911 [[ 0.88633799]\n",
      " [ 0.24749693]\n",
      " [-0.39134414]]\n"
     ]
    }
   ],
   "source": [
    "lam2, x2 = pow(Ms)\n",
    "print lam2, x2"
   ]
  },
  {
   "cell_type": "code",
   "execution_count": 340,
   "metadata": {
    "collapsed": true
   },
   "outputs": [],
   "source": [
    "x2_exact = np.array([(1/5)*(5-np.sqrt(10))/(3-np.sqrt(10)),-np.sqrt(10)/5,1])\n",
    "x2_exact = x2_exact/(np.sqrt(sum(x2_exact**2)))"
   ]
  },
  {
   "cell_type": "code",
   "execution_count": 341,
   "metadata": {
    "collapsed": false
   },
   "outputs": [
    {
     "data": {
      "text/plain": [
       "[0.83772233983162048, array([-0.88634026, -0.24750235,  0.39133557])]"
      ]
     },
     "execution_count": 341,
     "metadata": {},
     "output_type": "execute_result"
    }
   ],
   "source": [
    "# exact second eigenpair\n",
    "[4-np.sqrt(10),x2_exact]"
   ]
  },
  {
   "cell_type": "markdown",
   "metadata": {},
   "source": [
    "(e) Repeating the above steps to find third eigenpair"
   ]
  },
  {
   "cell_type": "code",
   "execution_count": 345,
   "metadata": {
    "collapsed": false
   },
   "outputs": [
    {
     "data": {
      "text/plain": [
       "matrix([[ -3.36408679e-12,  -8.03135336e-12,  -1.26988975e-11],\n",
       "        [ -8.03135336e-12,  -1.91732394e-11,  -3.03155834e-11],\n",
       "        [ -1.26988975e-11,  -3.03155834e-11,  -4.79333517e-11]])"
      ]
     },
     "execution_count": 345,
     "metadata": {},
     "output_type": "execute_result"
    }
   ],
   "source": [
    "Mss = Ms - lam2*(x2*x2.T)\n",
    "Mss"
   ]
  },
  {
   "cell_type": "code",
   "execution_count": 346,
   "metadata": {
    "collapsed": false
   },
   "outputs": [
    {
     "name": "stdout",
     "output_type": "stream",
     "text": [
      "[[-0.21849284]\n",
      " [-0.52160581]\n",
      " [-0.82473527]]\n",
      "[[ 0.21849413]\n",
      " [ 0.52160601]\n",
      " [ 0.8247348 ]]\n",
      "-7.04708085388e-11 [[ 0.21849413]\n",
      " [ 0.52160601]\n",
      " [ 0.8247348 ]]\n"
     ]
    }
   ],
   "source": [
    "lam3, x3 = pow(Mss, thres=2, pr = True)\n",
    "print lam3, x3"
   ]
  },
  {
   "cell_type": "markdown",
   "metadata": {},
   "source": [
    "The power iteration method is getting stuck at two vectors. Might need to increase amount of digits used for the calculation."
   ]
  },
  {
   "cell_type": "code",
   "execution_count": 354,
   "metadata": {
    "collapsed": false
   },
   "outputs": [
    {
     "data": {
      "text/plain": [
       "matrix([[-0.21849413],\n",
       "        [-0.52160601],\n",
       "        [-0.8247348 ]])"
      ]
     },
     "execution_count": 354,
     "metadata": {},
     "output_type": "execute_result"
    }
   ],
   "source": [
    "# power iteration method is stuck, oscillating between these two vectors\n",
    "Mss*x3/Frobenius(Mss*x3)"
   ]
  },
  {
   "cell_type": "code",
   "execution_count": 349,
   "metadata": {
    "collapsed": true
   },
   "outputs": [],
   "source": [
    "x3_exact = np.array([1,-2,1])\n",
    "x3_exact = x3_exact/np.sqrt(sum(x3_exact**2))"
   ]
  },
  {
   "cell_type": "code",
   "execution_count": 351,
   "metadata": {
    "collapsed": false
   },
   "outputs": [
    {
     "data": {
      "text/plain": [
       "array([ 0.40824829, -0.81649658,  0.40824829])"
      ]
     },
     "execution_count": 351,
     "metadata": {},
     "output_type": "execute_result"
    }
   ],
   "source": [
    "x3_exact"
   ]
  },
  {
   "cell_type": "markdown",
   "metadata": {},
   "source": [
    "<a id='11-1-7'></a>\n",
    "# 11.1.7"
   ]
  },
  {
   "cell_type": "code",
   "execution_count": 355,
   "metadata": {
    "collapsed": false
   },
   "outputs": [
    {
     "data": {
      "text/plain": [
       "matrix([[1, 1, 1],\n",
       "        [1, 2, 3],\n",
       "        [1, 3, 6]])"
      ]
     },
     "execution_count": 355,
     "metadata": {},
     "output_type": "execute_result"
    }
   ],
   "source": [
    "M = np.matrix([[1,1,1],[1,2,3],[1,3,6]])\n",
    "M"
   ]
  },
  {
   "cell_type": "code",
   "execution_count": 357,
   "metadata": {
    "collapsed": false
   },
   "outputs": [
    {
     "name": "stdout",
     "output_type": "stream",
     "text": [
      "7.87298334621 [[ 0.19382289]\n",
      " [ 0.4722474 ]\n",
      " [ 0.85989248]]\n"
     ]
    }
   ],
   "source": [
    "# first eigenpair\n",
    "lam1, x1 = pow(M)\n",
    "print lam1, x1"
   ]
  },
  {
   "cell_type": "code",
   "execution_count": 368,
   "metadata": {
    "collapsed": false
   },
   "outputs": [
    {
     "data": {
      "text/plain": [
       "array([ 0.19382266,  0.47224729,  0.8598926 ])"
      ]
     },
     "execution_count": 368,
     "metadata": {},
     "output_type": "execute_result"
    }
   ],
   "source": [
    "x1_exact = np.array([(6/5)*(5+np.sqrt(15))/(3+np.sqrt(15))**2,\n",
    "                     (1/5)*(15+np.sqrt(15))/(3+np.sqrt(15)),1])\n",
    "x1_exact = x1_exact/np.sqrt(sum(x1_exact**2))\n",
    "x1_exact"
   ]
  },
  {
   "cell_type": "code",
   "execution_count": 360,
   "metadata": {
    "collapsed": false
   },
   "outputs": [
    {
     "data": {
      "text/plain": [
       "matrix([[ 0.70423318,  0.27936729, -0.31216529],\n",
       "        [ 0.27936729,  0.24418608, -0.19707675],\n",
       "        [-0.31216529, -0.19707675,  0.1785974 ]])"
      ]
     },
     "execution_count": 360,
     "metadata": {},
     "output_type": "execute_result"
    }
   ],
   "source": [
    "Ms = M - lam1*(x1*x1.T)\n",
    "Ms"
   ]
  },
  {
   "cell_type": "code",
   "execution_count": 362,
   "metadata": {
    "collapsed": false
   },
   "outputs": [
    {
     "name": "stdout",
     "output_type": "stream",
     "text": [
      "1.0 [[ 0.81649634]\n",
      " [ 0.40824695]\n",
      " [-0.40825011]]\n"
     ]
    }
   ],
   "source": [
    "# second eigenpair\n",
    "lam2, x2 = pow(Ms)\n",
    "print lam2, x2"
   ]
  },
  {
   "cell_type": "code",
   "execution_count": 369,
   "metadata": {
    "collapsed": false
   },
   "outputs": [
    {
     "data": {
      "text/plain": [
       "array([-0.81649658, -0.40824829,  0.40824829])"
      ]
     },
     "execution_count": 369,
     "metadata": {},
     "output_type": "execute_result"
    }
   ],
   "source": [
    "x2_exact = np.array([-2,-1,1])\n",
    "x2_exact = x2_exact/np.sqrt(sum(x2_exact**2))\n",
    "x2_exact"
   ]
  },
  {
   "cell_type": "code",
   "execution_count": 364,
   "metadata": {
    "collapsed": false
   },
   "outputs": [
    {
     "data": {
      "text/plain": [
       "matrix([[ 0.03756691, -0.05396485,  0.02116943],\n",
       "        [-0.05396485,  0.0775205 , -0.03040989],\n",
       "        [ 0.02116943, -0.03040989,  0.01192925]])"
      ]
     },
     "execution_count": 364,
     "metadata": {},
     "output_type": "execute_result"
    }
   ],
   "source": [
    "Mss = Ms - lam2*(x2*x2.T)\n",
    "Mss"
   ]
  },
  {
   "cell_type": "code",
   "execution_count": 365,
   "metadata": {
    "collapsed": false
   },
   "outputs": [
    {
     "name": "stdout",
     "output_type": "stream",
     "text": [
      "0.127016653793 [[ 0.54384155]\n",
      " [-0.78122828]\n",
      " [ 0.30646167]]\n"
     ]
    }
   ],
   "source": [
    "# third eigenpair\n",
    "lam3, x3 = pow(Mss)\n",
    "print lam3, x3"
   ]
  },
  {
   "cell_type": "code",
   "execution_count": 370,
   "metadata": {
    "collapsed": false
   },
   "outputs": [
    {
     "data": {
      "text/plain": [
       "array([ 0.54384383, -0.78122713,  0.30646053])"
      ]
     },
     "execution_count": 370,
     "metadata": {},
     "output_type": "execute_result"
    }
   ],
   "source": [
    "x3_exact = np.array([(6/5)*(5-np.sqrt(15))/(3-np.sqrt(15))**2,\n",
    "                     (1/5)*(15-np.sqrt(15))/(3-np.sqrt(15)),1])\n",
    "x3_exact = x3_exact/np.sqrt(sum(x3_exact**2))\n",
    "x3_exact"
   ]
  },
  {
   "cell_type": "markdown",
   "metadata": {},
   "source": [
    "<a id='11-2-1'></a>\n",
    "# 11.2.1"
   ]
  },
  {
   "cell_type": "code",
   "execution_count": 373,
   "metadata": {
    "collapsed": false
   },
   "outputs": [
    {
     "data": {
      "text/plain": [
       "matrix([[ 1,  1],\n",
       "        [ 2,  4],\n",
       "        [ 3,  9],\n",
       "        [ 4, 16]])"
      ]
     },
     "execution_count": 373,
     "metadata": {},
     "output_type": "execute_result"
    }
   ],
   "source": [
    "M = np.array([1,1,2,4,3,9,4,16]).reshape(4,2)\n",
    "M = np.asmatrix(M)\n",
    "M"
   ]
  },
  {
   "cell_type": "markdown",
   "metadata": {},
   "source": [
    "(a)"
   ]
  },
  {
   "cell_type": "code",
   "execution_count": 375,
   "metadata": {
    "collapsed": false
   },
   "outputs": [
    {
     "data": {
      "text/plain": [
       "matrix([[ 30, 100],\n",
       "        [100, 354]])"
      ]
     },
     "execution_count": 375,
     "metadata": {},
     "output_type": "execute_result"
    }
   ],
   "source": [
    "MtM = M.T*M\n",
    "MtM"
   ]
  },
  {
   "cell_type": "code",
   "execution_count": 377,
   "metadata": {
    "collapsed": false
   },
   "outputs": [
    {
     "data": {
      "text/plain": [
       "matrix([[  2,   6,  12,  20],\n",
       "        [  6,  20,  42,  72],\n",
       "        [ 12,  42,  90, 156],\n",
       "        [ 20,  72, 156, 272]])"
      ]
     },
     "execution_count": 377,
     "metadata": {},
     "output_type": "execute_result"
    }
   ],
   "source": [
    "MMt = M*M.T\n",
    "MMt"
   ]
  },
  {
   "cell_type": "markdown",
   "metadata": {},
   "source": [
    "(b)"
   ]
  },
  {
   "cell_type": "code",
   "execution_count": 378,
   "metadata": {
    "collapsed": false
   },
   "outputs": [
    {
     "name": "stdout",
     "output_type": "stream",
     "text": [
      "382.378570223 [[ 0.27300543]\n",
      " [ 0.96201249]]\n"
     ]
    }
   ],
   "source": [
    "# Using power=iteration method\n",
    "lam1, x1 = pow(MtM)\n",
    "print lam1, x1"
   ]
  },
  {
   "cell_type": "code",
   "execution_count": 381,
   "metadata": {
    "collapsed": false
   },
   "outputs": [
    {
     "data": {
      "text/plain": [
       "array([ 0.27300539,  0.9620125 ])"
      ]
     },
     "execution_count": 381,
     "metadata": {},
     "output_type": "execute_result"
    }
   ],
   "source": [
    "x1_exact = np.array([100/(162+2*np.sqrt(9061)),1])\n",
    "x1_exact = x1_exact/np.sqrt(sum(x1_exact**2))\n",
    "x1_exact"
   ]
  },
  {
   "cell_type": "code",
   "execution_count": 379,
   "metadata": {
    "collapsed": false
   },
   "outputs": [
    {
     "data": {
      "text/plain": [
       "matrix([[ 1.50057292, -0.4258574 ],\n",
       "        [-0.4258574 ,  0.12085686]])"
      ]
     },
     "execution_count": 379,
     "metadata": {},
     "output_type": "execute_result"
    }
   ],
   "source": [
    "Ms = MtM - lam1*(x1*x1.T)\n",
    "Ms"
   ]
  },
  {
   "cell_type": "code",
   "execution_count": 380,
   "metadata": {
    "collapsed": false
   },
   "outputs": [
    {
     "name": "stdout",
     "output_type": "stream",
     "text": [
      "1.62142977757 [[ 0.96200976]\n",
      " [-0.27301504]]\n"
     ]
    }
   ],
   "source": [
    "lam2, x2 = pow(Ms)\n",
    "print lam2, x2"
   ]
  },
  {
   "cell_type": "code",
   "execution_count": 382,
   "metadata": {
    "collapsed": false
   },
   "outputs": [
    {
     "data": {
      "text/plain": [
       "array([-0.9620125 ,  0.27300539])"
      ]
     },
     "execution_count": 382,
     "metadata": {},
     "output_type": "execute_result"
    }
   ],
   "source": [
    "x2_exact = np.array([100/(162-2*np.sqrt(9061)),1])\n",
    "x2_exact = x2_exact/np.sqrt(sum(x2_exact**2))\n",
    "x2_exact"
   ]
  },
  {
   "cell_type": "markdown",
   "metadata": {},
   "source": [
    "(c) Since M.T\\*M has dimension 2x2 and M\\*M.T has dimension 4x4, the eigenvalues of M\\*M.T are (382.38,1.62,0,0)"
   ]
  },
  {
   "cell_type": "markdown",
   "metadata": {},
   "source": [
    "(d)"
   ]
  },
  {
   "cell_type": "code",
   "execution_count": 383,
   "metadata": {
    "collapsed": false
   },
   "outputs": [
    {
     "data": {
      "text/plain": [
       "matrix([[  1.23501793],\n",
       "        [  4.39406083],\n",
       "        [  9.47712872],\n",
       "        [ 16.48422159]])"
      ]
     },
     "execution_count": 383,
     "metadata": {},
     "output_type": "execute_result"
    }
   ],
   "source": [
    "# eigenvector of MM.T due to lam1\n",
    "M*x1"
   ]
  },
  {
   "cell_type": "code",
   "execution_count": 386,
   "metadata": {
    "collapsed": false
   },
   "outputs": [
    {
     "data": {
      "text/plain": [
       "19.554502556255315"
      ]
     },
     "execution_count": 386,
     "metadata": {},
     "output_type": "execute_result"
    }
   ],
   "source": [
    "Frobenius(M*x1)"
   ]
  },
  {
   "cell_type": "code",
   "execution_count": 389,
   "metadata": {
    "collapsed": false
   },
   "outputs": [
    {
     "name": "stdout",
     "output_type": "stream",
     "text": [
      "[[  472.24437737]\n",
      " [ 1680.19468524]\n",
      " [ 3623.85092359]\n",
      " [ 6303.21309243]]\n",
      "[[  472.24438853]\n",
      " [ 1680.19469871]\n",
      " [ 3623.85093054]\n",
      " [ 6303.21308401]]\n"
     ]
    }
   ],
   "source": [
    "# verifying that we indeed have an eigenvector of MM.T\n",
    "print MMt*(M*x1) \n",
    "print lam1*(M*x1)"
   ]
  },
  {
   "cell_type": "code",
   "execution_count": 384,
   "metadata": {
    "collapsed": false
   },
   "outputs": [
    {
     "data": {
      "text/plain": [
       "matrix([[ 0.68899472],\n",
       "        [ 0.83195935],\n",
       "        [ 0.4288939 ],\n",
       "        [-0.52020165]])"
      ]
     },
     "execution_count": 384,
     "metadata": {},
     "output_type": "execute_result"
    }
   ],
   "source": [
    "# eigenvector of MM.T due to lam2\n",
    "M*x2"
   ]
  },
  {
   "cell_type": "code",
   "execution_count": 385,
   "metadata": {
    "collapsed": false
   },
   "outputs": [
    {
     "data": {
      "text/plain": [
       "1.2733537669157973"
      ]
     },
     "execution_count": 385,
     "metadata": {},
     "output_type": "execute_result"
    }
   ],
   "source": [
    "Frobenius(M*x2)"
   ]
  },
  {
   "cell_type": "code",
   "execution_count": 390,
   "metadata": {
    "collapsed": false
   },
   "outputs": [
    {
     "name": "stdout",
     "output_type": "stream",
     "text": [
      "[[ 1.11243939]\n",
      " [ 1.33218051]\n",
      " [ 0.65922334]\n",
      " [-0.9064321 ]]\n",
      "[[ 1.11715656]\n",
      " [ 1.34896367]\n",
      " [ 0.69542134]\n",
      " [-0.84347044]]\n"
     ]
    }
   ],
   "source": [
    "print MMt*(M*x2) \n",
    "print lam2*(M*x2)"
   ]
  },
  {
   "cell_type": "code",
   "execution_count": 392,
   "metadata": {
    "collapsed": false
   },
   "outputs": [
    {
     "data": {
      "text/plain": [
       "matrix([[-0.00471716],\n",
       "        [-0.01678316],\n",
       "        [-0.03619799],\n",
       "        [-0.06296166]])"
      ]
     },
     "execution_count": 392,
     "metadata": {},
     "output_type": "execute_result"
    }
   ],
   "source": [
    "# accuracy should improve if we allow for more digits\n",
    "MMt*(M*x2) - lam2*(M*x2)"
   ]
  },
  {
   "cell_type": "markdown",
   "metadata": {},
   "source": [
    "For the eigenvectors of lam = 0, we first perform Gaussian Elimination on MM.T"
   ]
  },
  {
   "cell_type": "code",
   "execution_count": 412,
   "metadata": {
    "collapsed": false
   },
   "outputs": [
    {
     "data": {
      "text/plain": [
       "array([[ 2,  6, 12, 20],\n",
       "       [ 0,  2,  6, 12],\n",
       "       [ 0,  0,  0,  0],\n",
       "       [ 0,  0,  0,  0]])"
      ]
     },
     "execution_count": 412,
     "metadata": {},
     "output_type": "execute_result"
    }
   ],
   "source": [
    "# Gaussian Elimination on MM.T results\n",
    "MMt_Gauss = np.array([2,6,12,20,0,2,6,12]+[0]*8).reshape(4,4)\n",
    "MMt_Gauss"
   ]
  },
  {
   "cell_type": "code",
   "execution_count": 418,
   "metadata": {
    "collapsed": false
   },
   "outputs": [
    {
     "name": "stdout",
     "output_type": "stream",
     "text": [
      "[[ 3]\n",
      " [-3]\n",
      " [ 1]\n",
      " [ 0]]\n",
      "[[ 8]\n",
      " [-6]\n",
      " [ 0]\n",
      " [ 1]]\n"
     ]
    }
   ],
   "source": [
    "# solving this system we get the basis for the eigenspace of lam = 0\n",
    "x3 = np.matrix([3,-3,1,0]).T\n",
    "x4 = np.matrix([8,-6,0,1]).T\n",
    "print x3\n",
    "print x4"
   ]
  },
  {
   "cell_type": "code",
   "execution_count": 420,
   "metadata": {
    "collapsed": false
   },
   "outputs": [
    {
     "data": {
      "text/plain": [
       "matrix([[0],\n",
       "        [0],\n",
       "        [0],\n",
       "        [0]])"
      ]
     },
     "execution_count": 420,
     "metadata": {},
     "output_type": "execute_result"
    }
   ],
   "source": [
    "MMt*x3"
   ]
  },
  {
   "cell_type": "code",
   "execution_count": 421,
   "metadata": {
    "collapsed": false
   },
   "outputs": [
    {
     "data": {
      "text/plain": [
       "matrix([[0],\n",
       "        [0],\n",
       "        [0],\n",
       "        [0]])"
      ]
     },
     "execution_count": 421,
     "metadata": {},
     "output_type": "execute_result"
    }
   ],
   "source": [
    "MMt*x4"
   ]
  },
  {
   "cell_type": "markdown",
   "metadata": {},
   "source": [
    "<a id='11-3-1'></a>\n",
    "# 11.3.1"
   ]
  },
  {
   "cell_type": "code",
   "execution_count": 540,
   "metadata": {
    "collapsed": false
   },
   "outputs": [
    {
     "data": {
      "text/plain": [
       "matrix([[1, 2, 3],\n",
       "        [3, 4, 5],\n",
       "        [5, 4, 3],\n",
       "        [1, 2, 4],\n",
       "        [1, 3, 5]])"
      ]
     },
     "execution_count": 540,
     "metadata": {},
     "output_type": "execute_result"
    }
   ],
   "source": [
    "M = np.array([1,2,3,3,4,5,5,4,3,1,2,4,1,3,5]).reshape(5,3)\n",
    "M = np.asmatrix(M)\n",
    "M"
   ]
  },
  {
   "cell_type": "markdown",
   "metadata": {},
   "source": [
    "(a)"
   ]
  },
  {
   "cell_type": "code",
   "execution_count": 541,
   "metadata": {
    "collapsed": false
   },
   "outputs": [
    {
     "data": {
      "text/plain": [
       "matrix([[37, 39, 42],\n",
       "        [39, 49, 61],\n",
       "        [42, 61, 84]])"
      ]
     },
     "execution_count": 541,
     "metadata": {},
     "output_type": "execute_result"
    }
   ],
   "source": [
    "MtM = M.T*M\n",
    "MtM"
   ]
  },
  {
   "cell_type": "code",
   "execution_count": 542,
   "metadata": {
    "collapsed": false
   },
   "outputs": [
    {
     "data": {
      "text/plain": [
       "matrix([[14, 26, 22, 17, 22],\n",
       "        [26, 50, 46, 31, 40],\n",
       "        [22, 46, 50, 25, 32],\n",
       "        [17, 31, 25, 21, 27],\n",
       "        [22, 40, 32, 27, 35]])"
      ]
     },
     "execution_count": 542,
     "metadata": {},
     "output_type": "execute_result"
    }
   ],
   "source": [
    "MMt = M*M.T\n",
    "MMt"
   ]
  },
  {
   "cell_type": "markdown",
   "metadata": {},
   "source": [
    "(b), (c) Using power iteration"
   ]
  },
  {
   "cell_type": "markdown",
   "metadata": {},
   "source": [
    "### MTM"
   ]
  },
  {
   "cell_type": "code",
   "execution_count": 581,
   "metadata": {
    "collapsed": false
   },
   "outputs": [
    {
     "name": "stdout",
     "output_type": "stream",
     "text": [
      "157.080496022 [[ 0.42949875]\n",
      " [ 0.55642476]\n",
      " [ 0.71128216]]\n"
     ]
    }
   ],
   "source": [
    "lam1, x1_mtm = pow(MtM, thres = 0.000001)\n",
    "print lam1, x1_mtm"
   ]
  },
  {
   "cell_type": "code",
   "execution_count": 582,
   "metadata": {
    "collapsed": false
   },
   "outputs": [
    {
     "data": {
      "text/plain": [
       "matrix([[ 8.02349012,  1.46031556, -5.98727448],\n",
       "        [ 1.46031556,  0.36654091, -1.16853405],\n",
       "        [-5.98727448, -1.16853405,  4.52947295]])"
      ]
     },
     "execution_count": 582,
     "metadata": {},
     "output_type": "execute_result"
    }
   ],
   "source": [
    "Ms = MtM - lam1*(x1_mtm*x1_mtm.T)\n",
    "Ms"
   ]
  },
  {
   "cell_type": "code",
   "execution_count": 583,
   "metadata": {
    "collapsed": false
   },
   "outputs": [
    {
     "name": "stdout",
     "output_type": "stream",
     "text": [
      "12.7946149636 [[ 0.79072218]\n",
      " [ 0.14874499]\n",
      " [-0.5938294 ]]\n"
     ]
    }
   ],
   "source": [
    "lam2, x2_mtm = pow(Ms, thres = 0.000001)\n",
    "print lam2, x2_mtm"
   ]
  },
  {
   "cell_type": "code",
   "execution_count": 584,
   "metadata": {
    "collapsed": false
   },
   "outputs": [
    {
     "data": {
      "text/plain": [
       "matrix([[ 0.02376498, -0.04453543,  0.02048918],\n",
       "        [-0.04453543,  0.08345912, -0.03839659],\n",
       "        [ 0.02048918, -0.03839659,  0.01766491]])"
      ]
     },
     "execution_count": 584,
     "metadata": {},
     "output_type": "execute_result"
    }
   ],
   "source": [
    "Mss = Ms - lam2*(x2_mtm*x2_mtm.T)\n",
    "Mss"
   ]
  },
  {
   "cell_type": "code",
   "execution_count": 585,
   "metadata": {
    "collapsed": false
   },
   "outputs": [
    {
     "name": "stdout",
     "output_type": "stream",
     "text": [
      "0.124889013913 [[-0.43622105]\n",
      " [ 0.81747556]\n",
      " [-0.3760916 ]]\n"
     ]
    }
   ],
   "source": [
    "lam3, x3_mtm = pow(Mss, thres=0.000001)\n",
    "print lam3, x3_mtm"
   ]
  },
  {
   "cell_type": "markdown",
   "metadata": {},
   "source": [
    "### MMT"
   ]
  },
  {
   "cell_type": "code",
   "execution_count": 586,
   "metadata": {
    "collapsed": false
   },
   "outputs": [
    {
     "name": "stdout",
     "output_type": "stream",
     "text": [
      "157.080496022 [[ 0.29331718]\n",
      " [ 0.56415119]\n",
      " [ 0.51918484]\n",
      " [ 0.35006921]\n",
      " [ 0.45121737]]\n"
     ]
    }
   ],
   "source": [
    "lam1, x1_mmt = pow(MMt)\n",
    "print lam1, x1_mmt"
   ]
  },
  {
   "cell_type": "code",
   "execution_count": 587,
   "metadata": {
    "collapsed": false
   },
   "outputs": [
    {
     "data": {
      "text/plain": [
       "matrix([[  4.85584094e-01,   7.06725610e-03,  -1.92113461e+00,\n",
       "           8.70768115e-01,   1.21042661e+00],\n",
       "        [  7.06725610e-03,   6.52952018e-03,  -8.68046388e-03,\n",
       "          -2.21353639e-02,   1.44033802e-02],\n",
       "        [ -1.92113461e+00,  -8.68046388e-03,   7.65849705e+00,\n",
       "          -3.54947855e+00,  -4.79849629e+00],\n",
       "        [  8.70768115e-01,  -2.21353639e-02,  -3.54947855e+00,\n",
       "           1.75002849e+00,   2.18798797e+00],\n",
       "        [  1.21042661e+00,   1.44033802e-02,  -4.79849629e+00,\n",
       "           2.18798797e+00,   3.01886483e+00]])"
      ]
     },
     "execution_count": 587,
     "metadata": {},
     "output_type": "execute_result"
    }
   ],
   "source": [
    "Ms = MMt - lam1*(x1_mmt*x1_mmt.T)\n",
    "Ms"
   ]
  },
  {
   "cell_type": "code",
   "execution_count": 588,
   "metadata": {
    "collapsed": false
   },
   "outputs": [
    {
     "name": "stdout",
     "output_type": "stream",
     "text": [
      "12.7946149639 [[  1.93814995e-01]\n",
      " [  5.54806259e-04]\n",
      " [ -7.73595563e-01]\n",
      " [  3.59829841e-01]\n",
      " [  4.84260085e-01]]\n"
     ]
    }
   ],
   "source": [
    "lam2, x2_mmt = pow(Ms)\n",
    "print lam2, x2_mmt"
   ]
  },
  {
   "cell_type": "code",
   "execution_count": 589,
   "metadata": {
    "collapsed": false
   },
   "outputs": [
    {
     "data": {
      "text/plain": [
       "matrix([[ 0.00496395,  0.00569145, -0.00278143, -0.02153369,  0.00956414],\n",
       "        [ 0.00569145,  0.00652558, -0.00318907, -0.02468963,  0.01096584],\n",
       "        [-0.00278143, -0.00318907,  0.00155851,  0.01206589, -0.00535904],\n",
       "        [-0.02153369, -0.02468963,  0.01206589,  0.09341354, -0.04148942],\n",
       "        [ 0.00956414,  0.01096584, -0.00535904, -0.04148942,  0.01842744]])"
      ]
     },
     "execution_count": 589,
     "metadata": {},
     "output_type": "execute_result"
    }
   ],
   "source": [
    "Mss = Ms - lam2*(x2_mmt*x2_mmt.T)\n",
    "Mss"
   ]
  },
  {
   "cell_type": "code",
   "execution_count": 590,
   "metadata": {
    "collapsed": false
   },
   "outputs": [
    {
     "name": "stdout",
     "output_type": "stream",
     "text": [
      "0.124889013913 [[-0.19936618]\n",
      " [-0.22858488]\n",
      " [ 0.11171009]\n",
      " [ 0.864854  ]\n",
      " [-0.38412302]]\n"
     ]
    }
   ],
   "source": [
    "lam3, x3_mmt = pow(Mss)\n",
    "print lam3, x3_mmt"
   ]
  },
  {
   "cell_type": "markdown",
   "metadata": {},
   "source": [
    "And we know that since MMt is bigger than MtM, that the other eignevalue of MMt is zero, which is three times repeated."
   ]
  },
  {
   "cell_type": "markdown",
   "metadata": {},
   "source": [
    "### (d) \n",
    "SVD:\n",
    "- V is the eigenvectors matrix of MTM\n",
    "- sigma is the diagonal matrix whose diagonal elements are the square roots of the eigenvalues of MTM\n",
    "- U is the eigenvectors matrix of MMT\n",
    "\n",
    "*Note that we only keep the non-zero singular values because they are the only ones that influence the SVD decomposition (i.e., recall also that rank of M is 3).*"
   ]
  },
  {
   "cell_type": "code",
   "execution_count": 591,
   "metadata": {
    "collapsed": false
   },
   "outputs": [
    {
     "data": {
      "text/plain": [
       "matrix([[ 0.42949875,  0.79072218, -0.43622105],\n",
       "        [ 0.55642476,  0.14874499,  0.81747556],\n",
       "        [ 0.71128216, -0.5938294 , -0.3760916 ]])"
      ]
     },
     "execution_count": 591,
     "metadata": {},
     "output_type": "execute_result"
    }
   ],
   "source": [
    "V = np.concatenate((x1_mtm,x2_mtm,x3_mtm),axis=1)\n",
    "V"
   ]
  },
  {
   "cell_type": "code",
   "execution_count": 592,
   "metadata": {
    "collapsed": false
   },
   "outputs": [
    {
     "data": {
      "text/plain": [
       "matrix([[  2.93317185e-01,   1.93814995e-01,  -1.99366184e-01],\n",
       "        [  5.64151193e-01,   5.54806259e-04,  -2.28584883e-01],\n",
       "        [  5.19184840e-01,  -7.73595563e-01,   1.11710086e-01],\n",
       "        [  3.50069209e-01,   3.59829841e-01,   8.64853999e-01],\n",
       "        [  4.51217365e-01,   4.84260085e-01,  -3.84123018e-01]])"
      ]
     },
     "execution_count": 592,
     "metadata": {},
     "output_type": "execute_result"
    }
   ],
   "source": [
    "U = np.concatenate((x1_mmt,x2_mmt,x3_mmt),axis=1)\n",
    "U"
   ]
  },
  {
   "cell_type": "code",
   "execution_count": 593,
   "metadata": {
    "collapsed": false
   },
   "outputs": [
    {
     "data": {
      "text/plain": [
       "matrix([[ 12.53317582,   0.        ,   0.        ],\n",
       "        [  0.        ,   3.5769561 ,   0.        ],\n",
       "        [  0.        ,   0.        ,   0.3533964 ]])"
      ]
     },
     "execution_count": 593,
     "metadata": {},
     "output_type": "execute_result"
    }
   ],
   "source": [
    "sigma = np.matrix([[np.sqrt(lam1),0,0],[0,np.sqrt(lam2),0],\n",
    "                  [0,0,np.sqrt(lam3)]])\n",
    "sigma"
   ]
  },
  {
   "cell_type": "code",
   "execution_count": 594,
   "metadata": {
    "collapsed": false
   },
   "outputs": [
    {
     "data": {
      "text/plain": [
       "matrix([[ 2.15783778,  2.09105102,  2.2296274 ],\n",
       "        [ 3.07362409,  3.86851894,  5.05839857],\n",
       "        [ 0.58952116,  3.24135273,  6.25668614],\n",
       "        [ 2.76882675,  2.88260114,  2.24147307],\n",
       "        [ 3.8577824 ,  3.29336808,  3.0448692 ]])"
      ]
     },
     "execution_count": 594,
     "metadata": {},
     "output_type": "execute_result"
    }
   ],
   "source": [
    "# Checking SVD correctness\n",
    "U*sigma*(V.T)"
   ]
  },
  {
   "cell_type": "code",
   "execution_count": 595,
   "metadata": {
    "collapsed": false
   },
   "outputs": [
    {
     "data": {
      "text/plain": [
       "matrix([[1, 2, 3],\n",
       "        [3, 4, 5],\n",
       "        [5, 4, 3],\n",
       "        [1, 2, 4],\n",
       "        [1, 3, 5]])"
      ]
     },
     "execution_count": 595,
     "metadata": {},
     "output_type": "execute_result"
    }
   ],
   "source": [
    "M"
   ]
  },
  {
   "cell_type": "markdown",
   "metadata": {},
   "source": [
    "Using np.linalg.svd"
   ]
  },
  {
   "cell_type": "code",
   "execution_count": 597,
   "metadata": {
    "collapsed": false
   },
   "outputs": [],
   "source": [
    "U, s, V = np.linalg.svd(M, full_matrices=False)"
   ]
  },
  {
   "cell_type": "code",
   "execution_count": 598,
   "metadata": {
    "collapsed": false
   },
   "outputs": [
    {
     "data": {
      "text/plain": [
       "matrix([[ -2.93317100e-01,   1.93816567e-01,   1.99366072e-01],\n",
       "        [ -5.64151193e-01,   5.57827581e-04,   2.28584883e-01],\n",
       "        [ -5.19185177e-01,  -7.73592784e-01,  -1.11709640e-01],\n",
       "        [ -3.50069052e-01,   3.59831710e-01,  -8.64854207e-01],\n",
       "        [ -4.51217154e-01,   4.84262503e-01,   3.84122739e-01]])"
      ]
     },
     "execution_count": 598,
     "metadata": {},
     "output_type": "execute_result"
    }
   ],
   "source": [
    "U"
   ]
  },
  {
   "cell_type": "code",
   "execution_count": 599,
   "metadata": {
    "collapsed": false
   },
   "outputs": [
    {
     "data": {
      "text/plain": [
       "matrix([[ 12.53317582,   0.        ,   0.        ],\n",
       "        [  0.        ,   3.5769561 ,   0.        ],\n",
       "        [  0.        ,   0.        ,   0.3533964 ]])"
      ]
     },
     "execution_count": 599,
     "metadata": {},
     "output_type": "execute_result"
    }
   ],
   "source": [
    "s = np.mat(np.diag(s))\n",
    "s"
   ]
  },
  {
   "cell_type": "code",
   "execution_count": 600,
   "metadata": {
    "collapsed": false
   },
   "outputs": [
    {
     "data": {
      "text/plain": [
       "matrix([[-0.4294987 , -0.55642475, -0.71128219],\n",
       "        [-0.7907225 , -0.1487454 ,  0.59382888],\n",
       "        [-0.43622104,  0.81747557, -0.37609161]])"
      ]
     },
     "execution_count": 600,
     "metadata": {},
     "output_type": "execute_result"
    }
   ],
   "source": [
    "V"
   ]
  },
  {
   "cell_type": "code",
   "execution_count": 603,
   "metadata": {
    "collapsed": false
   },
   "outputs": [
    {
     "data": {
      "text/plain": [
       "matrix([[ 1.14305288,  2.84556706,  2.14386992],\n",
       "        [ 2.97824776,  5.63856063,  3.0555972 ],\n",
       "        [ 4.36253178,  5.53341366,  0.59131193],\n",
       "        [ 1.38563384,  3.09633052,  3.08103168],\n",
       "        [ 1.36850832,  4.29463733,  3.83187619]])"
      ]
     },
     "execution_count": 603,
     "metadata": {},
     "output_type": "execute_result"
    }
   ],
   "source": [
    "U*s*(V.T)"
   ]
  },
  {
   "cell_type": "code",
   "execution_count": 604,
   "metadata": {
    "collapsed": false
   },
   "outputs": [
    {
     "data": {
      "text/plain": [
       "matrix([[1, 2, 3],\n",
       "        [3, 4, 5],\n",
       "        [5, 4, 3],\n",
       "        [1, 2, 4],\n",
       "        [1, 3, 5]])"
      ]
     },
     "execution_count": 604,
     "metadata": {},
     "output_type": "execute_result"
    }
   ],
   "source": [
    "M"
   ]
  },
  {
   "cell_type": "code",
   "execution_count": 605,
   "metadata": {
    "collapsed": true
   },
   "outputs": [],
   "source": [
    "# np.linalg.svd does a much better job than the eigendecomposition above"
   ]
  },
  {
   "cell_type": "markdown",
   "metadata": {},
   "source": [
    "<a id='11-3-2'></a>\n",
    "# 11.3.2 "
   ]
  },
  {
   "cell_type": "code",
   "execution_count": 606,
   "metadata": {
    "collapsed": true
   },
   "outputs": [],
   "source": [
    "# mapping a user representation in the item space to the concept space\n",
    "Leslie = np.matrix([0,3,0,0,4])"
   ]
  },
  {
   "cell_type": "code",
   "execution_count": 608,
   "metadata": {
    "collapsed": false
   },
   "outputs": [
    {
     "data": {
      "text/plain": [
       "matrix([[ 0.58,  0.  ],\n",
       "        [ 0.58,  0.  ],\n",
       "        [ 0.58,  0.  ],\n",
       "        [ 0.  ,  0.71],\n",
       "        [ 0.  ,  0.71]])"
      ]
     },
     "execution_count": 608,
     "metadata": {},
     "output_type": "execute_result"
    }
   ],
   "source": [
    "# V from the SVD decomposition of Fig. 11.7\n",
    "V = np.matrix([[0.58,0.58,0.58,0,0],[0,0,0,0.71,0.71]]).T\n",
    "V"
   ]
  },
  {
   "cell_type": "code",
   "execution_count": 609,
   "metadata": {
    "collapsed": false
   },
   "outputs": [
    {
     "data": {
      "text/plain": [
       "matrix([[ 1.74,  2.84]])"
      ]
     },
     "execution_count": 609,
     "metadata": {},
     "output_type": "execute_result"
    }
   ],
   "source": [
    "Leslie*V"
   ]
  },
  {
   "cell_type": "markdown",
   "metadata": {},
   "source": [
    "The above vector in the concept space suggests that Leslie likes both science-fiction and romance movies, but with more preference towards the latter genre."
   ]
  },
  {
   "cell_type": "markdown",
   "metadata": {},
   "source": [
    "# 11.4.1 "
   ]
  },
  {
   "cell_type": "code",
   "execution_count": 610,
   "metadata": {
    "collapsed": false
   },
   "outputs": [
    {
     "data": {
      "text/plain": [
       "matrix([[ 48,  14],\n",
       "        [ 14, -48]])"
      ]
     },
     "execution_count": 610,
     "metadata": {},
     "output_type": "execute_result"
    }
   ],
   "source": [
    "M = np.matrix([[48,14],[14,-48]])\n",
    "M"
   ]
  },
  {
   "cell_type": "code",
   "execution_count": 611,
   "metadata": {
    "collapsed": false
   },
   "outputs": [
    {
     "data": {
      "text/plain": [
       "matrix([[ 0.6,  0.8],\n",
       "        [ 0.8, -0.6]])"
      ]
     },
     "execution_count": 611,
     "metadata": {},
     "output_type": "execute_result"
    }
   ],
   "source": [
    "U = np.matrix([[3/5,4/5],[4/5,-3/5]])\n",
    "U"
   ]
  },
  {
   "cell_type": "code",
   "execution_count": 615,
   "metadata": {
    "collapsed": false
   },
   "outputs": [
    {
     "data": {
      "text/plain": [
       "matrix([[ 0.8,  0.6],\n",
       "        [-0.6,  0.8]])"
      ]
     },
     "execution_count": 615,
     "metadata": {},
     "output_type": "execute_result"
    }
   ],
   "source": [
    "V = np.matrix([[4/5,-3/5],[3/5,4/5]]).T\n",
    "V"
   ]
  },
  {
   "cell_type": "code",
   "execution_count": 614,
   "metadata": {
    "collapsed": false
   },
   "outputs": [
    {
     "data": {
      "text/plain": [
       "matrix([[50,  0],\n",
       "        [ 0, 25]])"
      ]
     },
     "execution_count": 614,
     "metadata": {},
     "output_type": "execute_result"
    }
   ],
   "source": [
    "s = np.mat(np.diag([50,25]))\n",
    "s"
   ]
  },
  {
   "cell_type": "code",
   "execution_count": 616,
   "metadata": {
    "collapsed": false
   },
   "outputs": [
    {
     "data": {
      "text/plain": [
       "matrix([[ 36.,  -2.],\n",
       "        [ 23., -36.]])"
      ]
     },
     "execution_count": 616,
     "metadata": {},
     "output_type": "execute_result"
    }
   ],
   "source": [
    "U*s*V.T"
   ]
  },
  {
   "cell_type": "markdown",
   "metadata": {},
   "source": [
    "Thus, this SVD is not correct!"
   ]
  },
  {
   "cell_type": "code",
   "execution_count": null,
   "metadata": {
    "collapsed": true
   },
   "outputs": [],
   "source": []
  }
 ],
 "metadata": {
  "kernelspec": {
   "display_name": "Python 2",
   "language": "python",
   "name": "python2"
  },
  "language_info": {
   "codemirror_mode": {
    "name": "ipython",
    "version": 2
   },
   "file_extension": ".py",
   "mimetype": "text/x-python",
   "name": "python",
   "nbconvert_exporter": "python",
   "pygments_lexer": "ipython2",
   "version": "2.7.11"
  }
 },
 "nbformat": 4,
 "nbformat_minor": 0
}
