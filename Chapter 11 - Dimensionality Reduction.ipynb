{
 "cells": [
  {
   "cell_type": "markdown",
   "metadata": {},
   "source": [
    "## Contents\n",
    "- <a href='#11-1-1'>Exercise 11.1.1</a>\n",
    "- <a href='#11-1-2'>Exercise 11.1.2</a>\n",
    "- <a href='#11-1-6'>Exercise 11.1.6</a>\n",
    "- <a href='#11-1-7'>Exercise 11.1.7</a>\n",
    "- <a href='#11-2-1'>Exercise 11.2.1</a>"
   ]
  },
  {
   "cell_type": "code",
   "execution_count": 1,
   "metadata": {
    "collapsed": true
   },
   "outputs": [],
   "source": [
    "import numpy as np\n",
    "from __future__ import division"
   ]
  },
  {
   "cell_type": "markdown",
   "metadata": {},
   "source": [
    "# 11.1.1"
   ]
  },
  {
   "cell_type": "code",
   "execution_count": 10,
   "metadata": {
    "collapsed": false
   },
   "outputs": [],
   "source": [
    "# unit vector in same direction as [1,2,3]\n",
    "a = np.arange(1,4)\n",
    "a_unit = a/np.sqrt(np.dot(a,a))"
   ]
  },
  {
   "cell_type": "code",
   "execution_count": 11,
   "metadata": {
    "collapsed": false
   },
   "outputs": [
    {
     "name": "stdout",
     "output_type": "stream",
     "text": [
      "[1 2 3]\n",
      "[ 0.26726124  0.53452248  0.80178373]\n"
     ]
    }
   ],
   "source": [
    "print a\n",
    "print a_unit"
   ]
  },
  {
   "cell_type": "markdown",
   "metadata": {},
   "source": [
    "<a id='11-1-2'></a>\n",
    "# 11.1.2"
   ]
  },
  {
   "cell_type": "markdown",
   "metadata": {},
   "source": [
    "Using power-iteration method to find the second eigenpair of M"
   ]
  },
  {
   "cell_type": "code",
   "execution_count": 325,
   "metadata": {
    "collapsed": false
   },
   "outputs": [
    {
     "data": {
      "text/plain": [
       "matrix([[3, 2],\n",
       "        [2, 6]])"
      ]
     },
     "execution_count": 325,
     "metadata": {},
     "output_type": "execute_result"
    }
   ],
   "source": [
    "M = np.array([3,2,2,6]).reshape(2,2)\n",
    "M = np.asmatrix(M)\n",
    "M"
   ]
  },
  {
   "cell_type": "code",
   "execution_count": 326,
   "metadata": {
    "collapsed": false
   },
   "outputs": [
    {
     "data": {
      "text/plain": [
       "array([[ 2.601, -0.797],\n",
       "       [-0.797,  0.413]])"
      ]
     },
     "execution_count": 326,
     "metadata": {},
     "output_type": "execute_result"
    }
   ],
   "source": [
    "Ms = np.array([2.601,-0.797,-0.797,0.413]).reshape(2,2)\n",
    "Ms"
   ]
  },
  {
   "cell_type": "code",
   "execution_count": 327,
   "metadata": {
    "collapsed": true
   },
   "outputs": [],
   "source": [
    "def Frobenius(x):\n",
    "    assert type(x) == np.matrix\n",
    "    foo = x.A # converts x to a np.array so we can use ufunc\n",
    "    return np.sqrt(np.sum(foo**2))"
   ]
  },
  {
   "cell_type": "code",
   "execution_count": 328,
   "metadata": {
    "collapsed": true
   },
   "outputs": [],
   "source": [
    "def pow(M,x0=None, thres = 0.00001, pr = False):\n",
    "    if x0 == None:\n",
    "        x0 = np.ones(len(M))\n",
    "    oldx = np.mat(x0).T\n",
    "    newx = np.mat(np.zeros(len(M))).T\n",
    "    converge = False\n",
    "    while not converge:\n",
    "        newx = np.dot(M,oldx)/Frobenius(np.dot(M,oldx))\n",
    "        if pr == True:\n",
    "            print newx\n",
    "        if Frobenius(oldx-newx) < thres: # threshold of convergence\n",
    "            converge = True\n",
    "        oldx = newx\n",
    "    \n",
    "    # find eigenvector\n",
    "    lam = ((newx.T*M*newx).A1)[0] # A1 attribute returns a flattened array\n",
    "    return lam,newx"
   ]
  },
  {
   "cell_type": "code",
   "execution_count": 329,
   "metadata": {
    "collapsed": false
   },
   "outputs": [
    {
     "name": "stdout",
     "output_type": "stream",
     "text": [
      "6.99999999999 [[ 0.44721468]\n",
      " [ 0.89442665]]\n"
     ]
    }
   ],
   "source": [
    "lam1, x1 = pow(M)\n",
    "print lam1, x1"
   ]
  },
  {
   "cell_type": "code",
   "execution_count": 330,
   "metadata": {
    "collapsed": false
   },
   "outputs": [
    {
     "data": {
      "text/plain": [
       "[7, 0.44721359549995793, 0.89442719099991586]"
      ]
     },
     "execution_count": 330,
     "metadata": {},
     "output_type": "execute_result"
    }
   ],
   "source": [
    "# exact principle eigenpair\n",
    "[7,1/np.sqrt(5),2/np.sqrt(5)]"
   ]
  },
  {
   "cell_type": "code",
   "execution_count": 331,
   "metadata": {
    "collapsed": false
   },
   "outputs": [
    {
     "data": {
      "text/plain": [
       "matrix([[ 1.59999323, -0.80000508],\n",
       "        [-0.80000508,  0.40000677]])"
      ]
     },
     "execution_count": 331,
     "metadata": {},
     "output_type": "execute_result"
    }
   ],
   "source": [
    "# second eigenvector, use poweriteration on Ms = M - lambda_1 xx.T\n",
    "Ms = M - lam1*(x1*x1.T)\n",
    "Ms"
   ]
  },
  {
   "cell_type": "code",
   "execution_count": 332,
   "metadata": {
    "collapsed": false
   },
   "outputs": [
    {
     "name": "stdout",
     "output_type": "stream",
     "text": [
      "2.00000000003 [[ 0.8944253 ]\n",
      " [-0.44721738]]\n"
     ]
    }
   ],
   "source": [
    "lam2, x2 = pow(Ms)\n",
    "print lam2, x2"
   ]
  },
  {
   "cell_type": "code",
   "execution_count": 333,
   "metadata": {
    "collapsed": false
   },
   "outputs": [
    {
     "data": {
      "text/plain": [
       "[2, 0.89442719099991586, -0.44721359549995793]"
      ]
     },
     "execution_count": 333,
     "metadata": {},
     "output_type": "execute_result"
    }
   ],
   "source": [
    "# exact second eigenpair\n",
    "[2,2/np.sqrt(5), -1/np.sqrt(5)]"
   ]
  },
  {
   "cell_type": "markdown",
   "metadata": {},
   "source": [
    "<a id='11-1-6'></a>\n",
    "# 11.1.6"
   ]
  },
  {
   "cell_type": "markdown",
   "metadata": {},
   "source": [
    "(a)-(b)"
   ]
  },
  {
   "cell_type": "code",
   "execution_count": 334,
   "metadata": {
    "collapsed": false
   },
   "outputs": [
    {
     "data": {
      "text/plain": [
       "matrix([[1, 1, 1],\n",
       "        [1, 2, 3],\n",
       "        [1, 3, 5]])"
      ]
     },
     "execution_count": 334,
     "metadata": {},
     "output_type": "execute_result"
    }
   ],
   "source": [
    "M = np.matrix([[1,1,1],[1,2,3],[1,3,5]])\n",
    "M"
   ]
  },
  {
   "cell_type": "code",
   "execution_count": 335,
   "metadata": {
    "collapsed": false
   },
   "outputs": [
    {
     "name": "stdout",
     "output_type": "stream",
     "text": [
      "7.16227766016 [[ 0.21848282]\n",
      " [ 0.52160927]\n",
      " [ 0.82473573]]\n"
     ]
    }
   ],
   "source": [
    "# using pow function defined above\n",
    "lam1, x1 = pow(M)\n",
    "print lam1, x1"
   ]
  },
  {
   "cell_type": "code",
   "execution_count": 336,
   "metadata": {
    "collapsed": true
   },
   "outputs": [],
   "source": [
    "x1_exact = np.array([(1/5)*(5+np.sqrt(10))/(3+np.sqrt(10)),np.sqrt(10)/5,1])\n",
    "x1_exact = x1_exact/(np.sqrt(sum(x1_exact**2)))"
   ]
  },
  {
   "cell_type": "code",
   "execution_count": 337,
   "metadata": {
    "collapsed": false
   },
   "outputs": [
    {
     "data": {
      "text/plain": [
       "[7.16227766016838, array([ 0.21848175,  0.52160897,  0.8247362 ])]"
      ]
     },
     "execution_count": 337,
     "metadata": {},
     "output_type": "execute_result"
    }
   ],
   "source": [
    "# exact principal eigenpair\n",
    "[4+np.sqrt(10), x1_exact]"
   ]
  },
  {
   "cell_type": "markdown",
   "metadata": {},
   "source": [
    "(c) Removing the influence of the principal eigenvector from M"
   ]
  },
  {
   "cell_type": "code",
   "execution_count": 338,
   "metadata": {
    "collapsed": false
   },
   "outputs": [
    {
     "data": {
      "text/plain": [
       "matrix([[ 0.65811051,  0.18376774, -0.29057503],\n",
       "        [ 0.18376774,  0.05131446, -0.08113883],\n",
       "        [-0.29057503, -0.08113883,  0.12829737]])"
      ]
     },
     "execution_count": 338,
     "metadata": {},
     "output_type": "execute_result"
    }
   ],
   "source": [
    "# second eigenvector, use poweriteration on Ms = M - lambda_1 xx.T\n",
    "Ms = M - lam1*(x1*x1.T)\n",
    "Ms"
   ]
  },
  {
   "cell_type": "markdown",
   "metadata": {},
   "source": [
    "(d) Finding the second eigenpair of M using Ms"
   ]
  },
  {
   "cell_type": "code",
   "execution_count": 339,
   "metadata": {
    "collapsed": false
   },
   "outputs": [
    {
     "name": "stdout",
     "output_type": "stream",
     "text": [
      "0.837722339911 [[ 0.88633799]\n",
      " [ 0.24749693]\n",
      " [-0.39134414]]\n"
     ]
    }
   ],
   "source": [
    "lam2, x2 = pow(Ms)\n",
    "print lam2, x2"
   ]
  },
  {
   "cell_type": "code",
   "execution_count": 340,
   "metadata": {
    "collapsed": true
   },
   "outputs": [],
   "source": [
    "x2_exact = np.array([(1/5)*(5-np.sqrt(10))/(3-np.sqrt(10)),-np.sqrt(10)/5,1])\n",
    "x2_exact = x2_exact/(np.sqrt(sum(x2_exact**2)))"
   ]
  },
  {
   "cell_type": "code",
   "execution_count": 341,
   "metadata": {
    "collapsed": false
   },
   "outputs": [
    {
     "data": {
      "text/plain": [
       "[0.83772233983162048, array([-0.88634026, -0.24750235,  0.39133557])]"
      ]
     },
     "execution_count": 341,
     "metadata": {},
     "output_type": "execute_result"
    }
   ],
   "source": [
    "# exact second eigenpair\n",
    "[4-np.sqrt(10),x2_exact]"
   ]
  },
  {
   "cell_type": "markdown",
   "metadata": {},
   "source": [
    "(e) Repeating the above steps to find third eigenpair"
   ]
  },
  {
   "cell_type": "code",
   "execution_count": 345,
   "metadata": {
    "collapsed": false
   },
   "outputs": [
    {
     "data": {
      "text/plain": [
       "matrix([[ -3.36408679e-12,  -8.03135336e-12,  -1.26988975e-11],\n",
       "        [ -8.03135336e-12,  -1.91732394e-11,  -3.03155834e-11],\n",
       "        [ -1.26988975e-11,  -3.03155834e-11,  -4.79333517e-11]])"
      ]
     },
     "execution_count": 345,
     "metadata": {},
     "output_type": "execute_result"
    }
   ],
   "source": [
    "Mss = Ms - lam2*(x2*x2.T)\n",
    "Mss"
   ]
  },
  {
   "cell_type": "code",
   "execution_count": 346,
   "metadata": {
    "collapsed": false
   },
   "outputs": [
    {
     "name": "stdout",
     "output_type": "stream",
     "text": [
      "[[-0.21849284]\n",
      " [-0.52160581]\n",
      " [-0.82473527]]\n",
      "[[ 0.21849413]\n",
      " [ 0.52160601]\n",
      " [ 0.8247348 ]]\n",
      "-7.04708085388e-11 [[ 0.21849413]\n",
      " [ 0.52160601]\n",
      " [ 0.8247348 ]]\n"
     ]
    }
   ],
   "source": [
    "lam3, x3 = pow(Mss, thres=2, pr = True)\n",
    "print lam3, x3"
   ]
  },
  {
   "cell_type": "markdown",
   "metadata": {},
   "source": [
    "The power iteration method is getting stuck at two vectors. Might need to increase amount of digits used for the calculation."
   ]
  },
  {
   "cell_type": "code",
   "execution_count": 354,
   "metadata": {
    "collapsed": false
   },
   "outputs": [
    {
     "data": {
      "text/plain": [
       "matrix([[-0.21849413],\n",
       "        [-0.52160601],\n",
       "        [-0.8247348 ]])"
      ]
     },
     "execution_count": 354,
     "metadata": {},
     "output_type": "execute_result"
    }
   ],
   "source": [
    "# power iteration method is stuck, oscillating between these two vectors\n",
    "Mss*x3/Frobenius(Mss*x3)"
   ]
  },
  {
   "cell_type": "code",
   "execution_count": 349,
   "metadata": {
    "collapsed": true
   },
   "outputs": [],
   "source": [
    "x3_exact = np.array([1,-2,1])\n",
    "x3_exact = x3_exact/np.sqrt(sum(x3_exact**2))"
   ]
  },
  {
   "cell_type": "code",
   "execution_count": 351,
   "metadata": {
    "collapsed": false
   },
   "outputs": [
    {
     "data": {
      "text/plain": [
       "array([ 0.40824829, -0.81649658,  0.40824829])"
      ]
     },
     "execution_count": 351,
     "metadata": {},
     "output_type": "execute_result"
    }
   ],
   "source": [
    "x3_exact"
   ]
  },
  {
   "cell_type": "markdown",
   "metadata": {},
   "source": [
    "<a id='11-1-7'></a>\n",
    "# 11.1.7"
   ]
  },
  {
   "cell_type": "code",
   "execution_count": 355,
   "metadata": {
    "collapsed": false
   },
   "outputs": [
    {
     "data": {
      "text/plain": [
       "matrix([[1, 1, 1],\n",
       "        [1, 2, 3],\n",
       "        [1, 3, 6]])"
      ]
     },
     "execution_count": 355,
     "metadata": {},
     "output_type": "execute_result"
    }
   ],
   "source": [
    "M = np.matrix([[1,1,1],[1,2,3],[1,3,6]])\n",
    "M"
   ]
  },
  {
   "cell_type": "code",
   "execution_count": 357,
   "metadata": {
    "collapsed": false
   },
   "outputs": [
    {
     "name": "stdout",
     "output_type": "stream",
     "text": [
      "7.87298334621 [[ 0.19382289]\n",
      " [ 0.4722474 ]\n",
      " [ 0.85989248]]\n"
     ]
    }
   ],
   "source": [
    "# first eigenpair\n",
    "lam1, x1 = pow(M)\n",
    "print lam1, x1"
   ]
  },
  {
   "cell_type": "code",
   "execution_count": 368,
   "metadata": {
    "collapsed": false
   },
   "outputs": [
    {
     "data": {
      "text/plain": [
       "array([ 0.19382266,  0.47224729,  0.8598926 ])"
      ]
     },
     "execution_count": 368,
     "metadata": {},
     "output_type": "execute_result"
    }
   ],
   "source": [
    "x1_exact = np.array([(6/5)*(5+np.sqrt(15))/(3+np.sqrt(15))**2,\n",
    "                     (1/5)*(15+np.sqrt(15))/(3+np.sqrt(15)),1])\n",
    "x1_exact = x1_exact/np.sqrt(sum(x1_exact**2))\n",
    "x1_exact"
   ]
  },
  {
   "cell_type": "code",
   "execution_count": 360,
   "metadata": {
    "collapsed": false
   },
   "outputs": [
    {
     "data": {
      "text/plain": [
       "matrix([[ 0.70423318,  0.27936729, -0.31216529],\n",
       "        [ 0.27936729,  0.24418608, -0.19707675],\n",
       "        [-0.31216529, -0.19707675,  0.1785974 ]])"
      ]
     },
     "execution_count": 360,
     "metadata": {},
     "output_type": "execute_result"
    }
   ],
   "source": [
    "Ms = M - lam1*(x1*x1.T)\n",
    "Ms"
   ]
  },
  {
   "cell_type": "code",
   "execution_count": 362,
   "metadata": {
    "collapsed": false
   },
   "outputs": [
    {
     "name": "stdout",
     "output_type": "stream",
     "text": [
      "1.0 [[ 0.81649634]\n",
      " [ 0.40824695]\n",
      " [-0.40825011]]\n"
     ]
    }
   ],
   "source": [
    "# second eigenpair\n",
    "lam2, x2 = pow(Ms)\n",
    "print lam2, x2"
   ]
  },
  {
   "cell_type": "code",
   "execution_count": 369,
   "metadata": {
    "collapsed": false
   },
   "outputs": [
    {
     "data": {
      "text/plain": [
       "array([-0.81649658, -0.40824829,  0.40824829])"
      ]
     },
     "execution_count": 369,
     "metadata": {},
     "output_type": "execute_result"
    }
   ],
   "source": [
    "x2_exact = np.array([-2,-1,1])\n",
    "x2_exact = x2_exact/np.sqrt(sum(x2_exact**2))\n",
    "x2_exact"
   ]
  },
  {
   "cell_type": "code",
   "execution_count": 364,
   "metadata": {
    "collapsed": false
   },
   "outputs": [
    {
     "data": {
      "text/plain": [
       "matrix([[ 0.03756691, -0.05396485,  0.02116943],\n",
       "        [-0.05396485,  0.0775205 , -0.03040989],\n",
       "        [ 0.02116943, -0.03040989,  0.01192925]])"
      ]
     },
     "execution_count": 364,
     "metadata": {},
     "output_type": "execute_result"
    }
   ],
   "source": [
    "Mss = Ms - lam2*(x2*x2.T)\n",
    "Mss"
   ]
  },
  {
   "cell_type": "code",
   "execution_count": 365,
   "metadata": {
    "collapsed": false
   },
   "outputs": [
    {
     "name": "stdout",
     "output_type": "stream",
     "text": [
      "0.127016653793 [[ 0.54384155]\n",
      " [-0.78122828]\n",
      " [ 0.30646167]]\n"
     ]
    }
   ],
   "source": [
    "# third eigenpair\n",
    "lam3, x3 = pow(Mss)\n",
    "print lam3, x3"
   ]
  },
  {
   "cell_type": "code",
   "execution_count": 370,
   "metadata": {
    "collapsed": false
   },
   "outputs": [
    {
     "data": {
      "text/plain": [
       "array([ 0.54384383, -0.78122713,  0.30646053])"
      ]
     },
     "execution_count": 370,
     "metadata": {},
     "output_type": "execute_result"
    }
   ],
   "source": [
    "x3_exact = np.array([(6/5)*(5-np.sqrt(15))/(3-np.sqrt(15))**2,\n",
    "                     (1/5)*(15-np.sqrt(15))/(3-np.sqrt(15)),1])\n",
    "x3_exact = x3_exact/np.sqrt(sum(x3_exact**2))\n",
    "x3_exact"
   ]
  },
  {
   "cell_type": "markdown",
   "metadata": {},
   "source": [
    "<a id='11-2-1'></a>\n",
    "# 11.2.1"
   ]
  },
  {
   "cell_type": "code",
   "execution_count": 373,
   "metadata": {
    "collapsed": false
   },
   "outputs": [
    {
     "data": {
      "text/plain": [
       "matrix([[ 1,  1],\n",
       "        [ 2,  4],\n",
       "        [ 3,  9],\n",
       "        [ 4, 16]])"
      ]
     },
     "execution_count": 373,
     "metadata": {},
     "output_type": "execute_result"
    }
   ],
   "source": [
    "M = np.array([1,1,2,4,3,9,4,16]).reshape(4,2)\n",
    "M = np.asmatrix(M)\n",
    "M"
   ]
  },
  {
   "cell_type": "markdown",
   "metadata": {},
   "source": [
    "(a)"
   ]
  },
  {
   "cell_type": "code",
   "execution_count": 375,
   "metadata": {
    "collapsed": false
   },
   "outputs": [
    {
     "data": {
      "text/plain": [
       "matrix([[ 30, 100],\n",
       "        [100, 354]])"
      ]
     },
     "execution_count": 375,
     "metadata": {},
     "output_type": "execute_result"
    }
   ],
   "source": [
    "MtM = M.T*M\n",
    "MtM"
   ]
  },
  {
   "cell_type": "code",
   "execution_count": 377,
   "metadata": {
    "collapsed": false
   },
   "outputs": [
    {
     "data": {
      "text/plain": [
       "matrix([[  2,   6,  12,  20],\n",
       "        [  6,  20,  42,  72],\n",
       "        [ 12,  42,  90, 156],\n",
       "        [ 20,  72, 156, 272]])"
      ]
     },
     "execution_count": 377,
     "metadata": {},
     "output_type": "execute_result"
    }
   ],
   "source": [
    "MMt = M*M.T\n",
    "MMt"
   ]
  },
  {
   "cell_type": "markdown",
   "metadata": {},
   "source": [
    "(b)"
   ]
  },
  {
   "cell_type": "code",
   "execution_count": 378,
   "metadata": {
    "collapsed": false
   },
   "outputs": [
    {
     "name": "stdout",
     "output_type": "stream",
     "text": [
      "382.378570223 [[ 0.27300543]\n",
      " [ 0.96201249]]\n"
     ]
    }
   ],
   "source": [
    "# Using power=iteration method\n",
    "lam1, x1 = pow(MtM)\n",
    "print lam1, x1"
   ]
  },
  {
   "cell_type": "code",
   "execution_count": 381,
   "metadata": {
    "collapsed": false
   },
   "outputs": [
    {
     "data": {
      "text/plain": [
       "array([ 0.27300539,  0.9620125 ])"
      ]
     },
     "execution_count": 381,
     "metadata": {},
     "output_type": "execute_result"
    }
   ],
   "source": [
    "x1_exact = np.array([100/(162+2*np.sqrt(9061)),1])\n",
    "x1_exact = x1_exact/np.sqrt(sum(x1_exact**2))\n",
    "x1_exact"
   ]
  },
  {
   "cell_type": "code",
   "execution_count": 379,
   "metadata": {
    "collapsed": false
   },
   "outputs": [
    {
     "data": {
      "text/plain": [
       "matrix([[ 1.50057292, -0.4258574 ],\n",
       "        [-0.4258574 ,  0.12085686]])"
      ]
     },
     "execution_count": 379,
     "metadata": {},
     "output_type": "execute_result"
    }
   ],
   "source": [
    "Ms = MtM - lam1*(x1*x1.T)\n",
    "Ms"
   ]
  },
  {
   "cell_type": "code",
   "execution_count": 380,
   "metadata": {
    "collapsed": false
   },
   "outputs": [
    {
     "name": "stdout",
     "output_type": "stream",
     "text": [
      "1.62142977757 [[ 0.96200976]\n",
      " [-0.27301504]]\n"
     ]
    }
   ],
   "source": [
    "lam2, x2 = pow(Ms)\n",
    "print lam2, x2"
   ]
  },
  {
   "cell_type": "code",
   "execution_count": 382,
   "metadata": {
    "collapsed": false
   },
   "outputs": [
    {
     "data": {
      "text/plain": [
       "array([-0.9620125 ,  0.27300539])"
      ]
     },
     "execution_count": 382,
     "metadata": {},
     "output_type": "execute_result"
    }
   ],
   "source": [
    "x2_exact = np.array([100/(162-2*np.sqrt(9061)),1])\n",
    "x2_exact = x2_exact/np.sqrt(sum(x2_exact**2))\n",
    "x2_exact"
   ]
  },
  {
   "cell_type": "markdown",
   "metadata": {},
   "source": [
    "(c) Since M.T\\*M has dimension 2x2 and M\\*M.T has dimension 4x4, the eigenvalues of M\\*M.T are (382.38,1.62,0,0)"
   ]
  },
  {
   "cell_type": "markdown",
   "metadata": {},
   "source": [
    "(d)"
   ]
  },
  {
   "cell_type": "code",
   "execution_count": 383,
   "metadata": {
    "collapsed": false
   },
   "outputs": [
    {
     "data": {
      "text/plain": [
       "matrix([[  1.23501793],\n",
       "        [  4.39406083],\n",
       "        [  9.47712872],\n",
       "        [ 16.48422159]])"
      ]
     },
     "execution_count": 383,
     "metadata": {},
     "output_type": "execute_result"
    }
   ],
   "source": [
    "# eigenvector of MM.T due to lam1\n",
    "M*x1"
   ]
  },
  {
   "cell_type": "code",
   "execution_count": 386,
   "metadata": {
    "collapsed": false
   },
   "outputs": [
    {
     "data": {
      "text/plain": [
       "19.554502556255315"
      ]
     },
     "execution_count": 386,
     "metadata": {},
     "output_type": "execute_result"
    }
   ],
   "source": [
    "Frobenius(M*x1)"
   ]
  },
  {
   "cell_type": "code",
   "execution_count": 389,
   "metadata": {
    "collapsed": false
   },
   "outputs": [
    {
     "name": "stdout",
     "output_type": "stream",
     "text": [
      "[[  472.24437737]\n",
      " [ 1680.19468524]\n",
      " [ 3623.85092359]\n",
      " [ 6303.21309243]]\n",
      "[[  472.24438853]\n",
      " [ 1680.19469871]\n",
      " [ 3623.85093054]\n",
      " [ 6303.21308401]]\n"
     ]
    }
   ],
   "source": [
    "# verifying that we indeed have an eigenvector of MM.T\n",
    "print MMt*(M*x1) \n",
    "print lam1*(M*x1)"
   ]
  },
  {
   "cell_type": "code",
   "execution_count": 384,
   "metadata": {
    "collapsed": false
   },
   "outputs": [
    {
     "data": {
      "text/plain": [
       "matrix([[ 0.68899472],\n",
       "        [ 0.83195935],\n",
       "        [ 0.4288939 ],\n",
       "        [-0.52020165]])"
      ]
     },
     "execution_count": 384,
     "metadata": {},
     "output_type": "execute_result"
    }
   ],
   "source": [
    "# eigenvector of MM.T due to lam2\n",
    "M*x2"
   ]
  },
  {
   "cell_type": "code",
   "execution_count": 385,
   "metadata": {
    "collapsed": false
   },
   "outputs": [
    {
     "data": {
      "text/plain": [
       "1.2733537669157973"
      ]
     },
     "execution_count": 385,
     "metadata": {},
     "output_type": "execute_result"
    }
   ],
   "source": [
    "Frobenius(M*x2)"
   ]
  },
  {
   "cell_type": "code",
   "execution_count": 390,
   "metadata": {
    "collapsed": false
   },
   "outputs": [
    {
     "name": "stdout",
     "output_type": "stream",
     "text": [
      "[[ 1.11243939]\n",
      " [ 1.33218051]\n",
      " [ 0.65922334]\n",
      " [-0.9064321 ]]\n",
      "[[ 1.11715656]\n",
      " [ 1.34896367]\n",
      " [ 0.69542134]\n",
      " [-0.84347044]]\n"
     ]
    }
   ],
   "source": [
    "print MMt*(M*x2) \n",
    "print lam2*(M*x2)"
   ]
  },
  {
   "cell_type": "code",
   "execution_count": 392,
   "metadata": {
    "collapsed": false
   },
   "outputs": [
    {
     "data": {
      "text/plain": [
       "matrix([[-0.00471716],\n",
       "        [-0.01678316],\n",
       "        [-0.03619799],\n",
       "        [-0.06296166]])"
      ]
     },
     "execution_count": 392,
     "metadata": {},
     "output_type": "execute_result"
    }
   ],
   "source": [
    "# accuracy should improve if we allow for more digits\n",
    "MMt*(M*x2) - lam2*(M*x2)"
   ]
  },
  {
   "cell_type": "markdown",
   "metadata": {},
   "source": [
    "For the eigenvectors of lam = 0, we first perform Gaussian Elimination on MM.T"
   ]
  },
  {
   "cell_type": "code",
   "execution_count": 412,
   "metadata": {
    "collapsed": false
   },
   "outputs": [
    {
     "data": {
      "text/plain": [
       "array([[ 2,  6, 12, 20],\n",
       "       [ 0,  2,  6, 12],\n",
       "       [ 0,  0,  0,  0],\n",
       "       [ 0,  0,  0,  0]])"
      ]
     },
     "execution_count": 412,
     "metadata": {},
     "output_type": "execute_result"
    }
   ],
   "source": [
    "# Gaussian Elimination on MM.T results\n",
    "MMt_Gauss = np.array([2,6,12,20,0,2,6,12]+[0]*8).reshape(4,4)\n",
    "MMt_Gauss"
   ]
  },
  {
   "cell_type": "code",
   "execution_count": 418,
   "metadata": {
    "collapsed": false
   },
   "outputs": [
    {
     "name": "stdout",
     "output_type": "stream",
     "text": [
      "[[ 3]\n",
      " [-3]\n",
      " [ 1]\n",
      " [ 0]]\n",
      "[[ 8]\n",
      " [-6]\n",
      " [ 0]\n",
      " [ 1]]\n"
     ]
    }
   ],
   "source": [
    "# solving this system we get the basis for the eigenspace of lam = 0\n",
    "x3 = np.matrix([3,-3,1,0]).T\n",
    "x4 = np.matrix([8,-6,0,1]).T\n",
    "print x3\n",
    "print x4"
   ]
  },
  {
   "cell_type": "code",
   "execution_count": 420,
   "metadata": {
    "collapsed": false
   },
   "outputs": [
    {
     "data": {
      "text/plain": [
       "matrix([[0],\n",
       "        [0],\n",
       "        [0],\n",
       "        [0]])"
      ]
     },
     "execution_count": 420,
     "metadata": {},
     "output_type": "execute_result"
    }
   ],
   "source": [
    "MMt*x3"
   ]
  },
  {
   "cell_type": "code",
   "execution_count": 421,
   "metadata": {
    "collapsed": false
   },
   "outputs": [
    {
     "data": {
      "text/plain": [
       "matrix([[0],\n",
       "        [0],\n",
       "        [0],\n",
       "        [0]])"
      ]
     },
     "execution_count": 421,
     "metadata": {},
     "output_type": "execute_result"
    }
   ],
   "source": [
    "MMt*x4"
   ]
  }
 ],
 "metadata": {
  "kernelspec": {
   "display_name": "Python 2",
   "language": "python",
   "name": "python2"
  },
  "language_info": {
   "codemirror_mode": {
    "name": "ipython",
    "version": 2
   },
   "file_extension": ".py",
   "mimetype": "text/x-python",
   "name": "python",
   "nbconvert_exporter": "python",
   "pygments_lexer": "ipython2",
   "version": "2.7.11"
  }
 },
 "nbformat": 4,
 "nbformat_minor": 0
}
