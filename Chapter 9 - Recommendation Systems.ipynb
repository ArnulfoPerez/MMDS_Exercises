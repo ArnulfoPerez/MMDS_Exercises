{
 "cells": [
  {
   "cell_type": "code",
   "execution_count": 5,
   "metadata": {
    "collapsed": true
   },
   "outputs": [],
   "source": [
    "import numpy as np\n",
    "from __future__ import division"
   ]
  },
  {
   "cell_type": "markdown",
   "metadata": {},
   "source": [
    "# 9.2.1"
   ]
  },
  {
   "cell_type": "code",
   "execution_count": 97,
   "metadata": {
    "collapsed": false
   },
   "outputs": [],
   "source": [
    "class Computer(object):\n",
    "    def __init__(self, proc, disk, mem):\n",
    "        self.processor_speed = proc\n",
    "        self.disk = disk\n",
    "        self.main_memory = mem\n",
    "        self.summary = [proc, disk, mem]\n",
    "    \n",
    "    def dot_prod(self,X):\n",
    "        if isinstance(X, Computer):\n",
    "            bar = [X.processor_speed, X.disk, X.main_memory]\n",
    "            return sum([x*y for x,y in zip(self.summary,bar)])\n",
    "        else:\n",
    "            assert len(X) == 3\n",
    "            return sum([x*y for x,y in zip(self.summary,X)])\n",
    "            \n",
    "    def cosine(self,X,alpha=1,beta=1):\n",
    "        if isinstance(X, Computer):\n",
    "            foo = [self.processor_speed, alpha*self.disk, beta*self.main_memory]\n",
    "            bar = [X.processor_speed, alpha*X.disk, alpha*X.main_memory]\n",
    "            ati = np.dot(foo,bar)\n",
    "            tun = np.sqrt(np.dot(foo,foo))*np.sqrt(np.dot(bar,bar))\n",
    "            return ati/tun\n",
    "    \n",
    "    def normalize(self, mu):\n",
    "        assert len(mu) == 3\n",
    "        return [self.processor_speed - mu[0], self.disk - mu[1], \n",
    "                       self.main_memory - mu[2]]"
   ]
  },
  {
   "cell_type": "code",
   "execution_count": 98,
   "metadata": {
    "collapsed": true
   },
   "outputs": [],
   "source": [
    "A = Computer(3.06,500,6)\n",
    "B = Computer(2.68,320,4)\n",
    "C = Computer(2.92,640,6)"
   ]
  },
  {
   "cell_type": "code",
   "execution_count": 99,
   "metadata": {
    "collapsed": false
   },
   "outputs": [],
   "source": [
    "computers = {'A':A, 'B':B, 'C':C}"
   ]
  },
  {
   "cell_type": "markdown",
   "metadata": {},
   "source": [
    "(b) cosine similarities when alpha=beta=1"
   ]
  },
  {
   "cell_type": "code",
   "execution_count": 100,
   "metadata": {
    "collapsed": false
   },
   "outputs": [],
   "source": [
    "pairs = [['A','B'],['A','C'],['B','C']]"
   ]
  },
  {
   "cell_type": "code",
   "execution_count": 101,
   "metadata": {
    "collapsed": false
   },
   "outputs": [
    {
     "name": "stdout",
     "output_type": "stream",
     "text": [
      "['A', 'B'] 0.999997333284\n",
      "['A', 'C'] 0.999995343121\n",
      "['B', 'C'] 0.999987853375\n"
     ]
    }
   ],
   "source": [
    "# cosine similarities\n",
    "for pair in pairs:\n",
    "    print pair, computers[pair[0]].cosine(computers[pair[1]])"
   ]
  },
  {
   "cell_type": "markdown",
   "metadata": {},
   "source": [
    "(c) cosine similarities when alpha=0.01 and beta=0.5"
   ]
  },
  {
   "cell_type": "code",
   "execution_count": 102,
   "metadata": {
    "collapsed": false
   },
   "outputs": [
    {
     "name": "stdout",
     "output_type": "stream",
     "text": [
      "['A', 'B'] 0.884792148899\n",
      "['A', 'C'] 0.887525858762\n",
      "['B', 'C'] 0.873005241921\n"
     ]
    }
   ],
   "source": [
    "for pair in pairs:\n",
    "    print pair, computers[pair[0]].cosine(computers[pair[1]],0.01,0.5)"
   ]
  },
  {
   "cell_type": "markdown",
   "metadata": {},
   "source": [
    "(d) setting alpha = 1/avg(disk size) and beta = 1/avg(main_memory)"
   ]
  },
  {
   "cell_type": "code",
   "execution_count": 103,
   "metadata": {
    "collapsed": true
   },
   "outputs": [],
   "source": [
    "alpha = 1/np.mean([A.disk,B.disk,C.disk])\n",
    "beta = 1/np.mean([A.main_memory,B.main_memory,C.main_memory])"
   ]
  },
  {
   "cell_type": "code",
   "execution_count": 104,
   "metadata": {
    "collapsed": false
   },
   "outputs": [
    {
     "name": "stdout",
     "output_type": "stream",
     "text": [
      "0.00205479452055 0.1875\n"
     ]
    }
   ],
   "source": [
    "print alpha,beta"
   ]
  },
  {
   "cell_type": "code",
   "execution_count": 105,
   "metadata": {
    "collapsed": false
   },
   "outputs": [
    {
     "name": "stdout",
     "output_type": "stream",
     "text": [
      "['A', 'B'] 0.941990802633\n",
      "['A', 'C'] 0.940905717338\n",
      "['B', 'C'] 0.949959248828\n"
     ]
    }
   ],
   "source": [
    "for pair in pairs:\n",
    "    print pair, computers[pair[0]].cosine(computers[pair[1]],alpha,beta)"
   ]
  },
  {
   "cell_type": "markdown",
   "metadata": {},
   "source": [
    "# 9.2.2 "
   ]
  },
  {
   "cell_type": "markdown",
   "metadata": {},
   "source": [
    "(a) Normalizing the vectors of the three computers of 9.2.1"
   ]
  },
  {
   "cell_type": "code",
   "execution_count": 106,
   "metadata": {
    "collapsed": false
   },
   "outputs": [],
   "source": [
    "mean_proc = np.mean([comp.processor_speed for comp in computers.values()])\n",
    "mean_disk = np.mean([comp.disk for comp in computers.values()])\n",
    "mean_memory = np.mean([comp.main_memory for comp in computers.values()])"
   ]
  },
  {
   "cell_type": "code",
   "execution_count": 107,
   "metadata": {
    "collapsed": true
   },
   "outputs": [],
   "source": [
    "means = [mean_proc, mean_disk, mean_memory]"
   ]
  },
  {
   "cell_type": "code",
   "execution_count": 111,
   "metadata": {
    "collapsed": false
   },
   "outputs": [
    {
     "name": "stdout",
     "output_type": "stream",
     "text": [
      "A: [0.17333333333333334, 13.333333333333314, 0.66666666666666696]\n",
      "B: [-0.20666666666666655, -166.66666666666669, -1.333333333333333]\n",
      "C: [0.033333333333333215, 153.33333333333331, 0.66666666666666696]\n"
     ]
    }
   ],
   "source": [
    "print 'A:', A.normalize(means)\n",
    "print 'B:',B.normalize(means)\n",
    "print 'C:',C.normalize(means)"
   ]
  },
  {
   "cell_type": "code",
   "execution_count": null,
   "metadata": {
    "collapsed": true
   },
   "outputs": [],
   "source": []
  },
  {
   "cell_type": "markdown",
   "metadata": {},
   "source": [
    "# 9.2.3 "
   ]
  },
  {
   "cell_type": "code",
   "execution_count": 123,
   "metadata": {
    "collapsed": true
   },
   "outputs": [],
   "source": [
    "# ordered [A,B,C]\n",
    "user_ratings = [4,2,5]"
   ]
  },
  {
   "cell_type": "markdown",
   "metadata": {},
   "source": [
    "(a) normalizing the ratings for this user"
   ]
  },
  {
   "cell_type": "code",
   "execution_count": 116,
   "metadata": {
    "collapsed": false
   },
   "outputs": [],
   "source": [
    "avg_rating = np.mean(user_ratings)"
   ]
  },
  {
   "cell_type": "code",
   "execution_count": 118,
   "metadata": {
    "collapsed": false
   },
   "outputs": [
    {
     "data": {
      "text/plain": [
       "[0.33333333333333348, -1.6666666666666665, 1.3333333333333335]"
      ]
     },
     "execution_count": 118,
     "metadata": {},
     "output_type": "execute_result"
    }
   ],
   "source": [
    "# normalize the ratings for this user\n",
    "[rate - avg_rating for rate in user_ratings]"
   ]
  },
  {
   "cell_type": "markdown",
   "metadata": {},
   "source": [
    "(b) constructing a user profile from the items profiles\n",
    "\n",
    "*I use the weights rating/5 *"
   ]
  },
  {
   "cell_type": "code",
   "execution_count": 119,
   "metadata": {
    "collapsed": true
   },
   "outputs": [],
   "source": [
    "weights = [rate/5 for rate in user_ratings]"
   ]
  },
  {
   "cell_type": "code",
   "execution_count": 126,
   "metadata": {
    "collapsed": false
   },
   "outputs": [
    {
     "data": {
      "text/plain": [
       "[0.8, 0.4, 1.0]"
      ]
     },
     "execution_count": 126,
     "metadata": {},
     "output_type": "execute_result"
    }
   ],
   "source": [
    "weights"
   ]
  },
  {
   "cell_type": "code",
   "execution_count": 124,
   "metadata": {
    "collapsed": false
   },
   "outputs": [],
   "source": [
    "user_profile = {}\n",
    "user_profile['proc_speed'] = sum([wt*proc for wt,proc in zip(weights,[A.processor_speed,\n",
    "                                                                B.processor_speed,C.processor_speed])])\n",
    "user_profile['disk'] = sum([wt*disk for wt,disk in zip(weights,[A.disk,B.disk,C.disk])])\n",
    "user_profile['main_memory'] = sum([wt*mm for wt,mm in zip(weights,[A.main_memory,B.main_memory,\n",
    "                                                                  C.main_memory])])"
   ]
  },
  {
   "cell_type": "code",
   "execution_count": 125,
   "metadata": {
    "collapsed": false
   },
   "outputs": [
    {
     "data": {
      "text/plain": [
       "{'disk': 1168.0, 'main_memory': 12.4, 'proc_speed': 6.44}"
      ]
     },
     "execution_count": 125,
     "metadata": {},
     "output_type": "execute_result"
    }
   ],
   "source": [
    "user_profile"
   ]
  },
  {
   "cell_type": "markdown",
   "metadata": {},
   "source": [
    "Alternatively, can use the following weights."
   ]
  },
  {
   "cell_type": "code",
   "execution_count": 128,
   "metadata": {
    "collapsed": false
   },
   "outputs": [
    {
     "data": {
      "text/plain": [
       "[0.36363636363636365, 0.18181818181818182, 0.45454545454545453]"
      ]
     },
     "execution_count": 128,
     "metadata": {},
     "output_type": "execute_result"
    }
   ],
   "source": [
    "weights = [rate/sum(user_ratings) for rate in user_ratings]\n",
    "weights"
   ]
  },
  {
   "cell_type": "code",
   "execution_count": 129,
   "metadata": {
    "collapsed": true
   },
   "outputs": [],
   "source": [
    "user_profile = {}\n",
    "user_profile['proc_speed'] = sum([wt*proc for wt,proc in zip(weights,[A.processor_speed,\n",
    "                                                                B.processor_speed,C.processor_speed])])\n",
    "user_profile['disk'] = sum([wt*disk for wt,disk in zip(weights,[A.disk,B.disk,C.disk])])\n",
    "user_profile['main_memory'] = sum([wt*mm for wt,mm in zip(weights,[A.main_memory,B.main_memory,\n",
    "                                                                  C.main_memory])])"
   ]
  },
  {
   "cell_type": "code",
   "execution_count": 130,
   "metadata": {
    "collapsed": false
   },
   "outputs": [
    {
     "data": {
      "text/plain": [
       "{'disk': 530.9090909090909,\n",
       " 'main_memory': 5.636363636363637,\n",
       " 'proc_speed': 2.9272727272727272}"
      ]
     },
     "execution_count": 130,
     "metadata": {},
     "output_type": "execute_result"
    }
   ],
   "source": [
    "user_profile"
   ]
  },
  {
   "cell_type": "markdown",
   "metadata": {},
   "source": [
    "This user_profile supplies aggregates that are within the support of each component."
   ]
  }
 ],
 "metadata": {
  "kernelspec": {
   "display_name": "Python 2",
   "language": "python",
   "name": "python2"
  },
  "language_info": {
   "codemirror_mode": {
    "name": "ipython",
    "version": 2
   },
   "file_extension": ".py",
   "mimetype": "text/x-python",
   "name": "python",
   "nbconvert_exporter": "python",
   "pygments_lexer": "ipython2",
   "version": "2.7.11"
  }
 },
 "nbformat": 4,
 "nbformat_minor": 0
}
