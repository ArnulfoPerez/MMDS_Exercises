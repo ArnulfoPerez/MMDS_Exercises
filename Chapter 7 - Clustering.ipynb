{
 "cells": [
  {
   "cell_type": "markdown",
   "metadata": {},
   "source": [
    "## Contents\n",
    "- <a href='#7-1-1'>Exercise 7.1.1</a>\n",
    "- <a href='#7-1-2'>Exercise 7.1.2</a>\n",
    "- <a href='#7-2-1'>Exercise 7.2.1</a>\n",
    "- <a href='#7-2-2'>Exercise 7.2.2</a>\n",
    "- <a href='#7-2-3'>Exercise 7.2.3</a>\n",
    "    - <a href='#7-2-3-a'>Exercise 7.2.3 (a)</a>\n",
    "    - <a href='#7-2-3-b'>Exercise 7.2.3 (b)</a>\n",
    "- <a href='#7-2-4'>Exercise 7.2.4</a>\n",
    "- <a href='#7-2-5'>Exercise 7.2.5 Computing clustroids</a>"
   ]
  },
  {
   "cell_type": "code",
   "execution_count": 1,
   "metadata": {
    "collapsed": true
   },
   "outputs": [],
   "source": [
    "import numpy as np\n",
    "from __future__ import division"
   ]
  },
  {
   "cell_type": "markdown",
   "metadata": {},
   "source": [
    "<a id='7-1-1'></a>\n",
    "# 7.1.1 "
   ]
  },
  {
   "cell_type": "markdown",
   "metadata": {},
   "source": [
    "Monte Carlo Integration of E(|X-Y|) where X and Y are independent U(0,1) random variables."
   ]
  },
  {
   "cell_type": "code",
   "execution_count": 2,
   "metadata": {
    "collapsed": false
   },
   "outputs": [
    {
     "data": {
      "text/plain": [
       "0.33451502070000289"
      ]
     },
     "execution_count": 2,
     "metadata": {},
     "output_type": "execute_result"
    }
   ],
   "source": [
    "n = 100000\n",
    "sum = 0\n",
    "for i in range(n):\n",
    "    x = np.random.rand()\n",
    "    y = np.random.rand()\n",
    "    sum += np.abs(x-y)\n",
    "sum/n"
   ]
  },
  {
   "cell_type": "markdown",
   "metadata": {
    "collapsed": true
   },
   "source": [
    "<a id='7-1-2'></a>\n",
    "# 7.1.2 "
   ]
  },
  {
   "cell_type": "markdown",
   "metadata": {},
   "source": [
    "Simulation to estimate the expected Euclidean distance between two random points of a unit square."
   ]
  },
  {
   "cell_type": "code",
   "execution_count": 6,
   "metadata": {
    "collapsed": false
   },
   "outputs": [
    {
     "data": {
      "text/plain": [
       "0.33451502070000289"
      ]
     },
     "execution_count": 6,
     "metadata": {},
     "output_type": "execute_result"
    }
   ],
   "source": [
    "n = 100000\n",
    "sum_ed = 0\n",
    "for i in range(n):\n",
    "    x = np.random.rand(2)\n",
    "    y = np.random.rand(2)\n",
    "    sum_ed += np.sqrt((x[0]-y[0])**2+(x[1]-y[1])**2)\n",
    "sum/n"
   ]
  },
  {
   "cell_type": "markdown",
   "metadata": {},
   "source": [
    "<a id='7-2-1'></a>\n",
    "# 7.2.1"
   ]
  },
  {
   "cell_type": "code",
   "execution_count": 432,
   "metadata": {
    "collapsed": true
   },
   "outputs": [],
   "source": [
    "def Euclidean(x,y):\n",
    "    \"\"\"\n",
    "    This function returns the Euclidean distance between two vectors\n",
    "    of a Euclidean space.\n",
    "    \"\"\"\n",
    "    xc = np.array(x)\n",
    "    yc = np.array(y)\n",
    "    return np.sqrt(np.dot(xc-yc,xc-yc))"
   ]
  },
  {
   "cell_type": "code",
   "execution_count": 382,
   "metadata": {
    "collapsed": false
   },
   "outputs": [
    {
     "data": {
      "text/plain": [
       "3.6055512754639891"
      ]
     },
     "execution_count": 382,
     "metadata": {},
     "output_type": "execute_result"
    }
   ],
   "source": [
    "# sqrt[(4-1)^2+(4-2)^2]\n",
    "Euclidean(np.array([4,4]), np.array([1,2]))"
   ]
  },
  {
   "cell_type": "code",
   "execution_count": 383,
   "metadata": {
    "collapsed": false
   },
   "outputs": [
    {
     "data": {
      "text/plain": [
       "1.0"
      ]
     },
     "execution_count": 383,
     "metadata": {},
     "output_type": "execute_result"
    }
   ],
   "source": [
    "Euclidean([1],[0])"
   ]
  },
  {
   "cell_type": "code",
   "execution_count": 384,
   "metadata": {
    "collapsed": true
   },
   "outputs": [],
   "source": [
    "def mean(x):\n",
    "    \"\"\"\n",
    "    This function takes as input a lists of the clusters and outputs\n",
    "    the overall average of these clusters. This output is stored as\n",
    "    a tuple so that it can be used to access the cluster index.\n",
    "    \"\"\"\n",
    "    N = len(x)\n",
    "    n = len(x[0])\n",
    "    sum_vec = np.zeros(n)\n",
    "    for point in x:\n",
    "        sum_vec += np.array(point)\n",
    "    mean_vec = sum_vec / N\n",
    "    return tuple(mean_vec)\n",
    "\n",
    "# mean([[1],[2]])\n",
    "# mean([[1,2],[3,4],[5,6]])"
   ]
  },
  {
   "cell_type": "code",
   "execution_count": 428,
   "metadata": {
    "collapsed": false
   },
   "outputs": [],
   "source": [
    "def agg_(clusters, print_summary = True):\n",
    "    \"\"\"\n",
    "    This function takes as input a dictionary of clusters in \n",
    "    Euclidean space and returns the Agglomerative clustering. \n",
    "    The key of the dictionary is the centroid of the corresponding\n",
    "    cluster.\n",
    "    \n",
    "    Note that the clustering agglomerative clustering is done in\n",
    "    place with respect to the clusters list input.\n",
    "    \"\"\"\n",
    "    step = 1\n",
    "    while len(clusters) > 1:\n",
    "#     while step < 3:\n",
    "        # clusters hash table (use centroids as hash keys)\n",
    "        clusters_ix = {el[0]:i for i,el in enumerate(clusters)}\n",
    "        # double loop to consider the minimal distance between all pairs of clusters\n",
    "        n = len(clusters)\n",
    "        min_dist = 2**32-1\n",
    "        c1 = None\n",
    "        c2 = None\n",
    "        for i in range(n-1):\n",
    "            for j in range(i+1,n):\n",
    "                # the distance between centroids of cluster i and cluster j\n",
    "                distance_ij = Euclidean(clusters[i][0], clusters[j][0])\n",
    "                if distance_ij < min_dist:\n",
    "                    min_dist = distance_ij\n",
    "                    c1 = clusters[i]\n",
    "                    c2 = clusters[j]\n",
    "        # merge the two clusters that result in minimum Euclidean distance\n",
    "        new_cluster = c1[1] + c2[1]\n",
    "        new_centroid = mean(new_cluster)\n",
    "        clusters.append([new_centroid, new_cluster])\n",
    "        # remove the merged clusters from the list \n",
    "        del clusters[max(clusters_ix[c1[0]],clusters_ix[c2[0]])]\n",
    "        del clusters[min(clusters_ix[c1[0]],clusters_ix[c2[0]])]\n",
    "        if print_summary:\n",
    "            print 'Step %d:' % step\n",
    "            print 'Merged clusters: %s and %s' %(str(c1[1]),str(c2[1]))\n",
    "            print 'Minimum distance: %f' % min_dist\n",
    "            print 'New clusters list:'\n",
    "            print [el[1] for el in clusters] \n",
    "            print 'New centroids:'\n",
    "            print [el[0] for el in clusters]\n",
    "            print ''\n",
    "            print '--------------------------------------------------------'\n",
    "            print ''\n",
    "        step += 1"
   ]
  },
  {
   "cell_type": "code",
   "execution_count": 429,
   "metadata": {
    "collapsed": false
   },
   "outputs": [
    {
     "data": {
      "text/plain": [
       "[[(1,), [[1]]],\n",
       " [(4,), [[4]]],\n",
       " [(9,), [[9]]],\n",
       " [(16,), [[16]]],\n",
       " [(25,), [[25]]],\n",
       " [(36,), [[36]]],\n",
       " [(49,), [[49]]],\n",
       " [(64,), [[64]]],\n",
       " [(81,), [[81]]]]"
      ]
     },
     "execution_count": 429,
     "metadata": {},
     "output_type": "execute_result"
    }
   ],
   "source": [
    "# an array storing centroid and cluster\n",
    "clusters = [[(i**2,), [[i**2]]] for i in range(1,10)]\n",
    "clusters"
   ]
  },
  {
   "cell_type": "code",
   "execution_count": 430,
   "metadata": {
    "collapsed": false
   },
   "outputs": [
    {
     "name": "stdout",
     "output_type": "stream",
     "text": [
      "Step 1:\n",
      "Merged clusters: [[1]] and [[4]]\n",
      "Minimum distance: 3.000000\n",
      "New clusters list:\n",
      "[[[9]], [[16]], [[25]], [[36]], [[49]], [[64]], [[81]], [[1], [4]]]\n",
      "New centroids:\n",
      "[(9,), (16,), (25,), (36,), (49,), (64,), (81,), (2.5,)]\n",
      "\n",
      "--------------------------------------------------------\n",
      "\n",
      "Step 2:\n",
      "Merged clusters: [[9]] and [[1], [4]]\n",
      "Minimum distance: 6.500000\n",
      "New clusters list:\n",
      "[[[16]], [[25]], [[36]], [[49]], [[64]], [[81]], [[9], [1], [4]]]\n",
      "New centroids:\n",
      "[(16,), (25,), (36,), (49,), (64,), (81,), (4.666666666666667,)]\n",
      "\n",
      "--------------------------------------------------------\n",
      "\n",
      "Step 3:\n",
      "Merged clusters: [[16]] and [[25]]\n",
      "Minimum distance: 9.000000\n",
      "New clusters list:\n",
      "[[[36]], [[49]], [[64]], [[81]], [[9], [1], [4]], [[16], [25]]]\n",
      "New centroids:\n",
      "[(36,), (49,), (64,), (81,), (4.666666666666667,), (20.5,)]\n",
      "\n",
      "--------------------------------------------------------\n",
      "\n",
      "Step 4:\n",
      "Merged clusters: [[36]] and [[49]]\n",
      "Minimum distance: 13.000000\n",
      "New clusters list:\n",
      "[[[64]], [[81]], [[9], [1], [4]], [[16], [25]], [[36], [49]]]\n",
      "New centroids:\n",
      "[(64,), (81,), (4.666666666666667,), (20.5,), (42.5,)]\n",
      "\n",
      "--------------------------------------------------------\n",
      "\n",
      "Step 5:\n",
      "Merged clusters: [[9], [1], [4]] and [[16], [25]]\n",
      "Minimum distance: 15.833333\n",
      "New clusters list:\n",
      "[[[64]], [[81]], [[36], [49]], [[9], [1], [4], [16], [25]]]\n",
      "New centroids:\n",
      "[(64,), (81,), (42.5,), (11.0,)]\n",
      "\n",
      "--------------------------------------------------------\n",
      "\n",
      "Step 6:\n",
      "Merged clusters: [[64]] and [[81]]\n",
      "Minimum distance: 17.000000\n",
      "New clusters list:\n",
      "[[[36], [49]], [[9], [1], [4], [16], [25]], [[64], [81]]]\n",
      "New centroids:\n",
      "[(42.5,), (11.0,), (72.5,)]\n",
      "\n",
      "--------------------------------------------------------\n",
      "\n",
      "Step 7:\n",
      "Merged clusters: [[36], [49]] and [[64], [81]]\n",
      "Minimum distance: 30.000000\n",
      "New clusters list:\n",
      "[[[9], [1], [4], [16], [25]], [[36], [49], [64], [81]]]\n",
      "New centroids:\n",
      "[(11.0,), (57.5,)]\n",
      "\n",
      "--------------------------------------------------------\n",
      "\n",
      "Step 8:\n",
      "Merged clusters: [[9], [1], [4], [16], [25]] and [[36], [49], [64], [81]]\n",
      "Minimum distance: 46.500000\n",
      "New clusters list:\n",
      "[[[9], [1], [4], [16], [25], [36], [49], [64], [81]]]\n",
      "New centroids:\n",
      "[(31.666666666666668,)]\n",
      "\n",
      "--------------------------------------------------------\n",
      "\n"
     ]
    }
   ],
   "source": [
    "agg_(clusters)"
   ]
  },
  {
   "cell_type": "code",
   "execution_count": 431,
   "metadata": {
    "collapsed": false
   },
   "outputs": [
    {
     "data": {
      "text/plain": [
       "[[(31.666666666666668,), [[9], [1], [4], [16], [25], [36], [49], [64], [81]]]]"
      ]
     },
     "execution_count": 431,
     "metadata": {},
     "output_type": "execute_result"
    }
   ],
   "source": [
    "#final clusters list\n",
    "clusters"
   ]
  },
  {
   "cell_type": "markdown",
   "metadata": {},
   "source": [
    "<a id='7-2-2'></a>\n",
    "# 7.2.2"
   ]
  },
  {
   "cell_type": "markdown",
   "metadata": {},
   "source": [
    "(a) Using the minimum distance between any two points, one from each cluster as the criterion for selecting two clusters to merge."
   ]
  },
  {
   "cell_type": "code",
   "execution_count": 343,
   "metadata": {
    "collapsed": true
   },
   "outputs": [],
   "source": [
    "def mins(x,y):\n",
    "    \"\"\"\n",
    "    This function takes as input two clusters of points (i.e. vectors) each of which \n",
    "    are represented by of their own individual lists. The output of this function\n",
    "    is the minimum distance between any two points one from each cluster\n",
    "    \"\"\"\n",
    "    nx = len(x)\n",
    "    ny = len(y)\n",
    "    running_min = 2**32 - 1\n",
    "    for pt_x in x:\n",
    "        for pt_y in y:\n",
    "            if Euclidean(pt_x,pt_y) < running_min:\n",
    "                running_min = Euclidean(pt_x,pt_y)\n",
    "    return running_min"
   ]
  },
  {
   "cell_type": "code",
   "execution_count": 344,
   "metadata": {
    "collapsed": false
   },
   "outputs": [
    {
     "data": {
      "text/plain": [
       "2.0"
      ]
     },
     "execution_count": 344,
     "metadata": {},
     "output_type": "execute_result"
    }
   ],
   "source": [
    "Euclidean([1],[3])"
   ]
  },
  {
   "cell_type": "code",
   "execution_count": 345,
   "metadata": {
    "collapsed": false
   },
   "outputs": [
    {
     "data": {
      "text/plain": [
       "0.5"
      ]
     },
     "execution_count": 345,
     "metadata": {},
     "output_type": "execute_result"
    }
   ],
   "source": [
    "mins([[1]],[[3],[2],[0.5]])"
   ]
  },
  {
   "cell_type": "code",
   "execution_count": 425,
   "metadata": {
    "collapsed": false
   },
   "outputs": [],
   "source": [
    "def agg_(clusters, print_summary = True, dist = 'Euclidean'):\n",
    "    \"\"\"\n",
    "    This function takes as input a dictionary of clusters in \n",
    "    Euclidean space and returns the Agglomerative clustering. \n",
    "    The key of the dictionary is the centroid of the corresponding\n",
    "    cluster.\n",
    "    \n",
    "    Note that the clustering agglomerative clustering is done in\n",
    "    place with respect to the clusters list input.\n",
    "    \"\"\"\n",
    "    \n",
    "    # specifying the distance function used\n",
    "    if dist == 'Euclidean':\n",
    "        f_dist = Euclidean\n",
    "        r_ = 0\n",
    "    if dist == 'mins':\n",
    "        f_dist = mins\n",
    "        r_ = 1\n",
    "    step = 1    \n",
    "    while len(clusters) > 1:\n",
    "#     while step < 3:\n",
    "        # clusters hash table (use centroids as hash keys)\n",
    "        clusters_ix = {el[0]:i for i,el in enumerate(clusters)}\n",
    "        # double loop to consider the minimal distance between all pairs of clusters\n",
    "        n = len(clusters)\n",
    "        min_dist = 2**32-1\n",
    "        c1 = None\n",
    "        c2 = None\n",
    "        for i in range(n-1):\n",
    "            for j in range(i+1,n):\n",
    "                # the distance between centroids of cluster i and cluster j\n",
    "                distance_ij = f_dist(clusters[i][r_], clusters[j][r_])\n",
    "                if distance_ij < min_dist:\n",
    "                    min_dist = distance_ij\n",
    "                    c1 = clusters[i]\n",
    "                    c2 = clusters[j]\n",
    "        # merge the two clusters that result in minimum Euclidean distance\n",
    "        new_cluster = c1[1] + c2[1]\n",
    "        new_centroid = mean(new_cluster)\n",
    "        clusters.append([new_centroid, new_cluster])\n",
    "        # remove the merged clusters from the list \n",
    "        del clusters[max(clusters_ix[c1[0]],clusters_ix[c2[0]])]\n",
    "        del clusters[min(clusters_ix[c1[0]],clusters_ix[c2[0]])]\n",
    "        if print_summary:\n",
    "            print 'Step %d:' % step\n",
    "            print 'Merged clusters: %s and %s' %(str(c1[1]),str(c2[1]))\n",
    "            print 'Minimum distance: %f' % min_dist\n",
    "            print 'New clusters list:'\n",
    "            print [el[1] for el in clusters] \n",
    "            print 'New centroids:'\n",
    "            print [el[0] for el in clusters]\n",
    "            print ''\n",
    "            print '--------------------------------------------------------'\n",
    "            print ''\n",
    "        step += 1"
   ]
  },
  {
   "cell_type": "code",
   "execution_count": 426,
   "metadata": {
    "collapsed": false
   },
   "outputs": [
    {
     "data": {
      "text/plain": [
       "[[(1,), [[1]]],\n",
       " [(4,), [[4]]],\n",
       " [(9,), [[9]]],\n",
       " [(16,), [[16]]],\n",
       " [(25,), [[25]]],\n",
       " [(36,), [[36]]],\n",
       " [(49,), [[49]]],\n",
       " [(64,), [[64]]],\n",
       " [(81,), [[81]]]]"
      ]
     },
     "execution_count": 426,
     "metadata": {},
     "output_type": "execute_result"
    }
   ],
   "source": [
    "# an array storing centroid and cluster\n",
    "clusters = [[(i**2,), [[i**2]]] for i in range(1,10)]\n",
    "clusters"
   ]
  },
  {
   "cell_type": "code",
   "execution_count": 427,
   "metadata": {
    "collapsed": false
   },
   "outputs": [
    {
     "name": "stdout",
     "output_type": "stream",
     "text": [
      "Step 1:\n",
      "Merged clusters: [[1]] and [[4]]\n",
      "Minimum distance: 3.000000\n",
      "New clusters list:\n",
      "[[[9]], [[16]], [[25]], [[36]], [[49]], [[64]], [[81]], [[1], [4]]]\n",
      "New centroids:\n",
      "[(9,), (16,), (25,), (36,), (49,), (64,), (81,), (2.5,)]\n",
      "\n",
      "--------------------------------------------------------\n",
      "\n",
      "Step 2:\n",
      "Merged clusters: [[9]] and [[1], [4]]\n",
      "Minimum distance: 5.000000\n",
      "New clusters list:\n",
      "[[[16]], [[25]], [[36]], [[49]], [[64]], [[81]], [[9], [1], [4]]]\n",
      "New centroids:\n",
      "[(16,), (25,), (36,), (49,), (64,), (81,), (4.666666666666667,)]\n",
      "\n",
      "--------------------------------------------------------\n",
      "\n",
      "Step 3:\n",
      "Merged clusters: [[16]] and [[9], [1], [4]]\n",
      "Minimum distance: 7.000000\n",
      "New clusters list:\n",
      "[[[25]], [[36]], [[49]], [[64]], [[81]], [[16], [9], [1], [4]]]\n",
      "New centroids:\n",
      "[(25,), (36,), (49,), (64,), (81,), (7.5,)]\n",
      "\n",
      "--------------------------------------------------------\n",
      "\n",
      "Step 4:\n",
      "Merged clusters: [[25]] and [[16], [9], [1], [4]]\n",
      "Minimum distance: 9.000000\n",
      "New clusters list:\n",
      "[[[36]], [[49]], [[64]], [[81]], [[25], [16], [9], [1], [4]]]\n",
      "New centroids:\n",
      "[(36,), (49,), (64,), (81,), (11.0,)]\n",
      "\n",
      "--------------------------------------------------------\n",
      "\n",
      "Step 5:\n",
      "Merged clusters: [[36]] and [[25], [16], [9], [1], [4]]\n",
      "Minimum distance: 11.000000\n",
      "New clusters list:\n",
      "[[[49]], [[64]], [[81]], [[36], [25], [16], [9], [1], [4]]]\n",
      "New centroids:\n",
      "[(49,), (64,), (81,), (15.166666666666666,)]\n",
      "\n",
      "--------------------------------------------------------\n",
      "\n",
      "Step 6:\n",
      "Merged clusters: [[49]] and [[36], [25], [16], [9], [1], [4]]\n",
      "Minimum distance: 13.000000\n",
      "New clusters list:\n",
      "[[[64]], [[81]], [[49], [36], [25], [16], [9], [1], [4]]]\n",
      "New centroids:\n",
      "[(64,), (81,), (20.0,)]\n",
      "\n",
      "--------------------------------------------------------\n",
      "\n",
      "Step 7:\n",
      "Merged clusters: [[64]] and [[49], [36], [25], [16], [9], [1], [4]]\n",
      "Minimum distance: 15.000000\n",
      "New clusters list:\n",
      "[[[81]], [[64], [49], [36], [25], [16], [9], [1], [4]]]\n",
      "New centroids:\n",
      "[(81,), (25.5,)]\n",
      "\n",
      "--------------------------------------------------------\n",
      "\n",
      "Step 8:\n",
      "Merged clusters: [[81]] and [[64], [49], [36], [25], [16], [9], [1], [4]]\n",
      "Minimum distance: 17.000000\n",
      "New clusters list:\n",
      "[[[81], [64], [49], [36], [25], [16], [9], [1], [4]]]\n",
      "New centroids:\n",
      "[(31.666666666666668,)]\n",
      "\n",
      "--------------------------------------------------------\n",
      "\n"
     ]
    }
   ],
   "source": [
    "agg_(clusters, dist = 'mins')"
   ]
  },
  {
   "cell_type": "markdown",
   "metadata": {},
   "source": [
    "(b) Using the average of the distances between pairs of points, one from each of the two clusters as our distance measurement."
   ]
  },
  {
   "cell_type": "code",
   "execution_count": 360,
   "metadata": {
    "collapsed": true
   },
   "outputs": [],
   "source": [
    "def avg(x,y):\n",
    "    \"\"\"\n",
    "    This function takes as input two clusters of points (i.e. vectors) each of which \n",
    "    are represented by of their own individual lists. The output of this function\n",
    "    is the average distance between any two points one from each of the two clusters.\n",
    "    \"\"\"\n",
    "    nx = len(x)\n",
    "    ny = len(y)\n",
    "    running_sum = 0\n",
    "    for pt_x in x:\n",
    "        for pt_y in y:\n",
    "            running_sum += Euclidean(pt_x,pt_y)\n",
    "    return running_sum/(nx*ny) # total number of pairs is nx*ny (i.e., by multiplication rule)"
   ]
  },
  {
   "cell_type": "code",
   "execution_count": 422,
   "metadata": {
    "collapsed": false
   },
   "outputs": [],
   "source": [
    "def agg_(clusters, print_summary = True, dist = 'Euclidean'):\n",
    "    \"\"\"\n",
    "    This function takes as input a dictionary of clusters in \n",
    "    Euclidean space and returns the Agglomerative clustering. \n",
    "    The key of the dictionary is the centroid of the corresponding\n",
    "    cluster.\n",
    "    \n",
    "    Note that the clustering agglomerative clustering is done in\n",
    "    place with respect to the clusters list input.\n",
    "    \"\"\"\n",
    "    \n",
    "    # specifying the distance function used\n",
    "    if dist == 'Euclidean':\n",
    "        f_dist = Euclidean\n",
    "        r_ = 0 # index to be used in the argument\n",
    "    if dist == 'mins':\n",
    "        f_dist = mins\n",
    "        r_ = 1\n",
    "    if dist == 'avg':\n",
    "        f_dist = avg\n",
    "        r_ = 1\n",
    "    \n",
    "    # start main code to conduct clustering\n",
    "    step = 1    \n",
    "    while len(clusters) > 1:\n",
    "#     while step < 3:\n",
    "        # clusters hash table (use centroids as hash keys)\n",
    "        clusters_ix = {el[0]:i for i,el in enumerate(clusters)}\n",
    "        # double loop to consider the minimal distance between all pairs of clusters\n",
    "        n = len(clusters)\n",
    "        min_dist = 2**32-1\n",
    "        c1 = None\n",
    "        c2 = None\n",
    "        for i in range(n-1):\n",
    "            for j in range(i+1,n):\n",
    "                # the distance between centroids of cluster i and cluster j\n",
    "                distance_ij = f_dist(clusters[i][r_], clusters[j][r_])\n",
    "                if distance_ij < min_dist:\n",
    "                    min_dist = distance_ij\n",
    "                    c1 = clusters[i]\n",
    "                    c2 = clusters[j]\n",
    "        # merge the two clusters that result in minimum Euclidean distance\n",
    "        new_cluster = c1[1] + c2[1]\n",
    "        new_centroid = mean(new_cluster)\n",
    "        clusters.append([new_centroid, new_cluster])\n",
    "        # remove the merged clusters from the list \n",
    "        del clusters[max(clusters_ix[c1[0]],clusters_ix[c2[0]])]\n",
    "        del clusters[min(clusters_ix[c1[0]],clusters_ix[c2[0]])]\n",
    "        if print_summary:\n",
    "            print 'Step %d:' % step\n",
    "            print 'Merged clusters: %s and %s' %(str(c1[1]),str(c2[1]))\n",
    "            print 'Minimum distance: %f' % min_dist\n",
    "            print 'New clusters list:'\n",
    "            print [el[1] for el in clusters] \n",
    "            print 'New centroids:'\n",
    "            print [el[0] for el in clusters]\n",
    "            print ''\n",
    "            print '--------------------------------------------------------'\n",
    "            print ''\n",
    "        step += 1\n",
    "    \n",
    "# Alternatively, can use np.mean to create the new centroid\n",
    "# new_centroid = tuple(np.mean(np.array(new_cluster),axis=0))"
   ]
  },
  {
   "cell_type": "code",
   "execution_count": 423,
   "metadata": {
    "collapsed": false
   },
   "outputs": [
    {
     "data": {
      "text/plain": [
       "[[(1,), [[1]]],\n",
       " [(4,), [[4]]],\n",
       " [(9,), [[9]]],\n",
       " [(16,), [[16]]],\n",
       " [(25,), [[25]]],\n",
       " [(36,), [[36]]],\n",
       " [(49,), [[49]]],\n",
       " [(64,), [[64]]],\n",
       " [(81,), [[81]]]]"
      ]
     },
     "execution_count": 423,
     "metadata": {},
     "output_type": "execute_result"
    }
   ],
   "source": [
    "# an array storing centroid and cluster\n",
    "clusters = [[(i**2,), [[i**2]]] for i in range(1,10)]\n",
    "clusters"
   ]
  },
  {
   "cell_type": "code",
   "execution_count": 424,
   "metadata": {
    "collapsed": false
   },
   "outputs": [
    {
     "name": "stdout",
     "output_type": "stream",
     "text": [
      "Step 1:\n",
      "Merged clusters: [[1]] and [[4]]\n",
      "Minimum distance: 3.000000\n",
      "New clusters list:\n",
      "[[[9]], [[16]], [[25]], [[36]], [[49]], [[64]], [[81]], [[1], [4]]]\n",
      "New centroids:\n",
      "[(9,), (16,), (25,), (36,), (49,), (64,), (81,), (2.5,)]\n",
      "\n",
      "--------------------------------------------------------\n",
      "\n",
      "Step 2:\n",
      "Merged clusters: [[9]] and [[1], [4]]\n",
      "Minimum distance: 6.500000\n",
      "New clusters list:\n",
      "[[[16]], [[25]], [[36]], [[49]], [[64]], [[81]], [[9], [1], [4]]]\n",
      "New centroids:\n",
      "[(16,), (25,), (36,), (49,), (64,), (81,), (4.666666666666667,)]\n",
      "\n",
      "--------------------------------------------------------\n",
      "\n",
      "Step 3:\n",
      "Merged clusters: [[16]] and [[25]]\n",
      "Minimum distance: 9.000000\n",
      "New clusters list:\n",
      "[[[36]], [[49]], [[64]], [[81]], [[9], [1], [4]], [[16], [25]]]\n",
      "New centroids:\n",
      "[(36,), (49,), (64,), (81,), (4.666666666666667,), (20.5,)]\n",
      "\n",
      "--------------------------------------------------------\n",
      "\n",
      "Step 4:\n",
      "Merged clusters: [[36]] and [[49]]\n",
      "Minimum distance: 13.000000\n",
      "New clusters list:\n",
      "[[[64]], [[81]], [[9], [1], [4]], [[16], [25]], [[36], [49]]]\n",
      "New centroids:\n",
      "[(64,), (81,), (4.666666666666667,), (20.5,), (42.5,)]\n",
      "\n",
      "--------------------------------------------------------\n",
      "\n",
      "Step 5:\n",
      "Merged clusters: [[9], [1], [4]] and [[16], [25]]\n",
      "Minimum distance: 15.833333\n",
      "New clusters list:\n",
      "[[[64]], [[81]], [[36], [49]], [[9], [1], [4], [16], [25]]]\n",
      "New centroids:\n",
      "[(64,), (81,), (42.5,), (11.0,)]\n",
      "\n",
      "--------------------------------------------------------\n",
      "\n",
      "Step 6:\n",
      "Merged clusters: [[64]] and [[81]]\n",
      "Minimum distance: 17.000000\n",
      "New clusters list:\n",
      "[[[36], [49]], [[9], [1], [4], [16], [25]], [[64], [81]]]\n",
      "New centroids:\n",
      "[(42.5,), (11.0,), (72.5,)]\n",
      "\n",
      "--------------------------------------------------------\n",
      "\n",
      "Step 7:\n",
      "Merged clusters: [[36], [49]] and [[64], [81]]\n",
      "Minimum distance: 30.000000\n",
      "New clusters list:\n",
      "[[[9], [1], [4], [16], [25]], [[36], [49], [64], [81]]]\n",
      "New centroids:\n",
      "[(11.0,), (57.5,)]\n",
      "\n",
      "--------------------------------------------------------\n",
      "\n",
      "Step 8:\n",
      "Merged clusters: [[9], [1], [4], [16], [25]] and [[36], [49], [64], [81]]\n",
      "Minimum distance: 46.500000\n",
      "New clusters list:\n",
      "[[[9], [1], [4], [16], [25], [36], [49], [64], [81]]]\n",
      "New centroids:\n",
      "[(31.666666666666668,)]\n",
      "\n",
      "--------------------------------------------------------\n",
      "\n"
     ]
    }
   ],
   "source": [
    "agg_(clusters,dist='avg')"
   ]
  },
  {
   "cell_type": "markdown",
   "metadata": {},
   "source": [
    "<a id='7-2-3'></a>\n",
    "# 7.2.3"
   ]
  },
  {
   "cell_type": "markdown",
   "metadata": {},
   "source": [
    "Using Euclidean distance of the centroids as for Example 7.2 ."
   ]
  },
  {
   "cell_type": "code",
   "execution_count": 413,
   "metadata": {
    "collapsed": true
   },
   "outputs": [],
   "source": [
    "clusters = [[(4,10),[[4,10]]], [(7,10),[[7,10]]], [(4,8),[[4,8]]],\n",
    "           [(6,8),[[6,8]]],[(3,4),[[3,4]]],[(2,2),[[2,2]]],[(5,2),[[5,2]]],\n",
    "           [(12,6),[[12,6]]],[(10,5),[[10,5]]],[(11,4),[[11,4]]],[(9,3),[[9,3]]],\n",
    "           [(12,3),[[12,3]]]]"
   ]
  },
  {
   "cell_type": "code",
   "execution_count": 414,
   "metadata": {
    "collapsed": false
   },
   "outputs": [
    {
     "data": {
      "text/plain": [
       "[[(4, 10), [[4, 10]]],\n",
       " [(7, 10), [[7, 10]]],\n",
       " [(4, 8), [[4, 8]]],\n",
       " [(6, 8), [[6, 8]]],\n",
       " [(3, 4), [[3, 4]]],\n",
       " [(2, 2), [[2, 2]]],\n",
       " [(5, 2), [[5, 2]]],\n",
       " [(12, 6), [[12, 6]]],\n",
       " [(10, 5), [[10, 5]]],\n",
       " [(11, 4), [[11, 4]]],\n",
       " [(9, 3), [[9, 3]]],\n",
       " [(12, 3), [[12, 3]]]]"
      ]
     },
     "execution_count": 414,
     "metadata": {},
     "output_type": "execute_result"
    }
   ],
   "source": [
    "clusters"
   ]
  },
  {
   "cell_type": "code",
   "execution_count": 415,
   "metadata": {
    "collapsed": false
   },
   "outputs": [
    {
     "name": "stdout",
     "output_type": "stream",
     "text": [
      "Step 1:\n",
      "Merged clusters: [[10, 5]] and [[11, 4]]\n",
      "Minimum distance: 1.414214\n",
      "New clusters list:\n",
      "[[[4, 10]], [[7, 10]], [[4, 8]], [[6, 8]], [[3, 4]], [[2, 2]], [[5, 2]], [[12, 6]], [[9, 3]], [[12, 3]], [[10, 5], [11, 4]]]\n",
      "New centroids:\n",
      "[(4, 10), (7, 10), (4, 8), (6, 8), (3, 4), (2, 2), (5, 2), (12, 6), (9, 3), (12, 3), (10.5, 4.5)]\n",
      "\n",
      "--------------------------------------------------------\n",
      "\n",
      "Step 2:\n",
      "Merged clusters: [[4, 10]] and [[4, 8]]\n",
      "Minimum distance: 2.000000\n",
      "New clusters list:\n",
      "[[[7, 10]], [[6, 8]], [[3, 4]], [[2, 2]], [[5, 2]], [[12, 6]], [[9, 3]], [[12, 3]], [[10, 5], [11, 4]], [[4, 10], [4, 8]]]\n",
      "New centroids:\n",
      "[(7, 10), (6, 8), (3, 4), (2, 2), (5, 2), (12, 6), (9, 3), (12, 3), (10.5, 4.5), (4.0, 9.0)]\n",
      "\n",
      "--------------------------------------------------------\n",
      "\n",
      "Step 3:\n",
      "Merged clusters: [[12, 6]] and [[10, 5], [11, 4]]\n",
      "Minimum distance: 2.121320\n",
      "New clusters list:\n",
      "[[[7, 10]], [[6, 8]], [[3, 4]], [[2, 2]], [[5, 2]], [[9, 3]], [[12, 3]], [[4, 10], [4, 8]], [[12, 6], [10, 5], [11, 4]]]\n",
      "New centroids:\n",
      "[(7, 10), (6, 8), (3, 4), (2, 2), (5, 2), (9, 3), (12, 3), (4.0, 9.0), (11.0, 5.0)]\n",
      "\n",
      "--------------------------------------------------------\n",
      "\n",
      "Step 4:\n",
      "Merged clusters: [[7, 10]] and [[6, 8]]\n",
      "Minimum distance: 2.236068\n",
      "New clusters list:\n",
      "[[[3, 4]], [[2, 2]], [[5, 2]], [[9, 3]], [[12, 3]], [[4, 10], [4, 8]], [[12, 6], [10, 5], [11, 4]], [[7, 10], [6, 8]]]\n",
      "New centroids:\n",
      "[(3, 4), (2, 2), (5, 2), (9, 3), (12, 3), (4.0, 9.0), (11.0, 5.0), (6.5, 9.0)]\n",
      "\n",
      "--------------------------------------------------------\n",
      "\n",
      "Step 5:\n",
      "Merged clusters: [[3, 4]] and [[2, 2]]\n",
      "Minimum distance: 2.236068\n",
      "New clusters list:\n",
      "[[[5, 2]], [[9, 3]], [[12, 3]], [[4, 10], [4, 8]], [[12, 6], [10, 5], [11, 4]], [[7, 10], [6, 8]], [[3, 4], [2, 2]]]\n",
      "New centroids:\n",
      "[(5, 2), (9, 3), (12, 3), (4.0, 9.0), (11.0, 5.0), (6.5, 9.0), (2.5, 3.0)]\n",
      "\n",
      "--------------------------------------------------------\n",
      "\n",
      "Step 6:\n",
      "Merged clusters: [[12, 3]] and [[12, 6], [10, 5], [11, 4]]\n",
      "Minimum distance: 2.236068\n",
      "New clusters list:\n",
      "[[[5, 2]], [[9, 3]], [[4, 10], [4, 8]], [[7, 10], [6, 8]], [[3, 4], [2, 2]], [[12, 3], [12, 6], [10, 5], [11, 4]]]\n",
      "New centroids:\n",
      "[(5, 2), (9, 3), (4.0, 9.0), (6.5, 9.0), (2.5, 3.0), (11.25, 4.5)]\n",
      "\n",
      "--------------------------------------------------------\n",
      "\n",
      "Step 7:\n",
      "Merged clusters: [[4, 10], [4, 8]] and [[7, 10], [6, 8]]\n",
      "Minimum distance: 2.500000\n",
      "New clusters list:\n",
      "[[[5, 2]], [[9, 3]], [[3, 4], [2, 2]], [[12, 3], [12, 6], [10, 5], [11, 4]], [[4, 10], [4, 8], [7, 10], [6, 8]]]\n",
      "New centroids:\n",
      "[(5, 2), (9, 3), (2.5, 3.0), (11.25, 4.5), (5.25, 9.0)]\n",
      "\n",
      "--------------------------------------------------------\n",
      "\n",
      "Step 8:\n",
      "Merged clusters: [[5, 2]] and [[3, 4], [2, 2]]\n",
      "Minimum distance: 2.692582\n",
      "New clusters list:\n",
      "[[[9, 3]], [[12, 3], [12, 6], [10, 5], [11, 4]], [[4, 10], [4, 8], [7, 10], [6, 8]], [[5, 2], [3, 4], [2, 2]]]\n",
      "New centroids:\n",
      "[(9, 3), (11.25, 4.5), (5.25, 9.0), (3.3333333333333335, 2.6666666666666665)]\n",
      "\n",
      "--------------------------------------------------------\n",
      "\n",
      "Step 9:\n",
      "Merged clusters: [[9, 3]] and [[12, 3], [12, 6], [10, 5], [11, 4]]\n",
      "Minimum distance: 2.704163\n",
      "New clusters list:\n",
      "[[[4, 10], [4, 8], [7, 10], [6, 8]], [[5, 2], [3, 4], [2, 2]], [[9, 3], [12, 3], [12, 6], [10, 5], [11, 4]]]\n",
      "New centroids:\n",
      "[(5.25, 9.0), (3.3333333333333335, 2.6666666666666665), (10.800000000000001, 4.2000000000000002)]\n",
      "\n",
      "--------------------------------------------------------\n",
      "\n",
      "Step 10:\n",
      "Merged clusters: [[4, 10], [4, 8], [7, 10], [6, 8]] and [[5, 2], [3, 4], [2, 2]]\n",
      "Minimum distance: 6.617003\n",
      "New clusters list:\n",
      "[[[9, 3], [12, 3], [12, 6], [10, 5], [11, 4]], [[4, 10], [4, 8], [7, 10], [6, 8], [5, 2], [3, 4], [2, 2]]]\n",
      "New centroids:\n",
      "[(10.800000000000001, 4.2000000000000002), (4.4285714285714288, 6.2857142857142856)]\n",
      "\n",
      "--------------------------------------------------------\n",
      "\n",
      "Step 11:\n",
      "Merged clusters: [[9, 3], [12, 3], [12, 6], [10, 5], [11, 4]] and [[4, 10], [4, 8], [7, 10], [6, 8], [5, 2], [3, 4], [2, 2]]\n",
      "Minimum distance: 6.704126\n",
      "New clusters list:\n",
      "[[[9, 3], [12, 3], [12, 6], [10, 5], [11, 4], [4, 10], [4, 8], [7, 10], [6, 8], [5, 2], [3, 4], [2, 2]]]\n",
      "New centroids:\n",
      "[(7.083333333333333, 5.416666666666667)]\n",
      "\n",
      "--------------------------------------------------------\n",
      "\n"
     ]
    }
   ],
   "source": [
    "agg_(clusters)"
   ]
  },
  {
   "cell_type": "markdown",
   "metadata": {},
   "source": [
    "Double checking the mean() function using numpy built in function."
   ]
  },
  {
   "cell_type": "code",
   "execution_count": 416,
   "metadata": {
    "collapsed": false
   },
   "outputs": [
    {
     "data": {
      "text/plain": [
       "(7.083333333333333, 5.416666666666667)"
      ]
     },
     "execution_count": 416,
     "metadata": {},
     "output_type": "execute_result"
    }
   ],
   "source": [
    "mean([[9, 3], [12, 3], [12, 6], [10, 5], [11, 4], [4, 10], [4, 8], [7, 10], [6, 8], [5, 2], [3, 4], [2, 2]])"
   ]
  },
  {
   "cell_type": "code",
   "execution_count": 417,
   "metadata": {
    "collapsed": true
   },
   "outputs": [],
   "source": [
    "a = np.array([[9, 3], [12, 3], [12, 6], [10, 5], [11, 4], [4, 10], [4, 8], [7, 10], [6, 8], [5, 2], [3, 4], [2, 2]])"
   ]
  },
  {
   "cell_type": "code",
   "execution_count": 418,
   "metadata": {
    "collapsed": false
   },
   "outputs": [
    {
     "data": {
      "text/plain": [
       "array([ 7.08333333,  5.41666667])"
      ]
     },
     "execution_count": 418,
     "metadata": {},
     "output_type": "execute_result"
    }
   ],
   "source": [
    "np.mean(a, axis = 0)"
   ]
  },
  {
   "cell_type": "markdown",
   "metadata": {},
   "source": [
    "<a id='7-2-3-a'></a>\n",
    "## 7.2.3 (a) "
   ]
  },
  {
   "cell_type": "code",
   "execution_count": 448,
   "metadata": {
    "collapsed": true
   },
   "outputs": [],
   "source": [
    "def radius(x,y=[]):\n",
    "    \"\"\"\n",
    "    This function takes as input two clusters of points (i.e. vectors) each of which \n",
    "    are represented by of their own individual lists. The output of this function\n",
    "    is the radius of the custer which results from the merge of x and y.\n",
    "    \n",
    "    If the input is simply one cluster, then the output is the radius of that\n",
    "    cluster.\n",
    "    \"\"\"\n",
    "    nx = len(x)\n",
    "    ny = len(y)\n",
    "    # merge two clusters x and y\n",
    "    merged_clus = x + y \n",
    "    # the centroid of the new merged cluster\n",
    "    merged_cent = mean(merged_clus)\n",
    "    # determine the radius of this merged cluster\n",
    "    # radius is the maximum distance between all the points and the centroid\n",
    "    radius = 0\n",
    "    for pt in merged_clus:\n",
    "        if Euclidean(pt,merged_cent) > radius:\n",
    "            radius = Euclidean(pt,merged_cent)\n",
    "    return radius"
   ]
  },
  {
   "cell_type": "code",
   "execution_count": 442,
   "metadata": {
    "collapsed": false
   },
   "outputs": [
    {
     "data": {
      "text/plain": [
       "2.1633307652783942"
      ]
     },
     "execution_count": 442,
     "metadata": {},
     "output_type": "execute_result"
    }
   ],
   "source": [
    "# checking this function with the result of Example 7.4\n",
    "radius([[12,6]],[[10,5],[11,4],[12,3],[9,3]])"
   ]
  },
  {
   "cell_type": "code",
   "execution_count": 444,
   "metadata": {
    "collapsed": false
   },
   "outputs": [
    {
     "data": {
      "text/plain": [
       "2.1633307652783942"
      ]
     },
     "execution_count": 444,
     "metadata": {},
     "output_type": "execute_result"
    }
   ],
   "source": [
    "# can also use radius on a single cluster\n",
    "radius([[12,6],[10,5],[11,4],[12,3],[9,3]])"
   ]
  },
  {
   "cell_type": "code",
   "execution_count": 445,
   "metadata": {
    "collapsed": true
   },
   "outputs": [],
   "source": [
    "def agg_(clusters, print_summary = True, dist = 'Euclidean'):\n",
    "    \"\"\"\n",
    "    This function takes as input a dictionary of clusters in \n",
    "    Euclidean space and returns the Agglomerative clustering. \n",
    "    The key of the dictionary is the centroid of the corresponding\n",
    "    cluster.\n",
    "    \n",
    "    Note that the clustering agglomerative clustering is done in\n",
    "    place with respect to the clusters list input.\n",
    "    \"\"\"\n",
    "    \n",
    "    # specifying the distance function used\n",
    "    if dist == 'Euclidean':\n",
    "        f_dist = Euclidean\n",
    "        r_ = 0 # index to be used in the argument\n",
    "    if dist == 'mins':\n",
    "        f_dist = mins\n",
    "        r_ = 1\n",
    "    if dist == 'avg':\n",
    "        f_dist = avg\n",
    "        r_ = 1\n",
    "    if dist == 'radius':\n",
    "        f_dist = radius\n",
    "        r_ = 1\n",
    "    \n",
    "    # start main code to conduct clustering\n",
    "    step = 1    \n",
    "    while len(clusters) > 1:\n",
    "#     while step < 3:\n",
    "        # clusters hash table (use centroids as hash keys)\n",
    "        clusters_ix = {el[0]:i for i,el in enumerate(clusters)}\n",
    "        # double loop to consider the minimal distance between all pairs of clusters\n",
    "        n = len(clusters)\n",
    "        min_dist = 2**32-1\n",
    "        c1 = None\n",
    "        c2 = None\n",
    "        for i in range(n-1):\n",
    "            for j in range(i+1,n):\n",
    "                # the distance between centroids of cluster i and cluster j\n",
    "                distance_ij = f_dist(clusters[i][r_], clusters[j][r_])\n",
    "                if distance_ij < min_dist:\n",
    "                    min_dist = distance_ij\n",
    "                    c1 = clusters[i]\n",
    "                    c2 = clusters[j]\n",
    "        # merge the two clusters that result in minimum Euclidean distance\n",
    "        new_cluster = c1[1] + c2[1]\n",
    "        new_centroid = mean(new_cluster)\n",
    "        clusters.append([new_centroid, new_cluster])\n",
    "        # remove the merged clusters from the list \n",
    "        del clusters[max(clusters_ix[c1[0]],clusters_ix[c2[0]])]\n",
    "        del clusters[min(clusters_ix[c1[0]],clusters_ix[c2[0]])]\n",
    "        if print_summary:\n",
    "            print 'Step %d:' % step\n",
    "            print 'Merged clusters: %s and %s' %(str(c1[1]),str(c2[1]))\n",
    "            print 'Minimum distance: %f' % min_dist\n",
    "            print 'New clusters list:'\n",
    "            print [el[1] for el in clusters] \n",
    "            print 'New centroids:'\n",
    "            print [el[0] for el in clusters]\n",
    "            print ''\n",
    "            print '--------------------------------------------------------'\n",
    "            print ''\n",
    "        step += 1\n",
    "    \n",
    "# Alternatively, can use np.mean to create the new centroid\n",
    "# new_centroid = tuple(np.mean(np.array(new_cluster),axis=0))"
   ]
  },
  {
   "cell_type": "code",
   "execution_count": 446,
   "metadata": {
    "collapsed": true
   },
   "outputs": [],
   "source": [
    "clusters = [[(4,10),[[4,10]]], [(7,10),[[7,10]]], [(4,8),[[4,8]]],\n",
    "           [(6,8),[[6,8]]],[(3,4),[[3,4]]],[(2,2),[[2,2]]],[(5,2),[[5,2]]],\n",
    "           [(12,6),[[12,6]]],[(10,5),[[10,5]]],[(11,4),[[11,4]]],[(9,3),[[9,3]]],\n",
    "           [(12,3),[[12,3]]]]"
   ]
  },
  {
   "cell_type": "code",
   "execution_count": 447,
   "metadata": {
    "collapsed": false
   },
   "outputs": [
    {
     "name": "stdout",
     "output_type": "stream",
     "text": [
      "Step 1:\n",
      "Merged clusters: [[10, 5]] and [[11, 4]]\n",
      "Minimum distance: 0.707107\n",
      "New clusters list:\n",
      "[[[4, 10]], [[7, 10]], [[4, 8]], [[6, 8]], [[3, 4]], [[2, 2]], [[5, 2]], [[12, 6]], [[9, 3]], [[12, 3]], [[10, 5], [11, 4]]]\n",
      "New centroids:\n",
      "[(4, 10), (7, 10), (4, 8), (6, 8), (3, 4), (2, 2), (5, 2), (12, 6), (9, 3), (12, 3), (10.5, 4.5)]\n",
      "\n",
      "--------------------------------------------------------\n",
      "\n",
      "Step 2:\n",
      "Merged clusters: [[4, 10]] and [[4, 8]]\n",
      "Minimum distance: 1.000000\n",
      "New clusters list:\n",
      "[[[7, 10]], [[6, 8]], [[3, 4]], [[2, 2]], [[5, 2]], [[12, 6]], [[9, 3]], [[12, 3]], [[10, 5], [11, 4]], [[4, 10], [4, 8]]]\n",
      "New centroids:\n",
      "[(7, 10), (6, 8), (3, 4), (2, 2), (5, 2), (12, 6), (9, 3), (12, 3), (10.5, 4.5), (4.0, 9.0)]\n",
      "\n",
      "--------------------------------------------------------\n",
      "\n",
      "Step 3:\n",
      "Merged clusters: [[7, 10]] and [[6, 8]]\n",
      "Minimum distance: 1.118034\n",
      "New clusters list:\n",
      "[[[3, 4]], [[2, 2]], [[5, 2]], [[12, 6]], [[9, 3]], [[12, 3]], [[10, 5], [11, 4]], [[4, 10], [4, 8]], [[7, 10], [6, 8]]]\n",
      "New centroids:\n",
      "[(3, 4), (2, 2), (5, 2), (12, 6), (9, 3), (12, 3), (10.5, 4.5), (4.0, 9.0), (6.5, 9.0)]\n",
      "\n",
      "--------------------------------------------------------\n",
      "\n",
      "Step 4:\n",
      "Merged clusters: [[3, 4]] and [[2, 2]]\n",
      "Minimum distance: 1.118034\n",
      "New clusters list:\n",
      "[[[5, 2]], [[12, 6]], [[9, 3]], [[12, 3]], [[10, 5], [11, 4]], [[4, 10], [4, 8]], [[7, 10], [6, 8]], [[3, 4], [2, 2]]]\n",
      "New centroids:\n",
      "[(5, 2), (12, 6), (9, 3), (12, 3), (10.5, 4.5), (4.0, 9.0), (6.5, 9.0), (2.5, 3.0)]\n",
      "\n",
      "--------------------------------------------------------\n",
      "\n",
      "Step 5:\n",
      "Merged clusters: [[12, 6]] and [[10, 5], [11, 4]]\n",
      "Minimum distance: 1.414214\n",
      "New clusters list:\n",
      "[[[5, 2]], [[9, 3]], [[12, 3]], [[4, 10], [4, 8]], [[7, 10], [6, 8]], [[3, 4], [2, 2]], [[12, 6], [10, 5], [11, 4]]]\n",
      "New centroids:\n",
      "[(5, 2), (9, 3), (12, 3), (4.0, 9.0), (6.5, 9.0), (2.5, 3.0), (11.0, 5.0)]\n",
      "\n",
      "--------------------------------------------------------\n",
      "\n",
      "Step 6:\n",
      "Merged clusters: [[9, 3]] and [[12, 3]]\n",
      "Minimum distance: 1.500000\n",
      "New clusters list:\n",
      "[[[5, 2]], [[4, 10], [4, 8]], [[7, 10], [6, 8]], [[3, 4], [2, 2]], [[12, 6], [10, 5], [11, 4]], [[9, 3], [12, 3]]]\n",
      "New centroids:\n",
      "[(5, 2), (4.0, 9.0), (6.5, 9.0), (2.5, 3.0), (11.0, 5.0), (10.5, 3.0)]\n",
      "\n",
      "--------------------------------------------------------\n",
      "\n",
      "Step 7:\n",
      "Merged clusters: [[5, 2]] and [[3, 4], [2, 2]]\n",
      "Minimum distance: 1.795055\n",
      "New clusters list:\n",
      "[[[4, 10], [4, 8]], [[7, 10], [6, 8]], [[12, 6], [10, 5], [11, 4]], [[9, 3], [12, 3]], [[5, 2], [3, 4], [2, 2]]]\n",
      "New centroids:\n",
      "[(4.0, 9.0), (6.5, 9.0), (11.0, 5.0), (10.5, 3.0), (3.3333333333333335, 2.6666666666666665)]\n",
      "\n",
      "--------------------------------------------------------\n",
      "\n",
      "Step 8:\n",
      "Merged clusters: [[4, 10], [4, 8]] and [[7, 10], [6, 8]]\n",
      "Minimum distance: 2.015564\n",
      "New clusters list:\n",
      "[[[12, 6], [10, 5], [11, 4]], [[9, 3], [12, 3]], [[5, 2], [3, 4], [2, 2]], [[4, 10], [4, 8], [7, 10], [6, 8]]]\n",
      "New centroids:\n",
      "[(11.0, 5.0), (10.5, 3.0), (3.3333333333333335, 2.6666666666666665), (5.25, 9.0)]\n",
      "\n",
      "--------------------------------------------------------\n",
      "\n",
      "Step 9:\n",
      "Merged clusters: [[12, 6], [10, 5], [11, 4]] and [[9, 3], [12, 3]]\n",
      "Minimum distance: 2.163331\n",
      "New clusters list:\n",
      "[[[5, 2], [3, 4], [2, 2]], [[4, 10], [4, 8], [7, 10], [6, 8]], [[12, 6], [10, 5], [11, 4], [9, 3], [12, 3]]]\n",
      "New centroids:\n",
      "[(3.3333333333333335, 2.6666666666666665), (5.25, 9.0), (10.800000000000001, 4.2000000000000002)]\n",
      "\n",
      "--------------------------------------------------------\n",
      "\n",
      "Step 10:\n",
      "Merged clusters: [[5, 2], [3, 4], [2, 2]] and [[4, 10], [4, 8], [7, 10], [6, 8]]\n",
      "Minimum distance: 4.925983\n",
      "New clusters list:\n",
      "[[[12, 6], [10, 5], [11, 4], [9, 3], [12, 3]], [[5, 2], [3, 4], [2, 2], [4, 10], [4, 8], [7, 10], [6, 8]]]\n",
      "New centroids:\n",
      "[(10.800000000000001, 4.2000000000000002), (4.4285714285714288, 6.2857142857142856)]\n",
      "\n",
      "--------------------------------------------------------\n",
      "\n",
      "Step 11:\n",
      "Merged clusters: [[12, 6], [10, 5], [11, 4], [9, 3], [12, 3]] and [[5, 2], [3, 4], [2, 2], [4, 10], [4, 8], [7, 10], [6, 8]]\n",
      "Minimum distance: 6.124858\n",
      "New clusters list:\n",
      "[[[12, 6], [10, 5], [11, 4], [9, 3], [12, 3], [5, 2], [3, 4], [2, 2], [4, 10], [4, 8], [7, 10], [6, 8]]]\n",
      "New centroids:\n",
      "[(7.083333333333333, 5.416666666666667)]\n",
      "\n",
      "--------------------------------------------------------\n",
      "\n"
     ]
    }
   ],
   "source": [
    "agg_(clusters, dist = 'radius')"
   ]
  },
  {
   "cell_type": "markdown",
   "metadata": {},
   "source": [
    "<a id='7-2-3-b'></a>\n",
    "## 7.2.3 (b)"
   ]
  },
  {
   "cell_type": "code",
   "execution_count": 450,
   "metadata": {
    "collapsed": true
   },
   "outputs": [],
   "source": [
    "def diameter(x,y=[]):\n",
    "    \"\"\"\n",
    "    This function takes as input two clusters of points (i.e. vectors) each of which \n",
    "    are represented by of their own individual lists. The output of this function\n",
    "    is the diameter of the merged custer of x and y.\n",
    "    \n",
    "    If the input is simply one cluster, then the output is the diameter of that\n",
    "    cluster.\n",
    "    \"\"\"\n",
    "    # merge two clusters x and y\n",
    "    merged_clus = x + y \n",
    "    n = len(merged_clus)\n",
    "    # determine the diameter of this merged cluster\n",
    "    # diameter is the maximum distance between any two points of the cluster\n",
    "    diameter = 0\n",
    "    for i in range(n-1):\n",
    "        for j in range(i+1,n):\n",
    "            distance_ij = Euclidean(merged_clus[i],merged_clus[j])\n",
    "            if distance_ij > diameter:\n",
    "                diameter = distance_ij\n",
    "    return diameter"
   ]
  },
  {
   "cell_type": "code",
   "execution_count": 451,
   "metadata": {
    "collapsed": false
   },
   "outputs": [
    {
     "data": {
      "text/plain": [
       "4.2426406871192848"
      ]
     },
     "execution_count": 451,
     "metadata": {},
     "output_type": "execute_result"
    }
   ],
   "source": [
    "# checking result with Example 7.4\n",
    "diameter([[12,6]],[[10,5],[11,4],[12,3],[9,3]])"
   ]
  },
  {
   "cell_type": "code",
   "execution_count": 452,
   "metadata": {
    "collapsed": false
   },
   "outputs": [
    {
     "data": {
      "text/plain": [
       "4.2426406871192848"
      ]
     },
     "execution_count": 452,
     "metadata": {},
     "output_type": "execute_result"
    }
   ],
   "source": [
    "# using only one argument\n",
    "diameter([[12,6],[10,5],[11,4],[12,3],[9,3]])"
   ]
  },
  {
   "cell_type": "code",
   "execution_count": 454,
   "metadata": {
    "collapsed": true
   },
   "outputs": [],
   "source": [
    "def agg_(clusters, print_summary = True, dist = 'Euclidean'):\n",
    "    \"\"\"\n",
    "    This function takes as input a dictionary of clusters in \n",
    "    Euclidean space and returns the Agglomerative clustering. \n",
    "    The key of the dictionary is the centroid of the corresponding\n",
    "    cluster.\n",
    "    \n",
    "    Note that the clustering agglomerative clustering is done in\n",
    "    place with respect to the clusters list input.\n",
    "    \"\"\"\n",
    "    \n",
    "    # specifying the distance function used\n",
    "    # r_ = 0 implies we consider centroids of the two clusters in merge step\n",
    "    # r_ = 1 means that we consider the points of the two clusters themselves in merge step\n",
    "    if dist == 'Euclidean':\n",
    "        f_dist = Euclidean\n",
    "        r_ = 0 \n",
    "    if dist == 'mins':\n",
    "        f_dist = mins\n",
    "        r_ = 1 \n",
    "    if dist == 'avg':\n",
    "        f_dist = avg\n",
    "        r_ = 1\n",
    "    if dist == 'radius':\n",
    "        f_dist = radius\n",
    "        r_ = 1\n",
    "    if dist == 'diameter':\n",
    "        f_dist = diameter\n",
    "        r_ = 1\n",
    "    \n",
    "    # start main code to conduct clustering\n",
    "    step = 1    \n",
    "    while len(clusters) > 1:\n",
    "#     while step < 3:\n",
    "        # clusters hash table (use centroids as hash keys)\n",
    "        clusters_ix = {el[0]:i for i,el in enumerate(clusters)}\n",
    "        # double loop to consider the minimal distance between all pairs of clusters\n",
    "        n = len(clusters)\n",
    "        min_dist = 2**32-1\n",
    "        c1 = None\n",
    "        c2 = None\n",
    "        for i in range(n-1):\n",
    "            for j in range(i+1,n):\n",
    "                # the distance between centroids of cluster i and cluster j\n",
    "                distance_ij = f_dist(clusters[i][r_], clusters[j][r_])\n",
    "                if distance_ij < min_dist:\n",
    "                    min_dist = distance_ij\n",
    "                    c1 = clusters[i]\n",
    "                    c2 = clusters[j]\n",
    "        # merge the two clusters that result in minimum Euclidean distance\n",
    "        new_cluster = c1[1] + c2[1]\n",
    "        new_centroid = mean(new_cluster)\n",
    "        clusters.append([new_centroid, new_cluster])\n",
    "        # remove the merged clusters from the list \n",
    "        del clusters[max(clusters_ix[c1[0]],clusters_ix[c2[0]])]\n",
    "        del clusters[min(clusters_ix[c1[0]],clusters_ix[c2[0]])]\n",
    "        if print_summary:\n",
    "            print 'Step %d:' % step\n",
    "            print 'Merged clusters: %s and %s' %(str(c1[1]),str(c2[1]))\n",
    "            print 'Minimum distance: %f' % min_dist\n",
    "            print 'New clusters list:'\n",
    "            print [el[1] for el in clusters] \n",
    "            print 'New centroids:'\n",
    "            print [el[0] for el in clusters]\n",
    "            print ''\n",
    "            print '--------------------------------------------------------'\n",
    "            print ''\n",
    "        step += 1\n",
    "    \n",
    "# Alternatively, can use np.mean to create the new centroid\n",
    "# new_centroid = tuple(np.mean(np.array(new_cluster),axis=0))"
   ]
  },
  {
   "cell_type": "code",
   "execution_count": 455,
   "metadata": {
    "collapsed": true
   },
   "outputs": [],
   "source": [
    "clusters = [[(4,10),[[4,10]]], [(7,10),[[7,10]]], [(4,8),[[4,8]]],\n",
    "           [(6,8),[[6,8]]],[(3,4),[[3,4]]],[(2,2),[[2,2]]],[(5,2),[[5,2]]],\n",
    "           [(12,6),[[12,6]]],[(10,5),[[10,5]]],[(11,4),[[11,4]]],[(9,3),[[9,3]]],\n",
    "           [(12,3),[[12,3]]]]"
   ]
  },
  {
   "cell_type": "code",
   "execution_count": 456,
   "metadata": {
    "collapsed": false
   },
   "outputs": [
    {
     "name": "stdout",
     "output_type": "stream",
     "text": [
      "Step 1:\n",
      "Merged clusters: [[10, 5]] and [[11, 4]]\n",
      "Minimum distance: 1.414214\n",
      "New clusters list:\n",
      "[[[4, 10]], [[7, 10]], [[4, 8]], [[6, 8]], [[3, 4]], [[2, 2]], [[5, 2]], [[12, 6]], [[9, 3]], [[12, 3]], [[10, 5], [11, 4]]]\n",
      "New centroids:\n",
      "[(4, 10), (7, 10), (4, 8), (6, 8), (3, 4), (2, 2), (5, 2), (12, 6), (9, 3), (12, 3), (10.5, 4.5)]\n",
      "\n",
      "--------------------------------------------------------\n",
      "\n",
      "Step 2:\n",
      "Merged clusters: [[4, 10]] and [[4, 8]]\n",
      "Minimum distance: 2.000000\n",
      "New clusters list:\n",
      "[[[7, 10]], [[6, 8]], [[3, 4]], [[2, 2]], [[5, 2]], [[12, 6]], [[9, 3]], [[12, 3]], [[10, 5], [11, 4]], [[4, 10], [4, 8]]]\n",
      "New centroids:\n",
      "[(7, 10), (6, 8), (3, 4), (2, 2), (5, 2), (12, 6), (9, 3), (12, 3), (10.5, 4.5), (4.0, 9.0)]\n",
      "\n",
      "--------------------------------------------------------\n",
      "\n",
      "Step 3:\n",
      "Merged clusters: [[7, 10]] and [[6, 8]]\n",
      "Minimum distance: 2.236068\n",
      "New clusters list:\n",
      "[[[3, 4]], [[2, 2]], [[5, 2]], [[12, 6]], [[9, 3]], [[12, 3]], [[10, 5], [11, 4]], [[4, 10], [4, 8]], [[7, 10], [6, 8]]]\n",
      "New centroids:\n",
      "[(3, 4), (2, 2), (5, 2), (12, 6), (9, 3), (12, 3), (10.5, 4.5), (4.0, 9.0), (6.5, 9.0)]\n",
      "\n",
      "--------------------------------------------------------\n",
      "\n",
      "Step 4:\n",
      "Merged clusters: [[3, 4]] and [[2, 2]]\n",
      "Minimum distance: 2.236068\n",
      "New clusters list:\n",
      "[[[5, 2]], [[12, 6]], [[9, 3]], [[12, 3]], [[10, 5], [11, 4]], [[4, 10], [4, 8]], [[7, 10], [6, 8]], [[3, 4], [2, 2]]]\n",
      "New centroids:\n",
      "[(5, 2), (12, 6), (9, 3), (12, 3), (10.5, 4.5), (4.0, 9.0), (6.5, 9.0), (2.5, 3.0)]\n",
      "\n",
      "--------------------------------------------------------\n",
      "\n",
      "Step 5:\n",
      "Merged clusters: [[12, 6]] and [[10, 5], [11, 4]]\n",
      "Minimum distance: 2.236068\n",
      "New clusters list:\n",
      "[[[5, 2]], [[9, 3]], [[12, 3]], [[4, 10], [4, 8]], [[7, 10], [6, 8]], [[3, 4], [2, 2]], [[12, 6], [10, 5], [11, 4]]]\n",
      "New centroids:\n",
      "[(5, 2), (9, 3), (12, 3), (4.0, 9.0), (6.5, 9.0), (2.5, 3.0), (11.0, 5.0)]\n",
      "\n",
      "--------------------------------------------------------\n",
      "\n",
      "Step 6:\n",
      "Merged clusters: [[5, 2]] and [[3, 4], [2, 2]]\n",
      "Minimum distance: 3.000000\n",
      "New clusters list:\n",
      "[[[9, 3]], [[12, 3]], [[4, 10], [4, 8]], [[7, 10], [6, 8]], [[12, 6], [10, 5], [11, 4]], [[5, 2], [3, 4], [2, 2]]]\n",
      "New centroids:\n",
      "[(9, 3), (12, 3), (4.0, 9.0), (6.5, 9.0), (11.0, 5.0), (3.3333333333333335, 2.6666666666666665)]\n",
      "\n",
      "--------------------------------------------------------\n",
      "\n",
      "Step 7:\n",
      "Merged clusters: [[9, 3]] and [[12, 3]]\n",
      "Minimum distance: 3.000000\n",
      "New clusters list:\n",
      "[[[4, 10], [4, 8]], [[7, 10], [6, 8]], [[12, 6], [10, 5], [11, 4]], [[5, 2], [3, 4], [2, 2]], [[9, 3], [12, 3]]]\n",
      "New centroids:\n",
      "[(4.0, 9.0), (6.5, 9.0), (11.0, 5.0), (3.3333333333333335, 2.6666666666666665), (10.5, 3.0)]\n",
      "\n",
      "--------------------------------------------------------\n",
      "\n",
      "Step 8:\n",
      "Merged clusters: [[4, 10], [4, 8]] and [[7, 10], [6, 8]]\n",
      "Minimum distance: 3.605551\n",
      "New clusters list:\n",
      "[[[12, 6], [10, 5], [11, 4]], [[5, 2], [3, 4], [2, 2]], [[9, 3], [12, 3]], [[4, 10], [4, 8], [7, 10], [6, 8]]]\n",
      "New centroids:\n",
      "[(11.0, 5.0), (3.3333333333333335, 2.6666666666666665), (10.5, 3.0), (5.25, 9.0)]\n",
      "\n",
      "--------------------------------------------------------\n",
      "\n",
      "Step 9:\n",
      "Merged clusters: [[12, 6], [10, 5], [11, 4]] and [[9, 3], [12, 3]]\n",
      "Minimum distance: 4.242641\n",
      "New clusters list:\n",
      "[[[5, 2], [3, 4], [2, 2]], [[4, 10], [4, 8], [7, 10], [6, 8]], [[12, 6], [10, 5], [11, 4], [9, 3], [12, 3]]]\n",
      "New centroids:\n",
      "[(3.3333333333333335, 2.6666666666666665), (5.25, 9.0), (10.800000000000001, 4.2000000000000002)]\n",
      "\n",
      "--------------------------------------------------------\n",
      "\n",
      "Step 10:\n",
      "Merged clusters: [[5, 2], [3, 4], [2, 2]] and [[4, 10], [4, 8], [7, 10], [6, 8]]\n",
      "Minimum distance: 9.433981\n",
      "New clusters list:\n",
      "[[[12, 6], [10, 5], [11, 4], [9, 3], [12, 3]], [[5, 2], [3, 4], [2, 2], [4, 10], [4, 8], [7, 10], [6, 8]]]\n",
      "New centroids:\n",
      "[(10.800000000000001, 4.2000000000000002), (4.4285714285714288, 6.2857142857142856)]\n",
      "\n",
      "--------------------------------------------------------\n",
      "\n",
      "Step 11:\n",
      "Merged clusters: [[12, 6], [10, 5], [11, 4], [9, 3], [12, 3]] and [[5, 2], [3, 4], [2, 2], [4, 10], [4, 8], [7, 10], [6, 8]]\n",
      "Minimum distance: 10.770330\n",
      "New clusters list:\n",
      "[[[12, 6], [10, 5], [11, 4], [9, 3], [12, 3], [5, 2], [3, 4], [2, 2], [4, 10], [4, 8], [7, 10], [6, 8]]]\n",
      "New centroids:\n",
      "[(7.083333333333333, 5.416666666666667)]\n",
      "\n",
      "--------------------------------------------------------\n",
      "\n"
     ]
    }
   ],
   "source": [
    "agg_(clusters, dist = 'diameter')"
   ]
  },
  {
   "cell_type": "markdown",
   "metadata": {},
   "source": [
    "<a id='7-2-4'></a>\n",
    "# 7.2.4 "
   ]
  },
  {
   "cell_type": "markdown",
   "metadata": {},
   "source": [
    "(a) Computing density if we take # of points in a cluster divided by square of the radius"
   ]
  },
  {
   "cell_type": "code",
   "execution_count": 478,
   "metadata": {
    "collapsed": false
   },
   "outputs": [
    {
     "name": "stdout",
     "output_type": "stream",
     "text": [
      "(5.25, 9.0)\n",
      "(3.3333333333333335, 2.6666666666666665)\n",
      "(10.800000000000001, 4.2000000000000002)\n"
     ]
    }
   ],
   "source": [
    "# lists of the three clusters of Figure 7.2\n",
    "c1 = [[4,10],[4,8],[6,8],[7,10]]\n",
    "c2 = [[3,4],[2,2],[5,2]]\n",
    "c3 = [[10,5],[9,3],[11,4],[12,3],[12,6]]\n",
    "\n",
    "# printing the centers of these clusters\n",
    "print mean(c1)\n",
    "print mean(c2)\n",
    "print mean(c3)"
   ]
  },
  {
   "cell_type": "code",
   "execution_count": 481,
   "metadata": {
    "collapsed": false
   },
   "outputs": [],
   "source": [
    "# compute the radius of each cluster\n",
    "radius1 = radius(c1)\n",
    "radius2 = radius(c2)\n",
    "radius3 = radius(c3)"
   ]
  },
  {
   "cell_type": "code",
   "execution_count": 482,
   "metadata": {
    "collapsed": false
   },
   "outputs": [
    {
     "data": {
      "text/plain": [
       "[0.98461538461538478, 0.93103448275862088, 1.0683760683760679]"
      ]
     },
     "execution_count": 482,
     "metadata": {},
     "output_type": "execute_result"
    }
   ],
   "source": [
    "# compute density\n",
    "density1 = len(c1)/radius1**2\n",
    "density2 = len(c2)/radius2**2\n",
    "density3 = len(c3)/radius3**2\n",
    "\n",
    "[density1, density2, density3]"
   ]
  },
  {
   "cell_type": "code",
   "execution_count": 490,
   "metadata": {
    "collapsed": false
   },
   "outputs": [
    {
     "data": {
      "text/plain": [
       "[0.28847771236333053, 0.27931034482758615, 0.20703598867771936]"
      ]
     },
     "execution_count": 490,
     "metadata": {},
     "output_type": "execute_result"
    }
   ],
   "source": [
    "# density of merging any two of these clusers\n",
    "c12 = c1 + c2\n",
    "c13 = c1 + c3\n",
    "c23 = c2 + c3\n",
    "\n",
    "radius12 = radius(c12)\n",
    "radius13 = radius(c13)\n",
    "radius23 = radius(c23)\n",
    "\n",
    "density12 = len(c12)/radius12**2\n",
    "density13 = len(c13)/radius13**2\n",
    "density23 = len(c23)/radius23**2\n",
    "\n",
    "[density12, density13, density23]"
   ]
  },
  {
   "cell_type": "markdown",
   "metadata": {},
   "source": [
    "**The densities have decreased substantially. Hence, merging clusters do not result in adequate clusters.**"
   ]
  },
  {
   "cell_type": "markdown",
   "metadata": {},
   "source": [
    "(b) repeating (a) except this time the denominator of the density is given by diameter"
   ]
  },
  {
   "cell_type": "code",
   "execution_count": 486,
   "metadata": {
    "collapsed": false
   },
   "outputs": [
    {
     "data": {
      "text/plain": [
       "[3.6055512754639891, 3.0, 4.2426406871192848]"
      ]
     },
     "execution_count": 486,
     "metadata": {},
     "output_type": "execute_result"
    }
   ],
   "source": [
    "# compute the diameter of each cluster\n",
    "diameter1 = diameter(c1)\n",
    "diameter2 = diameter(c2)\n",
    "diameter3 = diameter(c3)\n",
    "\n",
    "[diameter1,diameter2,diameter3]"
   ]
  },
  {
   "cell_type": "code",
   "execution_count": 485,
   "metadata": {
    "collapsed": false
   },
   "outputs": [
    {
     "data": {
      "text/plain": [
       "[1.1094003924504583, 1.0, 1.1785113019775793]"
      ]
     },
     "execution_count": 485,
     "metadata": {},
     "output_type": "execute_result"
    }
   ],
   "source": [
    "# compute density\n",
    "density1 = len(c1)/diameter1\n",
    "density2 = len(c2)/diameter2\n",
    "density3 = len(c3)/diameter3\n",
    "\n",
    "[density1, density2, density3]"
   ]
  },
  {
   "cell_type": "code",
   "execution_count": 492,
   "metadata": {
    "collapsed": false
   },
   "outputs": [
    {
     "data": {
      "text/plain": [
       "[0.74199851600445199, 0.84664878154523748, 0.74278135270820744]"
      ]
     },
     "execution_count": 492,
     "metadata": {},
     "output_type": "execute_result"
    }
   ],
   "source": [
    "# density of merging any two of these clusers\n",
    "c12 = c1 + c2\n",
    "c13 = c1 + c3\n",
    "c23 = c2 + c3\n",
    "\n",
    "diameter12 = diameter(c12)\n",
    "diameter13 = diameter(c13)\n",
    "diameter23 = diameter(c23)\n",
    "\n",
    "density12 = len(c12)/diameter12\n",
    "density13 = len(c13)/diameter13\n",
    "density23 = len(c23)/diameter23\n",
    "\n",
    "[density12, density13, density23]"
   ]
  },
  {
   "cell_type": "markdown",
   "metadata": {},
   "source": [
    "**The densities have decreased substantially. Hence, merging clusters do not result in adequate clusters.**"
   ]
  },
  {
   "cell_type": "markdown",
   "metadata": {},
   "source": [
    "<a id='7-2-5'></a>\n",
    "# 7.2.5 Computing clustroids "
   ]
  },
  {
   "cell_type": "markdown",
   "metadata": {},
   "source": [
    "Criterion for selecting the clustroid: the point with the minimum sum of distance to other point in the cluster."
   ]
  },
  {
   "cell_type": "code",
   "execution_count": 503,
   "metadata": {
    "collapsed": true
   },
   "outputs": [],
   "source": [
    "def clustroid(x):\n",
    "    \"\"\"\n",
    "    This function takes as an input a cluster x (i.e. a list of points)\n",
    "    and returns the clustroid of that cluster. The clustroid is \n",
    "    a point within the cluster itself which \"best\" represents the cluster\n",
    "    to which it belongs.\n",
    "    \n",
    "    The criteria for this function is the minimum sum of distance to the \n",
    "    other points in the cluster.\n",
    "    \n",
    "    Might be a good idea to use a heap.\n",
    "    \"\"\"\n",
    "    sums = {tuple(pt):0 for pt in x}\n",
    "    sum = 0\n",
    "    for pt in x:\n",
    "        for pt_compare in x:\n",
    "            sum += Euclidean(pt,pt_compare) # can do this because Euclidean(x,x)=0\n",
    "        sums[tuple(pt)] = sum\n",
    "    return min(sums.values()), sums"
   ]
  },
  {
   "cell_type": "code",
   "execution_count": 504,
   "metadata": {
    "collapsed": false
   },
   "outputs": [
    {
     "data": {
      "text/plain": [
       "(7.8284271247461898,\n",
       " {(4, 8): 15.433978400210179,\n",
       "  (4, 10): 7.8284271247461898,\n",
       "  (6, 8): 22.498473502456161,\n",
       "  (7, 10): 31.340092755419938})"
      ]
     },
     "execution_count": 504,
     "metadata": {},
     "output_type": "execute_result"
    }
   ],
   "source": [
    "clustroid(c1)"
   ]
  },
  {
   "cell_type": "code",
   "execution_count": 505,
   "metadata": {
    "collapsed": false
   },
   "outputs": [
    {
     "data": {
      "text/plain": [
       "(5.0644951022459797,\n",
       " {(2, 2): 10.300563079745769,\n",
       "  (3, 4): 5.0644951022459797,\n",
       "  (5, 2): 16.128990204491959})"
      ]
     },
     "execution_count": 505,
     "metadata": {},
     "output_type": "execute_result"
    }
   ],
   "source": [
    "clustroid(c2)"
   ]
  },
  {
   "cell_type": "code",
   "execution_count": 506,
   "metadata": {
    "collapsed": false
   },
   "outputs": [
    {
     "data": {
      "text/plain": [
       "(8.7147766421188653,\n",
       " {(9, 3): 20.429553284237727,\n",
       "  (10, 5): 8.7147766421188653,\n",
       "  (11, 4): 27.730116363983498,\n",
       "  (12, 3): 37.972757051102782,\n",
       "  (12, 6): 49.687533693221653})"
      ]
     },
     "execution_count": 506,
     "metadata": {},
     "output_type": "execute_result"
    }
   ],
   "source": [
    "clustroid(c3)"
   ]
  },
  {
   "cell_type": "code",
   "execution_count": null,
   "metadata": {
    "collapsed": true
   },
   "outputs": [],
   "source": []
  }
 ],
 "metadata": {
  "kernelspec": {
   "display_name": "Python 2",
   "language": "python",
   "name": "python2"
  },
  "language_info": {
   "codemirror_mode": {
    "name": "ipython",
    "version": 2
   },
   "file_extension": ".py",
   "mimetype": "text/x-python",
   "name": "python",
   "nbconvert_exporter": "python",
   "pygments_lexer": "ipython2",
   "version": "2.7.11"
  }
 },
 "nbformat": 4,
 "nbformat_minor": 0
}
