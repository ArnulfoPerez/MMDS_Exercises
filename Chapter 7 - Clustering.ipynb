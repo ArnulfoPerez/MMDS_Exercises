{
 "cells": [
  {
   "cell_type": "markdown",
   "metadata": {},
   "source": [
    "## Contents\n",
    "- <a href='#7-1-1'>Exercise 7.1.1</a>\n",
    "- <a href='#7-1-2'>Exercise 7.1.2</a>\n",
    "- <a href='#7-2-1'>Exercise 7.2.1</a>"
   ]
  },
  {
   "cell_type": "code",
   "execution_count": 1,
   "metadata": {
    "collapsed": true
   },
   "outputs": [],
   "source": [
    "import numpy as np\n",
    "from __future__ import division"
   ]
  },
  {
   "cell_type": "markdown",
   "metadata": {},
   "source": [
    "<a id='7-1-1'></a>\n",
    "# 7.1.1 "
   ]
  },
  {
   "cell_type": "markdown",
   "metadata": {},
   "source": [
    "Monte Carlo Integration of E(|X-Y|) where X and Y are independent U(0,1) random variables."
   ]
  },
  {
   "cell_type": "code",
   "execution_count": 2,
   "metadata": {
    "collapsed": false
   },
   "outputs": [
    {
     "data": {
      "text/plain": [
       "0.33451502070000289"
      ]
     },
     "execution_count": 2,
     "metadata": {},
     "output_type": "execute_result"
    }
   ],
   "source": [
    "n = 100000\n",
    "sum = 0\n",
    "for i in range(n):\n",
    "    x = np.random.rand()\n",
    "    y = np.random.rand()\n",
    "    sum += np.abs(x-y)\n",
    "sum/n"
   ]
  },
  {
   "cell_type": "markdown",
   "metadata": {
    "collapsed": true
   },
   "source": [
    "<a id='7-1-2'></a>\n",
    "# 7.1.2 "
   ]
  },
  {
   "cell_type": "markdown",
   "metadata": {},
   "source": [
    "Simulation to estimate the expected Euclidean distance between two random points of a unit square."
   ]
  },
  {
   "cell_type": "code",
   "execution_count": 6,
   "metadata": {
    "collapsed": false
   },
   "outputs": [
    {
     "data": {
      "text/plain": [
       "0.33451502070000289"
      ]
     },
     "execution_count": 6,
     "metadata": {},
     "output_type": "execute_result"
    }
   ],
   "source": [
    "n = 100000\n",
    "sum_ed = 0\n",
    "for i in range(n):\n",
    "    x = np.random.rand(2)\n",
    "    y = np.random.rand(2)\n",
    "    sum_ed += np.sqrt((x[0]-y[0])**2+(x[1]-y[1])**2)\n",
    "sum/n"
   ]
  },
  {
   "cell_type": "markdown",
   "metadata": {},
   "source": [
    "<a id='7-2-1'></a>\n",
    "# 7.2.1"
   ]
  },
  {
   "cell_type": "code",
   "execution_count": 188,
   "metadata": {
    "collapsed": true
   },
   "outputs": [],
   "source": [
    "def Euclidean(x,y):\n",
    "    xc = np.array(x)\n",
    "    yc = np.array(y)\n",
    "    return np.sqrt(np.dot(xc-yc,xc-yc))"
   ]
  },
  {
   "cell_type": "code",
   "execution_count": 189,
   "metadata": {
    "collapsed": false
   },
   "outputs": [
    {
     "data": {
      "text/plain": [
       "3.6055512754639891"
      ]
     },
     "execution_count": 189,
     "metadata": {},
     "output_type": "execute_result"
    }
   ],
   "source": [
    "# sqrt[(4-1)^2+(4-2)^2]\n",
    "Euclidean(np.array([4,4]), np.array([1,2]))"
   ]
  },
  {
   "cell_type": "code",
   "execution_count": 190,
   "metadata": {
    "collapsed": false
   },
   "outputs": [
    {
     "data": {
      "text/plain": [
       "1.0"
      ]
     },
     "execution_count": 190,
     "metadata": {},
     "output_type": "execute_result"
    }
   ],
   "source": [
    "Euclidean([1],[0])"
   ]
  },
  {
   "cell_type": "code",
   "execution_count": 191,
   "metadata": {
    "collapsed": true
   },
   "outputs": [],
   "source": [
    "def mean(x):\n",
    "    \"\"\"\n",
    "    This function takes as input a lists of the clusters and outputs\n",
    "    the overall average of these clusters. This output is stored as\n",
    "    a tuple so that it can be used to access the cluster index.\n",
    "    \"\"\"\n",
    "    N = len(x)\n",
    "    n = len(x[0])\n",
    "    sum_vec = np.zeros(n)\n",
    "    for point in x:\n",
    "        sum_vec += np.array(point)\n",
    "    mean_vec = sum_vec / N\n",
    "    return tuple(mean_vec)\n",
    "\n",
    "# mean([[1],[2]])\n",
    "# mean([[1,2],[3,4],[5,6]])"
   ]
  },
  {
   "cell_type": "code",
   "execution_count": 295,
   "metadata": {
    "collapsed": false
   },
   "outputs": [],
   "source": [
    "def agg_(clusters, print_summary = True):\n",
    "    \"\"\"\n",
    "    This function takes as input a dictionary of clusters in \n",
    "    Euclidean space and returns the Agglomerative clustering. \n",
    "    The key of the dictionary is the centroid of the corresponding\n",
    "    cluster.\n",
    "    \n",
    "    Note that the clustering agglomerative clustering is done in\n",
    "    place with respect to the clusters list input.\n",
    "    \"\"\"\n",
    "    step = 1\n",
    "    while len(clusters) > 1:\n",
    "#     while step < 3:\n",
    "        # clusters hash table (use centroids as hash keys)\n",
    "        clusters_ix = {el[0]:i for i,el in enumerate(clusters)}\n",
    "        # double loop to consider the minimal distance between all pairs of clusters\n",
    "        n = len(clusters)\n",
    "        min_dist = 2**32-1\n",
    "        c1 = None\n",
    "        c2 = None\n",
    "        new_cluster = []\n",
    "        for i in range(n-1):\n",
    "            for j in range(i+1,n):\n",
    "                # the distance between centroids of cluster i and cluster j\n",
    "                distance_ij = Euclidean(clusters[i][0], clusters[j][0])\n",
    "                if distance_ij < min_dist:\n",
    "                    min_dist = distance_ij\n",
    "                    c1 = clusters[i]\n",
    "                    c2 = clusters[j]\n",
    "        # merge the two clusters that result in minimum Euclidean distance\n",
    "        new_cluster = c1[1] + c2[1]\n",
    "        new_centroid = mean(new_cluster)\n",
    "        clusters.append([new_centroid, new_cluster])\n",
    "        # remove the merged clusters from the list \n",
    "        del clusters[max(clusters_ix[c1[0]],clusters_ix[c2[0]])]\n",
    "        del clusters[min(clusters_ix[c1[0]],clusters_ix[c2[0]])]\n",
    "        if print_summary:\n",
    "            print 'Step %d:' % step\n",
    "            print 'Merged clusters: %s and %s' %(str(c1[1]),str(c2[1]))\n",
    "            print 'New clusters list:'\n",
    "            print [el[1] for el in clusters] \n",
    "            print 'New centroids:'\n",
    "            print [el[0][0] for el in clusters]\n",
    "            print ''\n",
    "            print '--------------------------------------------------------'\n",
    "            print ''\n",
    "        step += 1"
   ]
  },
  {
   "cell_type": "code",
   "execution_count": 296,
   "metadata": {
    "collapsed": false
   },
   "outputs": [
    {
     "data": {
      "text/plain": [
       "[[(1,), [[1]]],\n",
       " [(4,), [[4]]],\n",
       " [(9,), [[9]]],\n",
       " [(16,), [[16]]],\n",
       " [(25,), [[25]]],\n",
       " [(36,), [[36]]],\n",
       " [(49,), [[49]]],\n",
       " [(64,), [[64]]],\n",
       " [(81,), [[81]]]]"
      ]
     },
     "execution_count": 296,
     "metadata": {},
     "output_type": "execute_result"
    }
   ],
   "source": [
    "# an array storing centroid and cluster\n",
    "clusters = [[(i**2,), [[i**2]]] for i in range(1,10)]\n",
    "clusters"
   ]
  },
  {
   "cell_type": "code",
   "execution_count": 297,
   "metadata": {
    "collapsed": false
   },
   "outputs": [
    {
     "name": "stdout",
     "output_type": "stream",
     "text": [
      "Step 1:\n",
      "Merged clusters: [[1]] and [[4]]\n",
      "New clusters list:\n",
      "[[[9]], [[16]], [[25]], [[36]], [[49]], [[64]], [[81]], [[1], [4]]]\n",
      "New centroids:\n",
      "[9, 16, 25, 36, 49, 64, 81, 2.5]\n",
      "\n",
      "--------------------------------------------------------\n",
      "\n",
      "Step 2:\n",
      "Merged clusters: [[9]] and [[1], [4]]\n",
      "New clusters list:\n",
      "[[[16]], [[25]], [[36]], [[49]], [[64]], [[81]], [[9], [1], [4]]]\n",
      "New centroids:\n",
      "[16, 25, 36, 49, 64, 81, 4.666666666666667]\n",
      "\n",
      "--------------------------------------------------------\n",
      "\n",
      "Step 3:\n",
      "Merged clusters: [[16]] and [[25]]\n",
      "New clusters list:\n",
      "[[[36]], [[49]], [[64]], [[81]], [[9], [1], [4]], [[16], [25]]]\n",
      "New centroids:\n",
      "[36, 49, 64, 81, 4.666666666666667, 20.5]\n",
      "\n",
      "--------------------------------------------------------\n",
      "\n",
      "Step 4:\n",
      "Merged clusters: [[36]] and [[49]]\n",
      "New clusters list:\n",
      "[[[64]], [[81]], [[9], [1], [4]], [[16], [25]], [[36], [49]]]\n",
      "New centroids:\n",
      "[64, 81, 4.666666666666667, 20.5, 42.5]\n",
      "\n",
      "--------------------------------------------------------\n",
      "\n",
      "Step 5:\n",
      "Merged clusters: [[9], [1], [4]] and [[16], [25]]\n",
      "New clusters list:\n",
      "[[[64]], [[81]], [[36], [49]], [[9], [1], [4], [16], [25]]]\n",
      "New centroids:\n",
      "[64, 81, 42.5, 11.0]\n",
      "\n",
      "--------------------------------------------------------\n",
      "\n",
      "Step 6:\n",
      "Merged clusters: [[64]] and [[81]]\n",
      "New clusters list:\n",
      "[[[36], [49]], [[9], [1], [4], [16], [25]], [[64], [81]]]\n",
      "New centroids:\n",
      "[42.5, 11.0, 72.5]\n",
      "\n",
      "--------------------------------------------------------\n",
      "\n",
      "Step 7:\n",
      "Merged clusters: [[36], [49]] and [[64], [81]]\n",
      "New clusters list:\n",
      "[[[9], [1], [4], [16], [25]], [[36], [49], [64], [81]]]\n",
      "New centroids:\n",
      "[11.0, 57.5]\n",
      "\n",
      "--------------------------------------------------------\n",
      "\n",
      "Step 8:\n",
      "Merged clusters: [[9], [1], [4], [16], [25]] and [[36], [49], [64], [81]]\n",
      "New clusters list:\n",
      "[[[9], [1], [4], [16], [25], [36], [49], [64], [81]]]\n",
      "New centroids:\n",
      "[31.666666666666668]\n",
      "\n",
      "--------------------------------------------------------\n",
      "\n"
     ]
    }
   ],
   "source": [
    "agg_(clusters)"
   ]
  },
  {
   "cell_type": "code",
   "execution_count": 298,
   "metadata": {
    "collapsed": false
   },
   "outputs": [
    {
     "data": {
      "text/plain": [
       "[[(31.666666666666668,), [[9], [1], [4], [16], [25], [36], [49], [64], [81]]]]"
      ]
     },
     "execution_count": 298,
     "metadata": {},
     "output_type": "execute_result"
    }
   ],
   "source": [
    "#final clusters list\n",
    "clusters"
   ]
  }
 ],
 "metadata": {
  "kernelspec": {
   "display_name": "Python 2",
   "language": "python",
   "name": "python2"
  },
  "language_info": {
   "codemirror_mode": {
    "name": "ipython",
    "version": 2
   },
   "file_extension": ".py",
   "mimetype": "text/x-python",
   "name": "python",
   "nbconvert_exporter": "python",
   "pygments_lexer": "ipython2",
   "version": "2.7.11"
  }
 },
 "nbformat": 4,
 "nbformat_minor": 0
}
